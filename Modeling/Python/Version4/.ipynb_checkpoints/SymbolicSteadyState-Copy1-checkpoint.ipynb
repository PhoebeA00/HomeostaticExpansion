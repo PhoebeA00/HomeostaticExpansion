{
 "cells": [
  {
   "cell_type": "code",
   "execution_count": 2,
   "metadata": {},
   "outputs": [],
   "source": [
    "# from sympy.interactive import printing\n",
    "# printing.init_printing(use_late=True)\n",
    "# from sympy import *\n",
    "# import sympy as sp\n",
    "from sympy import var\n",
    "from sympy import solve"
   ]
  },
  {
   "cell_type": "code",
   "execution_count": 8,
   "metadata": {},
   "outputs": [],
   "source": [
    "#function that returns dy/dt\n",
    "N, T, I, R = var('N T I R')\n",
    "alpha, epsilon, a, c, b_R = var('alpha epsilon a c b_R')\n",
    "mu, beta, kA, n, g = var('mu beta kA n g')\n",
    "b_T = var('b_R')\n",
    "d, e_T, e_R, f = var('d e_T e_R f')"
   ]
  },
  {
   "cell_type": "code",
   "execution_count": null,
   "metadata": {},
   "outputs": [],
   "source": [
    "############\n",
    "#  Thymus  #\n",
    "############\n",
    "alpha = 0.006 #------------ T Regulatory Cells\n",
    "mu = 60   #---------- Naive T cells\n",
    "Thy = 1 #------------ Size of the thymus\n",
    "Thy_max = 1 #------- Max size of the thymus\n",
    "\n",
    "#########################################\n",
    "#  Naive T cell Differentiation Rates   #\n",
    "#########################################\n",
    "c = 0.01 #--------To T regulatory Cells\n",
    "beta = 10 #------ To activated T cells\n",
    "\n",
    "###########\n",
    "#  Tregs  #\n",
    "###########\n",
    "epsilon = 1 #------------T regulatory cell Self replication\n",
    "z       = 1 #------- Strength of suppression on Naive T cell differention to activation\n",
    "n       = 1 #hill coefficient\n",
    "kA      = 10 #halfSaturationRate \n",
    "\n",
    "##############################################\n",
    "#  IL-2 Cytokine Expression and Consumption  #\n",
    "##############################################\n",
    "# d = 0.01 #------- T Cell Expression\n",
    "a = 0.1   #------------Activated T cells\n",
    "e_T = 0.01 #------ T Cell Consumption Rate\n",
    "e_R = 0.01 #------ T Reg Consumption Rate\n",
    "\n",
    "##################\n",
    "#  Death Rates   #\n",
    "##################\n",
    "g = 0.01 #-----------Naive T cells\n",
    "b_T = 0.1 #-----------Activated T cells\n",
    "b_R = 0.1 #----------Regulatory T Cells\n",
    "f = 1 #-------------IL-2 Cytokine\n",
    "\n",
    "# N = 50\n",
    "T = 30\n",
    "# I = 0.5\n",
    "# R = 20"
   ]
  },
  {
   "cell_type": "code",
   "execution_count": null,
   "metadata": {},
   "outputs": [],
   "source": [
    "dRdt = alpha + (epsilon * a * I * R) + (c * N) - (b_R * R)\n",
    "dNdt = mu - beta*N*(1/(1+(R/kA)**n)) - c*N - g*N \n",
    "dTdt = beta*N*(1/(1+(R/kA)**n)) + a*I*T - b_T*T\n",
    "dIdt = d*T - e_T*I*T - e_R*I*R - f*I\n",
    "\n",
    "sols = solve([dRdt, dNdt, dTdt, dIdt], [R, N, T, I])"
   ]
  },
  {
   "cell_type": "code",
   "execution_count": 7,
   "metadata": {},
   "outputs": [
    {
     "data": {
      "text/plain": [
       "[]"
      ]
     },
     "execution_count": 7,
     "metadata": {},
     "output_type": "execute_result"
    }
   ],
   "source": [
    "sols"
   ]
  },
  {
   "cell_type": "code",
   "execution_count": null,
   "metadata": {},
   "outputs": [],
   "source": [
    "g = 5\n",
    "E1 = z * xdd + (xZ - x) * (g + zdd)\n",
    "E2 = z * ydd + (yZ - y) * (g + zdd) - Ldy\n",
    "E3 = -y * xdd + x * ydd - zZ * (g + zdd) + Ldz\n",
    "\n",
    "sols = solve([E1, E2, E3], [xdd, ydd, Ldy])"
   ]
  },
  {
   "cell_type": "code",
   "execution_count": null,
   "metadata": {},
   "outputs": [],
   "source": [
    "N, T, I, R, d = var('N T I R d')\n",
    "\n",
    "d "
   ]
  },
  {
   "cell_type": "code",
   "execution_count": null,
   "metadata": {},
   "outputs": [],
   "source": [
    "from sympy import var\n",
    "\n",
    "Ldy, Ldz = var('Ldy Ldz')\n",
    "g, x, y, z = var('g x y z')\n",
    "xZ, yZ, zZ = var('xZ yZ zZ')\n",
    "xdd, ydd, zdd = var('xdd ydd zdd')"
   ]
  },
  {
   "cell_type": "code",
   "execution_count": null,
   "metadata": {},
   "outputs": [],
   "source": [
    "sols[xdd]\n",
    "# print (\"xdd = \"), (sols[xdd]).factor()\n",
    "# print \"ydd = \", (sols[ydd]).factor()\n",
    "# print \"Ldy = \", (sols[Ldy]).factor()"
   ]
  },
  {
   "cell_type": "code",
   "execution_count": null,
   "metadata": {},
   "outputs": [],
   "source": [
    "def modelNew(ic,t,co):\n",
    "    # Initial conditions\n",
    "    N = ic[0] #N = naive T-cells\n",
    "    T = ic[1] #T = Activated T-cells\n",
    "    I = ic[2] #I = IL-2\n",
    "    R = ic[3] #R = TRegs\n",
    "    \n",
    "    # Constant Values\n",
    "    alpha   = co[0]\n",
    "    Thy     = co[1]\n",
    "    Thy_max = co[2]   \n",
    "    epsilon = co[3]\n",
    "    a       = co[4]\n",
    "    c       = co[5]\n",
    "    b_R     = co[6]\n",
    "    mu      = co[7]\n",
    "    beta    = co[8]\n",
    "    z       = co[9]\n",
    "    g       = co[10]\n",
    "    b_T     = co[11]\n",
    "    d       = co[12]\n",
    "    e_T     = co[13]\n",
    "    e_R     = co[14]\n",
    "    f       = co[15]\n",
    "    \n",
    "    #New parameters\n",
    "    kA      = co[16]\n",
    "    n       = co[17];\n",
    "    \n",
    "\n",
    "    \n",
    "    dRdt = alpha*(Thy/Thy_max) + epsilon*a*I*R + c*N - b_R*R\n",
    "    dNdt = mu*(Thy/Thy_max) - beta*N*(1/(1+(R/kA)**n)) - c*N - g*N \n",
    "    dTdt = beta*N*(1/(1+(R/kA)**n)) + a*I*T - b_T*T\n",
    "    dIdt = d*T - e_T*I*T - e_R*I*R - f*I\n",
    "    \n",
    "    \n",
    "    return [dNdt, dTdt, dIdt, dRdt]"
   ]
  },
  {
   "cell_type": "code",
   "execution_count": null,
   "metadata": {},
   "outputs": [],
   "source": []
  }
 ],
 "metadata": {
  "kernelspec": {
   "display_name": "Python 3",
   "language": "python",
   "name": "python3"
  },
  "language_info": {
   "codemirror_mode": {
    "name": "ipython",
    "version": 3
   },
   "file_extension": ".py",
   "mimetype": "text/x-python",
   "name": "python",
   "nbconvert_exporter": "python",
   "pygments_lexer": "ipython3",
   "version": "3.7.0"
  }
 },
 "nbformat": 4,
 "nbformat_minor": 2
}
