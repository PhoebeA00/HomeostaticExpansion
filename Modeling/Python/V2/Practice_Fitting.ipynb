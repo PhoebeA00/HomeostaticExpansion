{
 "cells": [
  {
   "cell_type": "code",
   "execution_count": null,
   "metadata": {},
   "outputs": [],
   "source": [
    "# Links\n",
    "# Hard one https://stackoverflow.com/questions/8780912/how-can-i-perform-a-least-squares-fitting-over-multiple-data-sets-fast?rq=1\n",
    "# "
   ]
  },
  {
   "cell_type": "code",
   "execution_count": 2,
   "metadata": {},
   "outputs": [],
   "source": [
    "import pylab as pp\n",
    "import numpy as np\n",
    "from scipy import integrate, interpolate\n",
    "from scipy import optimize"
   ]
  },
  {
   "cell_type": "code",
   "execution_count": 5,
   "metadata": {},
   "outputs": [
    {
     "data": {
      "text/plain": [
       "array([0.   , 0.416, 0.489, 0.595, 0.506, 0.493, 0.458, 0.394, 0.335,\n",
       "       0.309])"
      ]
     },
     "execution_count": 5,
     "metadata": {},
     "output_type": "execute_result"
    }
   ],
   "source": [
    "y_data"
   ]
  },
  {
   "cell_type": "code",
   "execution_count": 11,
   "metadata": {},
   "outputs": [
    {
     "ename": "NameError",
     "evalue": "name 'generate_data' is not defined",
     "output_type": "error",
     "traceback": [
      "\u001b[0;31m---------------------------------------------------------------------------\u001b[0m",
      "\u001b[0;31mNameError\u001b[0m                                 Traceback (most recent call last)",
      "\u001b[0;32m<ipython-input-11-4f46b95f2e66>\u001b[0m in \u001b[0;36m<module>\u001b[0;34m()\u001b[0m\n\u001b[1;32m      3\u001b[0m \u001b[0;32mimport\u001b[0m \u001b[0mmatplotlib\u001b[0m \u001b[0;32mas\u001b[0m \u001b[0mmpl\u001b[0m\u001b[0;34m\u001b[0m\u001b[0m\n\u001b[1;32m      4\u001b[0m \u001b[0;32mimport\u001b[0m \u001b[0mitertools\u001b[0m\u001b[0;34m\u001b[0m\u001b[0m\n\u001b[0;32m----> 5\u001b[0;31m \u001b[0mx\u001b[0m\u001b[0;34m,\u001b[0m \u001b[0mdata\u001b[0m \u001b[0;34m=\u001b[0m \u001b[0mgenerate_data\u001b[0m\u001b[0;34m(\u001b[0m\u001b[0;36m256\u001b[0m\u001b[0;34m,\u001b[0m \u001b[0;36m6\u001b[0m\u001b[0;34m)\u001b[0m\u001b[0;34m\u001b[0m\u001b[0m\n\u001b[0m",
      "\u001b[0;31mNameError\u001b[0m: name 'generate_data' is not defined"
     ]
    }
   ],
   "source": [
    "import numpy as np\n",
    "import matplotlib.pyplot as plt\n",
    "import matplotlib as mpl\n",
    "import itertools\n",
    "x, data = generate_data(256, 6)"
   ]
  },
  {
   "cell_type": "code",
   "execution_count": 14,
   "metadata": {},
   "outputs": [],
   "source": [
    "def generate_data(numpoints, numcurves, noise=None):\n",
    "    np.random.seed(3)\n",
    "    x = np.linspace(0, 500, numpoints)\n",
    "\n",
    "    height = 7000 * np.random.random(numcurves)\n",
    "    mu = 1100 * np.random.random(numcurves) \n",
    "    sigma = 100 * np.random.random(numcurves) + 0.1\n",
    "    data = gaussian(x, sigma, mu, height)\n",
    "\n",
    "    if noise is None:\n",
    "        noise = 0.1 * height.max()\n",
    "    noise = noise * (np.random.random(data.shape) - 0.5)\n",
    "    return x, data + noise\n",
    "def gaussian(x, sigma, mu, height):\n",
    "    data = -np.subtract.outer(x, mu)**2 / (2 * sigma**2)\n",
    "    return height * np.exp(data)\n"
   ]
  },
  {
   "cell_type": "code",
   "execution_count": 15,
   "metadata": {},
   "outputs": [],
   "source": [
    "x, data = generate_data(256, 6)"
   ]
  },
  {
   "cell_type": "code",
   "execution_count": 19,
   "metadata": {},
   "outputs": [
    {
     "data": {
      "text/plain": [
       "array([[ 252.32212665,  -53.26594726, 1300.03585979,  121.17572698,\n",
       "         -37.35964493, -215.28295222],\n",
       "       [ 457.88110049,  175.87093031, 1348.92267961, -174.44505894,\n",
       "         -70.28741133,  273.78935465],\n",
       "       [ 756.33418045,  108.15440816, 1757.27933281,  216.9258815 ,\n",
       "         -76.5471683 , -255.84515371],\n",
       "       ...,\n",
       "       [  46.90425555,  117.34247112,  -40.67079437, 3360.48067864,\n",
       "          13.55049108, 6420.59390718],\n",
       "       [ -56.17423982,  117.99201219, -155.1879727 , 3419.54021233,\n",
       "         277.1578673 , 5982.58227405],\n",
       "       [ 259.94299161, -280.85172509,  195.49650005, 3384.13733348,\n",
       "         126.22498916, 6098.90973898]])"
      ]
     },
     "execution_count": 19,
     "metadata": {},
     "output_type": "execute_result"
    }
   ],
   "source": [
    "data"
   ]
  },
  {
   "cell_type": "code",
   "execution_count": 3,
   "metadata": {},
   "outputs": [],
   "source": [
    "##initialize the data\n",
    "x_data = np.linspace(0,9,10)\n",
    "y_data = np.array([0.000,0.416,0.489,0.595,0.506,0.493,0.458,0.394,0.335,0.309])"
   ]
  },
  {
   "cell_type": "code",
   "execution_count": null,
   "metadata": {},
   "outputs": [],
   "source": [
    "def f(y, t, k): \n",
    "    \"\"\"define the ODE system in terms of \n",
    "        dependent variable y - or the changing cell populations and initial conditions\n",
    "        independent variable t, and\n",
    "        optional parmeters, in this case a single variable k\"\"\"\n",
    "    return (-k[0]*y[0],\n",
    "          k[0]*y[0]-k[1]*y[1],\n",
    "          k[1]*y[1])"
   ]
  },
  {
   "cell_type": "code",
   "execution_count": null,
   "metadata": {},
   "outputs": [],
   "source": [
    "def my_ls_func(x,teta):\n",
    "    \"\"\"definition of function for LS fit\n",
    "        x gives evaluation points,\n",
    "        teta is an array of parameters to be varied for fit\"\"\"\n",
    "    # create an alias to f which passes the optional params \n",
    "    ## Creates a temporary function of function f, and feeds it\n",
    "    ## the values y are given by y0, and t given by x. \n",
    "#     Where are these values coming from?\n",
    "    f2 = lambda y,t: f(y, t, teta)\n",
    "    # calculate ode solution, retuen values for each entry of \"x\"\n",
    "    ## y0 = initial conditions, x = time\n",
    "#     Where does y0 get defined? - **Defined below**\n",
    "    r = integrate.odeint(f2,y0,x)\n",
    "    #in this case, we only need one of the dependent variable values\n",
    "    return r[:,1]"
   ]
  },
  {
   "cell_type": "code",
   "execution_count": 6,
   "metadata": {},
   "outputs": [],
   "source": [
    "def f_resid(p):\n",
    "    \"\"\" function to pass to optimize.leastsq\n",
    "        The routine will square and sum the values returned by \n",
    "        this function\"\"\" \n",
    "    return y_data-my_ls_func(x_data,p)"
   ]
  },
  {
   "cell_type": "code",
   "execution_count": 8,
   "metadata": {},
   "outputs": [
    {
     "name": "stdout",
     "output_type": "stream",
     "text": [
      "parameter values are  [0.5221712 0.181713 ]\n"
     ]
    },
    {
     "data": {
      "image/png": "[encoded data removed]",
      "text/plain": [
       "<Figure size 432x288 with 1 Axes>"
      ]
     },
     "metadata": {
      "needs_background": "light"
     },
     "output_type": "display_data"
    }
   ],
   "source": [
    "#solve the system - the solution is in variable c\n",
    "guess = [0.2,0.3] #initial guess for params\n",
    "y0 = [1,0,0] #inital conditions for ODEs\n",
    "(c,kvg) = optimize.leastsq(f_resid, guess) #get params\n",
    "\n",
    "print (\"parameter values are \",c)\n",
    "\n",
    "# fit ODE results to interpolating spline just for fun\n",
    "xeval=np.linspace(min(x_data), max(x_data),30) \n",
    "gls = interpolate.UnivariateSpline(xeval, my_ls_func(xeval,c), k=3, s=0)\n",
    "\n",
    "#pick a few more points for a very smooth curve, then plot \n",
    "#   data and curve fit\n",
    "xeval=np.linspace(min(x_data), max(x_data),200)\n",
    "#Plot of the data as red dots and fit as blue line\n",
    "pp.plot(x_data, y_data,'.r',xeval,gls(xeval),'-b')\n",
    "pp.xlabel('xlabel',{\"fontsize\":16})\n",
    "pp.ylabel(\"ylabel\",{\"fontsize\":16})\n",
    "pp.legend(('data','fit'),loc=0)\n",
    "pp.show()"
   ]
  }
 ],
 "metadata": {
  "kernelspec": {
   "display_name": "Python 3",
   "language": "python",
   "name": "python3"
  },
  "language_info": {
   "codemirror_mode": {
    "name": "ipython",
    "version": 3
   },
   "file_extension": ".py",
   "mimetype": "text/x-python",
   "name": "python",
   "nbconvert_exporter": "python",
   "pygments_lexer": "ipython3",
   "version": "3.7.0"
  }
 },
 "nbformat": 4,
 "nbformat_minor": 2
}
