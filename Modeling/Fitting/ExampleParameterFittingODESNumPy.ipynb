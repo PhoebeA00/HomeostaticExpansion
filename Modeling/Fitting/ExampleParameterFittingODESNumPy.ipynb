{
 "cells": [
  {
   "cell_type": "code",
   "execution_count": 1,
   "metadata": {},
   "outputs": [],
   "source": [
    "import numpy as np\n",
    "import matplotlib.pyplot as plt\n",
    "from scipy.integrate import odeint\n",
    "from lmfit import minimize, Parameters, Parameter, report_fit\n",
    "from scipy.integrate import odeint"
   ]
  },
  {
   "cell_type": "code",
   "execution_count": 68,
   "metadata": {},
   "outputs": [
    {
     "name": "stdout",
     "output_type": "stream",
     "text": [
      "[[Fit Statistics]]\n",
      "    # fitting method   = leastsq\n",
      "    # function evals   = 16\n",
      "    # data points      = 10\n",
      "    # variables        = 2\n",
      "    chi-square         = 0.00505747\n",
      "    reduced chi-square = 6.3218e-04\n",
      "    Akaike info crit   = -71.8947443\n",
      "    Bayesian info crit = -71.2895741\n",
      "[[Variables]]\n",
      "    x10:  5 (fixed)\n",
      "    x20:  0 (fixed)\n",
      "    x30:  0 (fixed)\n",
      "    k0:   0.12183302 +/- 0.00590992 (4.85%) (init = 0.2)\n",
      "    k1:   0.77583947 +/- 0.02663943 (3.43%) (init = 0.3)\n",
      "[[Correlations]] (unreported correlations are < 0.100)\n",
      "    C(k0, k1) =  0.809\n"
     ]
    },
    {
     "data": {
      "image/png": "[encoded data removed]",
      "text/plain": [
       "<Figure size 432x288 with 1 Axes>"
      ]
     },
     "metadata": {
      "needs_background": "light"
     },
     "output_type": "display_data"
    }
   ],
   "source": [
    "def f(y, t, paras):\n",
    "    \"\"\"\n",
    "    Your system of differential equations\n",
    "    \"\"\"\n",
    "\n",
    "    x1 = y[0]\n",
    "    x2 = y[1]\n",
    "    x3 = y[2]\n",
    "\n",
    "    try:\n",
    "        k0 = paras['k0'].value\n",
    "        k1 = paras['k1'].value\n",
    "\n",
    "    except KeyError:\n",
    "        k0, k1 = paras\n",
    "    # the model equations\n",
    "    f0 = -k0 * x1\n",
    "    f1 = k0 * x1 - k1 * x2\n",
    "    f2 = k1 * x2\n",
    "    return [f0, f1, f2]\n",
    "\n",
    "\n",
    "def g(t, x0, paras):\n",
    "    \"\"\"\n",
    "    Solution to the ODE x'(t) = f(t,x,k) with initial condition x(0) = x0\n",
    "    \"\"\"\n",
    "    x = odeint(f, x0, t, args=(paras,))\n",
    "    return x\n",
    "\n",
    "\n",
    "def residual(paras, t, data):\n",
    "\n",
    "    \"\"\"\n",
    "    compute the residual between actual data and fitted data\n",
    "    \"\"\"\n",
    "\n",
    "    x0 = paras['x10'].value, paras['x20'].value, paras['x30'].value\n",
    "    model = g(t, x0, paras)\n",
    "\n",
    "    # you only have data for one of your variables\n",
    "    x2_model = model[:, 1]\n",
    "    return (x2_model - data).ravel()\n",
    "\n",
    "\n",
    "# initial conditions\n",
    "x10 = 5.\n",
    "x20 = 0\n",
    "x30 = 0\n",
    "y0 = [x10, x20, x30]\n",
    "\n",
    "# measured data\n",
    "#Notice you do not have data at ALL times\n",
    "#YOu do not have data for ALL variables\n",
    "t_measured = np.linspace(0, 9, 10)\n",
    "x2_measured = np.array([0.000, 0.416, 0.489, 0.595, 0.506, 0.493, 0.458, 0.394, 0.335, 0.309])\n",
    "\n",
    "plt.figure()\n",
    "plt.scatter(t_measured, x2_measured, marker='o', color='b', label='measured data', s=75)\n",
    "\n",
    "# set parameters including bounds; you can also fix parameters (use vary=False)\n",
    "params = Parameters()\n",
    "#Initial conditions ARE parameters. They assume they know the initial conditions;\n",
    "params.add('x10', value=x10, vary=False)\n",
    "params.add('x20', value=x20, vary=False)\n",
    "params.add('x30', value=x30, vary=False)\n",
    "\n",
    "#These are the two kinetic rates, they do not know them. \n",
    "params.add('k0', value=0.2, min=0.0001, max=2.)\n",
    "params.add('k1', value=0.3, min=0.0001, max=2.)\n",
    "\n",
    "# fit model\n",
    "#This next line DOES the minimization\n",
    "result = minimize(residual, params, args=(t_measured, x2_measured), method='leastsq')  # leastsq nelder\n",
    "\n",
    "# check results of the fit\n",
    "data_fitted = g(np.linspace(0., 9., 100), y0, result.params)\n",
    "\n",
    "# plot fitted data\n",
    "plt.plot(np.linspace(0., 9., 100), data_fitted[:, 1], '-', linewidth=2, color='red', label='fitted data')\n",
    "plt.legend()\n",
    "plt.xlim([0, max(t_measured)])\n",
    "plt.ylim([0, 1.1 * max(data_fitted[:, 1])])\n",
    "# display fitted statistics\n",
    "report_fit(result)\n",
    "\n",
    "plt.show()"
   ]
  },
  {
   "cell_type": "code",
   "execution_count": 44,
   "metadata": {},
   "outputs": [
    {
     "data": {
      "text/plain": [
       "array([ 0.,  1.,  2.,  3.,  4.,  5.,  6.,  7.,  8.,  9., 10., 11., 12.,\n",
       "       13., 14., 15., 16., 17., 18., 19.])"
      ]
     },
     "execution_count": 44,
     "metadata": {},
     "output_type": "execute_result"
    }
   ],
   "source": [
    "np.linspace(0, 19, 20)"
   ]
  },
  {
   "cell_type": "code",
   "execution_count": 11,
   "metadata": {},
   "outputs": [],
   "source": [
    "paras = [\"0\",\"1\"]"
   ]
  },
  {
   "cell_type": "code",
   "execution_count": 12,
   "metadata": {},
   "outputs": [
    {
     "data": {
      "text/plain": [
       "'0'"
      ]
     },
     "execution_count": 12,
     "metadata": {},
     "output_type": "execute_result"
    }
   ],
   "source": [
    "paras[0]"
   ]
  },
  {
   "cell_type": "code",
   "execution_count": 2,
   "metadata": {},
   "outputs": [],
   "source": [
    "x10 = 5.\n",
    "x20 = 0\n",
    "x30 = 0\n",
    "y0 = [x10, x20, x30]"
   ]
  },
  {
   "cell_type": "code",
   "execution_count": 23,
   "metadata": {},
   "outputs": [],
   "source": [
    "# set parameters including bounds; you can also fix parameters (use vary=False)\n",
    "params = Parameters()"
   ]
  },
  {
   "cell_type": "code",
   "execution_count": 24,
   "metadata": {},
   "outputs": [
    {
     "data": {
      "text/html": [
       "<table><tr><th> name </th><th> value </th><th> initial value </th><th> min </th><th> max </th><th> vary </th></tr></table>"
      ],
      "text/plain": [
       "Parameters()"
      ]
     },
     "execution_count": 24,
     "metadata": {},
     "output_type": "execute_result"
    }
   ],
   "source": [
    "params"
   ]
  },
  {
   "cell_type": "code",
   "execution_count": 25,
   "metadata": {},
   "outputs": [],
   "source": [
    "#Initial conditions ARE parameters. They assume they know the initial conditions;\n",
    "params.add('x10', value=x10, vary=False)\n",
    "params.add('x20', value=x20, vary=False)\n",
    "params.add('x30', value=x30, vary=False)"
   ]
  },
  {
   "cell_type": "code",
   "execution_count": 26,
   "metadata": {},
   "outputs": [
    {
     "data": {
      "text/html": [
       "<table><tr><th> name </th><th> value </th><th> initial value </th><th> min </th><th> max </th><th> vary </th></tr><tr><td> x10 </td><td>  5.00000000 </td><td> 5.0 </td><td>        -inf </td><td>         inf </td><td> False </td></tr><tr><td> x20 </td><td>  0.00000000 </td><td> 0 </td><td>        -inf </td><td>         inf </td><td> False </td></tr><tr><td> x30 </td><td>  0.00000000 </td><td> 0 </td><td>        -inf </td><td>         inf </td><td> False </td></tr></table>"
      ],
      "text/plain": [
       "Parameters([('x10', <Parameter 'x10', value=5.0 (fixed), bounds=[-inf:inf]>),\n",
       "            ('x20', <Parameter 'x20', value=0 (fixed), bounds=[-inf:inf]>),\n",
       "            ('x30', <Parameter 'x30', value=0 (fixed), bounds=[-inf:inf]>)])"
      ]
     },
     "execution_count": 26,
     "metadata": {},
     "output_type": "execute_result"
    }
   ],
   "source": [
    "params"
   ]
  },
  {
   "cell_type": "code",
   "execution_count": 27,
   "metadata": {},
   "outputs": [],
   "source": [
    "#These are the two kinetic rates, they do not know them. \n",
    "params.add('k0', value=0.2, min=0.0001, max=2.)\n",
    "params.add('k1', value=0.3, min=0.0001, max=2.)"
   ]
  },
  {
   "cell_type": "code",
   "execution_count": 28,
   "metadata": {},
   "outputs": [
    {
     "data": {
      "text/html": [
       "<table><tr><th> name </th><th> value </th><th> initial value </th><th> min </th><th> max </th><th> vary </th></tr><tr><td> x10 </td><td>  5.00000000 </td><td> 5.0 </td><td>        -inf </td><td>         inf </td><td> False </td></tr><tr><td> x20 </td><td>  0.00000000 </td><td> 0 </td><td>        -inf </td><td>         inf </td><td> False </td></tr><tr><td> x30 </td><td>  0.00000000 </td><td> 0 </td><td>        -inf </td><td>         inf </td><td> False </td></tr><tr><td> k0 </td><td>  0.20000000 </td><td> 0.2 </td><td>  1.0000e-04 </td><td>  2.00000000 </td><td> True </td></tr><tr><td> k1 </td><td>  0.30000000 </td><td> 0.3 </td><td>  1.0000e-04 </td><td>  2.00000000 </td><td> True </td></tr></table>"
      ],
      "text/plain": [
       "Parameters([('x10', <Parameter 'x10', value=5.0 (fixed), bounds=[-inf:inf]>),\n",
       "            ('x20', <Parameter 'x20', value=0 (fixed), bounds=[-inf:inf]>),\n",
       "            ('x30', <Parameter 'x30', value=0 (fixed), bounds=[-inf:inf]>),\n",
       "            ('k0', <Parameter 'k0', value=0.2, bounds=[0.0001:2.0]>),\n",
       "            ('k1', <Parameter 'k1', value=0.3, bounds=[0.0001:2.0]>)])"
      ]
     },
     "execution_count": 28,
     "metadata": {},
     "output_type": "execute_result"
    }
   ],
   "source": [
    "params"
   ]
  },
  {
   "cell_type": "code",
   "execution_count": 32,
   "metadata": {
    "scrolled": true
   },
   "outputs": [
    {
     "ename": "ValueError",
     "evalue": "too many values to unpack (expected 2)",
     "output_type": "error",
     "traceback": [
      "\u001b[0;31m---------------------------------------------------------------------------\u001b[0m",
      "\u001b[0;31mKeyError\u001b[0m                                  Traceback (most recent call last)",
      "\u001b[0;32m<ipython-input-32-f746c5d88c7c>\u001b[0m in \u001b[0;36m<module>\u001b[0;34m()\u001b[0m\n\u001b[1;32m      1\u001b[0m \u001b[0;32mtry\u001b[0m\u001b[0;34m:\u001b[0m\u001b[0;34m\u001b[0m\u001b[0m\n\u001b[0;32m----> 2\u001b[0;31m     \u001b[0mk0\u001b[0m \u001b[0;34m=\u001b[0m \u001b[0mparams\u001b[0m\u001b[0;34m[\u001b[0m\u001b[0;34m'k'\u001b[0m\u001b[0;34m]\u001b[0m\u001b[0;34m.\u001b[0m\u001b[0mvalue\u001b[0m\u001b[0;34m\u001b[0m\u001b[0m\n\u001b[0m\u001b[1;32m      3\u001b[0m     \u001b[0mk1\u001b[0m \u001b[0;34m=\u001b[0m \u001b[0mparams\u001b[0m\u001b[0;34m[\u001b[0m\u001b[0;34m'k1'\u001b[0m\u001b[0;34m]\u001b[0m\u001b[0;34m.\u001b[0m\u001b[0mvalue\u001b[0m\u001b[0;34m\u001b[0m\u001b[0m\n",
      "\u001b[0;31mKeyError\u001b[0m: 'k'",
      "\nDuring handling of the above exception, another exception occurred:\n",
      "\u001b[0;31mValueError\u001b[0m                                Traceback (most recent call last)",
      "\u001b[0;32m<ipython-input-32-f746c5d88c7c>\u001b[0m in \u001b[0;36m<module>\u001b[0;34m()\u001b[0m\n\u001b[1;32m      3\u001b[0m     \u001b[0mk1\u001b[0m \u001b[0;34m=\u001b[0m \u001b[0mparams\u001b[0m\u001b[0;34m[\u001b[0m\u001b[0;34m'k1'\u001b[0m\u001b[0;34m]\u001b[0m\u001b[0;34m.\u001b[0m\u001b[0mvalue\u001b[0m\u001b[0;34m\u001b[0m\u001b[0m\n\u001b[1;32m      4\u001b[0m \u001b[0;32mexcept\u001b[0m \u001b[0mKeyError\u001b[0m\u001b[0;34m:\u001b[0m\u001b[0;34m\u001b[0m\u001b[0m\n\u001b[0;32m----> 5\u001b[0;31m     \u001b[0mk0\u001b[0m\u001b[0;34m,\u001b[0m \u001b[0mk1\u001b[0m \u001b[0;34m=\u001b[0m \u001b[0mparams\u001b[0m\u001b[0;34m\u001b[0m\u001b[0m\n\u001b[0m",
      "\u001b[0;31mValueError\u001b[0m: too many values to unpack (expected 2)"
     ]
    }
   ],
   "source": [
    "try:\n",
    "    k0 = paras['k0'].value\n",
    "    k1 = paras['k1'].value\n",
    "except KeyError:\n",
    "    k0, k1 = paras"
   ]
  },
  {
   "cell_type": "code",
   "execution_count": 31,
   "metadata": {},
   "outputs": [
    {
     "data": {
      "text/plain": [
       "0.2"
      ]
     },
     "execution_count": 31,
     "metadata": {},
     "output_type": "execute_result"
    }
   ],
   "source": [
    "k0"
   ]
  },
  {
   "cell_type": "code",
   "execution_count": 37,
   "metadata": {
    "scrolled": true
   },
   "outputs": [
    {
     "data": {
      "text/plain": [
       "array([0., 1., 2., 3., 4., 5., 6., 7., 8., 9.])"
      ]
     },
     "execution_count": 37,
     "metadata": {},
     "output_type": "execute_result"
    }
   ],
   "source": [
    "t_measured"
   ]
  },
  {
   "cell_type": "code",
   "execution_count": 48,
   "metadata": {
    "scrolled": true
   },
   "outputs": [
    {
     "data": {
      "text/plain": [
       "432"
      ]
     },
     "execution_count": 48,
     "metadata": {},
     "output_type": "execute_result"
    }
   ],
   "source": [
    "18 * 24"
   ]
  },
  {
   "cell_type": "code",
   "execution_count": 60,
   "metadata": {},
   "outputs": [],
   "source": [
    "u = np.array([4.0, np.nan, 2.0, 1.0, 5.0e-1, 2.5e-1, 1.67e-1, 1.25e-1, 1.0e-1, 8.33e-2, 7.14e-2, 6.25e-2])\n",
    "y = np.array([1.957e-1, 1.947e-1, 1.735e-1, 1.6e-1, 8.44e-2, 6.27e-2, 4.56e-2, 3.42e-2, 3.23e-2, 2.35e-2, 2.46e-2])\n",
    "x0 = np.array([2.5, 3.9, 4.15, 3.9])"
   ]
  },
  {
   "cell_type": "code",
   "execution_count": 61,
   "metadata": {},
   "outputs": [
    {
     "data": {
      "text/plain": [
       "array([4.    ,    nan, 2.    , 1.    , 0.5   , 0.25  , 0.167 , 0.125 ,\n",
       "       0.1   , 0.0833, 0.0714, 0.0625])"
      ]
     },
     "execution_count": 61,
     "metadata": {},
     "output_type": "execute_result"
    }
   ],
   "source": [
    "u"
   ]
  },
  {
   "cell_type": "code",
   "execution_count": 54,
   "metadata": {},
   "outputs": [
    {
     "data": {
      "text/plain": [
       "array([0.1957, 0.1947, 0.1735, 0.16  , 0.0844, 0.0627, 0.0456, 0.0342,\n",
       "       0.0323, 0.0235, 0.0246])"
      ]
     },
     "execution_count": 54,
     "metadata": {},
     "output_type": "execute_result"
    }
   ],
   "source": [
    "y"
   ]
  },
  {
   "cell_type": "code",
   "execution_count": 73,
   "metadata": {},
   "outputs": [
    {
     "name": "stdout",
     "output_type": "stream",
     "text": [
      "[[Fit Statistics]]\n",
      "    # fitting method   = leastsq\n",
      "    # function evals   = 16\n",
      "    # data points      = 10\n",
      "    # variables        = 2\n",
      "    chi-square         = 0.00352157\n",
      "    reduced chi-square = 4.4020e-04\n",
      "    Akaike info crit   = -75.5143263\n",
      "    Bayesian info crit = -74.9091561\n",
      "[[Variables]]\n",
      "    x10:  5 (fixed)\n",
      "    x20:  0 (fixed)\n",
      "    x30:  0 (fixed)\n",
      "    k0:   0.07095162 +/- 0.00286405 (4.04%) (init = 0.2)\n",
      "    k1:   0.45848184 +/- 0.01343007 (2.93%) (init = 0.3)\n",
      "[[Correlations]] (unreported correlations are < 0.100)\n",
      "    C(k0, k1) =  0.815\n"
     ]
    },
    {
     "data": {
      "image/png": "[encoded data removed]",
      "text/plain": [
       "<Figure size 432x288 with 1 Axes>"
      ]
     },
     "metadata": {
      "needs_background": "light"
     },
     "output_type": "display_data"
    }
   ],
   "source": [
    "def f(y, t, paras):\n",
    "    \"\"\"\n",
    "    Your system of differential equations\n",
    "    \"\"\"\n",
    "    #Set parameters\n",
    "    x1 = y[0]\n",
    "    x2 = y[1]\n",
    "    x3 = y[2]\n",
    "\n",
    "    try:\n",
    "        k0 = paras['k0'].value\n",
    "        k1 = paras['k1'].value\n",
    "\n",
    "    except KeyError:\n",
    "        k0, k1 = paras\n",
    "    # the model equations\n",
    "    f0 = -k0 * x1\n",
    "    f1 = k0 * x1 - k1 * x2\n",
    "    f2 = k1 * x2\n",
    "    return [f0, f1, f2]\n",
    "\n",
    "\n",
    "def g(t, x0, paras):\n",
    "    \"\"\"\n",
    "    Solution to the ODE x'(t) = f(t,x,k) with initial condition x(0) = x0\n",
    "    \"\"\"\n",
    "    x = odeint(f, x0, t, args=(paras,))\n",
    "    return x\n",
    "\n",
    "\n",
    "def residual(paras, t, data):\n",
    "\n",
    "    \"\"\"\n",
    "    compute the residual between actual data and fitted data\n",
    "    \"\"\"\n",
    "\n",
    "    x0 = paras['x10'].value, paras['x20'].value, paras['x30'].value\n",
    "    model = g(t, x0, paras)\n",
    "\n",
    "    # you only have data for one of your variables\n",
    "    x2_model = model[:, 1]\n",
    "    return (x2_model - data).ravel()\n",
    "\n",
    "\n",
    "# initial conditions\n",
    "x10 = 5.\n",
    "x20 = 0\n",
    "x30 = 0\n",
    "y0 = [x10, x20, x30]\n",
    "\n",
    "# measured data\n",
    "#Notice you do not have data at ALL times\n",
    "#YOu do not have data for ALL variables\n",
    "t_measured = np.linspace(0, 15, 16)\n",
    "x2_measured = np.array([0.000, np.nan, 0.416, 0.489, np.nan, 0.595, np.nan, 0.506, 0.493, np.nan,\n",
    "                        0.458, 0.394, np.nan, np.nan, 0.335, 0.309])\n",
    "\n",
    "plt.figure()\n",
    "plt.scatter(t_measured, x2_measured, marker='o', color='b', label='measured data', s=75)\n",
    "\n",
    "# set parameters including bounds; you can also fix parameters (use vary=False)\n",
    "params = Parameters()\n",
    "#Initial conditions ARE parameters. They assume they know the initial conditions;\n",
    "params.add('x10', value=x10, vary=False)\n",
    "params.add('x20', value=x20, vary=False)\n",
    "params.add('x30', value=x30, vary=False)\n",
    "\n",
    "#These are the two kinetic rates, they do not know them. \n",
    "params.add('k0', value=0.2, min=0.0001, max=2.)\n",
    "params.add('k1', value=0.3, min=0.0001, max=2.)\n",
    "\n",
    "# fit model\n",
    "#This next line DOES the minimization\n",
    "result = minimize(residual, params, args=(t_measured, x2_measured), method='leastsq', nan_policy='omit')  # leastsq nelder\n",
    "\n",
    "# check results of the fit\n",
    "data_fitted = g(np.linspace(0., 15., 100), y0, result.params)\n",
    "\n",
    "# plot fitted data\n",
    "plt.plot(np.linspace(0., 15., 100), data_fitted[:, 1], '-', linewidth=2, color='red', label='fitted data')\n",
    "plt.legend()\n",
    "plt.xlim([0, max(t_measured)])\n",
    "plt.ylim([0, 1.1 * max(data_fitted[:, 1])])\n",
    "# display fitted statistics\n",
    "report_fit(result)\n",
    "\n",
    "plt.show()"
   ]
  },
  {
   "cell_type": "code",
   "execution_count": 74,
   "metadata": {},
   "outputs": [
    {
     "data": {
      "text/html": [
       "<table><tr><th> name </th><th> value </th><th> initial value </th><th> min </th><th> max </th><th> vary </th></tr><tr><td> x10 </td><td>  5.00000000 </td><td> 5.0 </td><td>        -inf </td><td>         inf </td><td> False </td></tr><tr><td> x20 </td><td>  0.00000000 </td><td> 0 </td><td>        -inf </td><td>         inf </td><td> False </td></tr><tr><td> x30 </td><td>  0.00000000 </td><td> 0 </td><td>        -inf </td><td>         inf </td><td> False </td></tr><tr><td> k0 </td><td>  0.20000000 </td><td> 0.2 </td><td>  1.0000e-04 </td><td>  2.00000000 </td><td> True </td></tr><tr><td> k1 </td><td>  0.30000000 </td><td> 0.3 </td><td>  1.0000e-04 </td><td>  2.00000000 </td><td> True </td></tr></table>"
      ],
      "text/plain": [
       "Parameters([('x10', <Parameter 'x10', value=5.0 (fixed), bounds=[-inf:inf]>),\n",
       "            ('x20', <Parameter 'x20', value=0 (fixed), bounds=[-inf:inf]>),\n",
       "            ('x30', <Parameter 'x30', value=0 (fixed), bounds=[-inf:inf]>),\n",
       "            ('k0', <Parameter 'k0', value=0.2, bounds=[0.0001:2.0]>),\n",
       "            ('k1', <Parameter 'k1', value=0.3, bounds=[0.0001:2.0]>)])"
      ]
     },
     "execution_count": 74,
     "metadata": {},
     "output_type": "execute_result"
    }
   ],
   "source": [
    "params"
   ]
  },
  {
   "cell_type": "code",
   "execution_count": 84,
   "metadata": {},
   "outputs": [
    {
     "data": {
      "text/plain": [
       "array([0.00000000e+00, 1.81793394e-03, 7.08228365e-03, 1.55236291e-02,\n",
       "       2.68909968e-02, 4.09507366e-02, 5.74851598e-02, 7.62916683e-02,\n",
       "       9.71816203e-02, 1.19979427e-01, 1.44521663e-01, 1.70656250e-01,\n",
       "       1.98241699e-01, 2.27146369e-01, 2.57247805e-01, 2.88432177e-01,\n",
       "       3.20593643e-01, 3.53633792e-01, 3.87461181e-01, 4.21990858e-01,\n",
       "       4.57143909e-01, 4.92847056e-01, 5.29032275e-01, 5.65636441e-01,\n",
       "       6.02600994e-01, 6.39871629e-01, 6.77398006e-01, 7.15133483e-01,\n",
       "       7.53034864e-01, 7.91062168e-01, 8.29178395e-01, 8.67349343e-01,\n",
       "       9.05543402e-01, 9.43731383e-01, 9.81886353e-01, 1.01998348e+00,\n",
       "       1.05799988e+00, 1.09591449e+00, 1.13370797e+00, 1.17136252e+00,\n",
       "       1.20886184e+00, 1.24619098e+00, 1.28333627e+00, 1.32028523e+00,\n",
       "       1.35702649e+00, 1.39354968e+00, 1.42984542e+00, 1.46590518e+00,\n",
       "       1.50172128e+00, 1.53728681e+00, 1.57259555e+00, 1.60764197e+00,\n",
       "       1.64242113e+00, 1.67692869e+00, 1.71116081e+00, 1.74511417e+00,\n",
       "       1.77878589e+00, 1.81217351e+00, 1.84527498e+00, 1.87808860e+00,\n",
       "       1.91061302e+00, 1.94284719e+00, 1.97479035e+00, 2.00644201e+00,\n",
       "       2.03780194e+00, 2.06887011e+00, 2.09964672e+00, 2.13013216e+00,\n",
       "       2.16032701e+00, 2.19023198e+00, 2.21984798e+00, 2.24917602e+00,\n",
       "       2.27821726e+00, 2.30697296e+00, 2.33544449e+00, 2.36363335e+00,\n",
       "       2.39154108e+00, 2.41916933e+00, 2.44651982e+00, 2.47359433e+00,\n",
       "       2.50039471e+00, 2.52692287e+00, 2.55318074e+00, 2.57917032e+00,\n",
       "       2.60489364e+00, 2.63035277e+00, 2.65554981e+00, 2.68048687e+00,\n",
       "       2.70516610e+00, 2.72958967e+00, 2.75375976e+00, 2.77767856e+00,\n",
       "       2.80134829e+00, 2.82477115e+00, 2.84794937e+00, 2.87088518e+00,\n",
       "       2.89358079e+00, 2.91603845e+00, 2.93826038e+00, 2.96024880e+00])"
      ]
     },
     "execution_count": 84,
     "metadata": {},
     "output_type": "execute_result"
    }
   ],
   "source": [
    "data_fitted[:,2]"
   ]
  },
  {
   "cell_type": "code",
   "execution_count": 83,
   "metadata": {},
   "outputs": [
    {
     "data": {
      "text/plain": [
       "array([[5.00000000e+00, 0.00000000e+00, 0.00000000e+00],\n",
       "       [4.94653666e+00, 5.16454076e-02, 1.81793394e-03],\n",
       "       [4.89364498e+00, 9.92727339e-02, 7.08228365e-03],\n",
       "       [4.84131886e+00, 1.43157511e-01, 1.55236291e-02],\n",
       "       [4.78955224e+00, 1.83556761e-01, 2.68909968e-02],\n",
       "       [4.73833915e+00, 2.20710114e-01, 4.09507366e-02],\n",
       "       [4.68767366e+00, 2.54841180e-01, 5.74851598e-02],\n",
       "       [4.63754992e+00, 2.86158412e-01, 7.62916683e-02],\n",
       "       [4.58796214e+00, 3.14856243e-01, 9.71816203e-02],\n",
       "       [4.53890458e+00, 3.41115994e-01, 1.19979427e-01],\n",
       "       [4.49037158e+00, 3.65106759e-01, 1.44521663e-01],\n",
       "       [4.44235752e+00, 3.86986226e-01, 1.70656250e-01],\n",
       "       [4.39485687e+00, 4.06901433e-01, 1.98241699e-01],\n",
       "       [4.34786412e+00, 4.24989510e-01, 2.27146369e-01],\n",
       "       [4.30137385e+00, 4.41378343e-01, 2.57247805e-01],\n",
       "       [4.25538069e+00, 4.56187135e-01, 2.88432177e-01],\n",
       "       [4.20987931e+00, 4.69527043e-01, 3.20593643e-01],\n",
       "       [4.16486447e+00, 4.81501738e-01, 3.53633792e-01],\n",
       "       [4.12033096e+00, 4.92207863e-01, 3.87461181e-01],\n",
       "       [4.07627362e+00, 5.01735518e-01, 4.21990858e-01],\n",
       "       [4.03268738e+00, 5.10168710e-01, 4.57143909e-01],\n",
       "       [3.98956719e+00, 5.17585752e-01, 4.92847056e-01],\n",
       "       [3.94690807e+00, 5.24059651e-01, 5.29032275e-01],\n",
       "       [3.90470509e+00, 5.29658464e-01, 5.65636441e-01],\n",
       "       [3.86295338e+00, 5.34445628e-01, 6.02600994e-01],\n",
       "       [3.82164810e+00, 5.38480273e-01, 6.39871629e-01],\n",
       "       [3.78078448e+00, 5.41817511e-01, 6.77398006e-01],\n",
       "       [3.74035781e+00, 5.44508708e-01, 7.15133483e-01],\n",
       "       [3.70036340e+00, 5.46601733e-01, 7.53034864e-01],\n",
       "       [3.66079664e+00, 5.48141188e-01, 7.91062168e-01],\n",
       "       [3.62165296e+00, 5.49168646e-01, 8.29178395e-01],\n",
       "       [3.58292783e+00, 5.49722831e-01, 8.67349343e-01],\n",
       "       [3.54461677e+00, 5.49839831e-01, 9.05543402e-01],\n",
       "       [3.50671536e+00, 5.49553261e-01, 9.43731383e-01],\n",
       "       [3.46921921e+00, 5.48894436e-01, 9.81886353e-01],\n",
       "       [3.43212400e+00, 5.47892523e-01, 1.01998348e+00],\n",
       "       [3.39542544e+00, 5.46574687e-01, 1.05799988e+00],\n",
       "       [3.35911928e+00, 5.44966228e-01, 1.09591449e+00],\n",
       "       [3.32320133e+00, 5.43090700e-01, 1.13370797e+00],\n",
       "       [3.28766744e+00, 5.40970039e-01, 1.17136252e+00],\n",
       "       [3.25251350e+00, 5.38624660e-01, 1.20886184e+00],\n",
       "       [3.21773545e+00, 5.36073570e-01, 1.24619098e+00],\n",
       "       [3.18332928e+00, 5.33334455e-01, 1.28333627e+00],\n",
       "       [3.14929099e+00, 5.30423775e-01, 1.32028523e+00],\n",
       "       [3.11561667e+00, 5.27356846e-01, 1.35702649e+00],\n",
       "       [3.08230241e+00, 5.24147908e-01, 1.39354968e+00],\n",
       "       [3.04934438e+00, 5.20810209e-01, 1.42984542e+00],\n",
       "       [3.01673875e+00, 5.17356073e-01, 1.46590518e+00],\n",
       "       [2.98448176e+00, 5.13796957e-01, 1.50172128e+00],\n",
       "       [2.95256969e+00, 5.10143505e-01, 1.53728681e+00],\n",
       "       [2.92099884e+00, 5.06405609e-01, 1.57259555e+00],\n",
       "       [2.88976557e+00, 5.02592465e-01, 1.60764197e+00],\n",
       "       [2.85886626e+00, 4.98712605e-01, 1.64242113e+00],\n",
       "       [2.82829735e+00, 4.94773957e-01, 1.67692869e+00],\n",
       "       [2.79805531e+00, 4.90783879e-01, 1.71116081e+00],\n",
       "       [2.76813663e+00, 4.86749198e-01, 1.74511417e+00],\n",
       "       [2.73853786e+00, 4.82676249e-01, 1.77878589e+00],\n",
       "       [2.70925559e+00, 4.78570904e-01, 1.81217351e+00],\n",
       "       [2.68028641e+00, 4.74438605e-01, 1.84527498e+00],\n",
       "       [2.65162700e+00, 4.70284395e-01, 1.87808860e+00],\n",
       "       [2.62327403e+00, 4.66112945e-01, 1.91061302e+00],\n",
       "       [2.59522423e+00, 4.61928576e-01, 1.94284719e+00],\n",
       "       [2.56747436e+00, 4.57735288e-01, 1.97479035e+00],\n",
       "       [2.54002121e+00, 4.53536777e-01, 2.00644201e+00],\n",
       "       [2.51286160e+00, 4.49336457e-01, 2.03780194e+00],\n",
       "       [2.48599241e+00, 4.45137483e-01, 2.06887011e+00],\n",
       "       [2.45941052e+00, 4.40942764e-01, 2.09964672e+00],\n",
       "       [2.43311286e+00, 4.36754982e-01, 2.13013216e+00],\n",
       "       [2.40709639e+00, 4.32576608e-01, 2.16032701e+00],\n",
       "       [2.38135810e+00, 4.28409913e-01, 2.19023198e+00],\n",
       "       [2.35589503e+00, 4.24256988e-01, 2.21984798e+00],\n",
       "       [2.33070423e+00, 4.20119752e-01, 2.24917602e+00],\n",
       "       [2.30578278e+00, 4.15999964e-01, 2.27821726e+00],\n",
       "       [2.28112781e+00, 4.11899236e-01, 2.30697296e+00],\n",
       "       [2.25673647e+00, 4.07819039e-01, 2.33544449e+00],\n",
       "       [2.23260593e+00, 4.03760721e-01, 2.36363335e+00],\n",
       "       [2.20873342e+00, 3.99725506e-01, 2.39154108e+00],\n",
       "       [2.18511616e+00, 3.95714509e-01, 2.41916933e+00],\n",
       "       [2.16175144e+00, 3.91728742e-01, 2.44651982e+00],\n",
       "       [2.13863655e+00, 3.87769119e-01, 2.47359433e+00],\n",
       "       [2.11576882e+00, 3.83836468e-01, 2.50039471e+00],\n",
       "       [2.09314560e+00, 3.79931530e-01, 2.52692287e+00],\n",
       "       [2.07076429e+00, 3.76054971e-01, 2.55318074e+00],\n",
       "       [2.04862230e+00, 3.72207386e-01, 2.57917032e+00],\n",
       "       [2.02671706e+00, 3.68389302e-01, 2.60489364e+00],\n",
       "       [2.00504604e+00, 3.64601186e-01, 2.63035277e+00],\n",
       "       [1.98360675e+00, 3.60843444e-01, 2.65554981e+00],\n",
       "       [1.96239670e+00, 3.57116432e-01, 2.68048687e+00],\n",
       "       [1.94141345e+00, 3.53420456e-01, 2.70516610e+00],\n",
       "       [1.92065455e+00, 3.49755776e-01, 2.72958967e+00],\n",
       "       [1.90011763e+00, 3.46122608e-01, 2.75375976e+00],\n",
       "       [1.87980031e+00, 3.42521131e-01, 2.77767856e+00],\n",
       "       [1.85970022e+00, 3.38951486e-01, 2.80134829e+00],\n",
       "       [1.83981507e+00, 3.35413782e-01, 2.82477115e+00],\n",
       "       [1.82014253e+00, 3.31908094e-01, 2.84794937e+00],\n",
       "       [1.80068035e+00, 3.28434470e-01, 2.87088518e+00],\n",
       "       [1.78142628e+00, 3.24992931e-01, 2.89358079e+00],\n",
       "       [1.76237808e+00, 3.21583474e-01, 2.91603845e+00],\n",
       "       [1.74353355e+00, 3.18206071e-01, 2.93826038e+00],\n",
       "       [1.72489052e+00, 3.14860676e-01, 2.96024880e+00]])"
      ]
     },
     "execution_count": 83,
     "metadata": {},
     "output_type": "execute_result"
    }
   ],
   "source": [
    "data_fitted"
   ]
  }
 ],
 "metadata": {
  "kernelspec": {
   "display_name": "Python 3",
   "language": "python",
   "name": "python3"
  },
  "language_info": {
   "codemirror_mode": {
    "name": "ipython",
    "version": 3
   },
   "file_extension": ".py",
   "mimetype": "text/x-python",
   "name": "python",
   "nbconvert_exporter": "python",
   "pygments_lexer": "ipython3",
   "version": "3.7.0"
  }
 },
 "nbformat": 4,
 "nbformat_minor": 2
}
