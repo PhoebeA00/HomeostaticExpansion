{
 "cells": [
  {
   "cell_type": "code",
   "execution_count": 3,
   "metadata": {},
   "outputs": [],
   "source": [
    "import numpy as np\n",
    "import matplotlib.pyplot as plt\n",
    "from scipy.integrate import odeint\n",
    "from lmfit import minimize, Parameters, Parameter, report_fit\n",
    "from scipy.integrate import odeint"
   ]
  },
  {
   "cell_type": "code",
   "execution_count": 5,
   "metadata": {},
   "outputs": [
    {
     "name": "stdout",
     "output_type": "stream",
     "text": [
      "[[Fit Statistics]]\n",
      "    # fitting method   = leastsq\n",
      "    # function evals   = 16\n",
      "    # data points      = 10\n",
      "    # variables        = 2\n",
      "    chi-square         = 0.00505747\n",
      "    reduced chi-square = 6.3218e-04\n",
      "    Akaike info crit   = -71.8947443\n",
      "    Bayesian info crit = -71.2895741\n",
      "[[Variables]]\n",
      "    x10:  5 (fixed)\n",
      "    x20:  0 (fixed)\n",
      "    x30:  0 (fixed)\n",
      "    k0:   0.12183302 +/- 0.00590992 (4.85%) (init = 0.2)\n",
      "    k1:   0.77583947 +/- 0.02663942 (3.43%) (init = 0.3)\n",
      "[[Correlations]] (unreported correlations are < 0.100)\n",
      "    C(k0, k1) =  0.809\n"
     ]
    },
    {
     "data": {
      "image/png": "[encoded data removed]",
      "text/plain": [
       "<Figure size 432x288 with 1 Axes>"
      ]
     },
     "metadata": {
      "needs_background": "light"
     },
     "output_type": "display_data"
    }
   ],
   "source": [
    "def f(y, t, paras):\n",
    "    \"\"\"\n",
    "    Your system of differential equations\n",
    "    \"\"\"\n",
    "\n",
    "    x1 = y[0]\n",
    "    x2 = y[1]\n",
    "    x3 = y[2]\n",
    "\n",
    "    try:\n",
    "        k0 = paras['k0'].value\n",
    "        k1 = paras['k1'].value\n",
    "\n",
    "    except KeyError:\n",
    "        k0, k1 = paras\n",
    "    # the model equations\n",
    "    f0 = -k0 * x1\n",
    "    f1 = k0 * x1 - k1 * x2\n",
    "    f2 = k1 * x2\n",
    "    return [f0, f1, f2]\n",
    "\n",
    "\n",
    "def g(t, x0, paras):\n",
    "    \"\"\"\n",
    "    Solution to the ODE x'(t) = f(t,x,k) with initial condition x(0) = x0\n",
    "    \"\"\"\n",
    "    x = odeint(f, x0, t, args=(paras,))\n",
    "    return x\n",
    "\n",
    "\n",
    "def residual(paras, t, data):\n",
    "\n",
    "    \"\"\"\n",
    "    compute the residual between actual data and fitted data\n",
    "    \"\"\"\n",
    "\n",
    "    x0 = paras['x10'].value, paras['x20'].value, paras['x30'].value\n",
    "    model = g(t, x0, paras)\n",
    "\n",
    "    # you only have data for one of your variables\n",
    "    x2_model = model[:, 1]\n",
    "    return (x2_model - data).ravel()\n",
    "\n",
    "\n",
    "# initial conditions\n",
    "x10 = 5.\n",
    "x20 = 0\n",
    "x30 = 0\n",
    "y0 = [x10, x20, x30]\n",
    "\n",
    "# measured data\n",
    "#Notice you do not have data at ALL times\n",
    "#YOu do not have data for ALL variables\n",
    "t_measured = np.linspace(0, 9, 10)\n",
    "x2_measured = np.array([0.000, 0.416, 0.489, 0.595, 0.506, 0.493, 0.458, 0.394, 0.335, 0.309])\n",
    "\n",
    "plt.figure()\n",
    "plt.scatter(t_measured, x2_measured, marker='o', color='b', label='measured data', s=75)\n",
    "\n",
    "# set parameters including bounds; you can also fix parameters (use vary=False)\n",
    "params = Parameters()\n",
    "#Initial conditions ARE parameters. They assume they know the initial conditions;\n",
    "params.add('x10', value=x10, vary=False)\n",
    "params.add('x20', value=x20, vary=False)\n",
    "params.add('x30', value=x30, vary=False)\n",
    "\n",
    "#These are the two kinetic rates, they do not know them. \n",
    "params.add('k0', value=0.2, min=0.0001, max=2.)\n",
    "params.add('k1', value=0.3, min=0.0001, max=2.)\n",
    "\n",
    "# fit model\n",
    "#This next line DOES the minimization\n",
    "result = minimize(residual, params, args=(t_measured, x2_measured), method='leastsq')  # leastsq nelder\n",
    "\n",
    "# check results of the fit\n",
    "data_fitted = g(np.linspace(0., 9., 100), y0, result.params)\n",
    "\n",
    "# plot fitted data\n",
    "plt.plot(np.linspace(0., 9., 100), data_fitted[:, 1], '-', linewidth=2, color='red', label='fitted data')\n",
    "plt.legend()\n",
    "plt.xlim([0, max(t_measured)])\n",
    "plt.ylim([0, 1.1 * max(data_fitted[:, 1])])\n",
    "# display fitted statistics\n",
    "report_fit(result)\n",
    "\n",
    "plt.show()"
   ]
  },
  {
   "cell_type": "code",
   "execution_count": null,
   "metadata": {},
   "outputs": [],
   "source": []
  }
 ],
 "metadata": {
  "kernelspec": {
   "display_name": "Python 3",
   "language": "python",
   "name": "python3"
  },
  "language_info": {
   "codemirror_mode": {
    "name": "ipython",
    "version": 3
   },
   "file_extension": ".py",
   "mimetype": "text/x-python",
   "name": "python",
   "nbconvert_exporter": "python",
   "pygments_lexer": "ipython3",
   "version": "3.7.0"
  }
 },
 "nbformat": 4,
 "nbformat_minor": 2
}
