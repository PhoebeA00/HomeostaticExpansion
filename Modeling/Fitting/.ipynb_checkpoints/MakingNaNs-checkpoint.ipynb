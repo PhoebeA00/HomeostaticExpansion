{
 "cells": [
  {
   "cell_type": "code",
   "execution_count": 12,
   "metadata": {},
   "outputs": [],
   "source": [
    "import pandas as pd\n",
    "import numpy as np\n",
    "import matplotlib.pyplot as plt\n",
    "from scipy.integrate import odeint\n",
    "from lmfit import minimize, Parameters, Parameter, report_fit\n",
    "from scipy.integrate import odeint"
   ]
  },
  {
   "cell_type": "code",
   "execution_count": 5,
   "metadata": {},
   "outputs": [],
   "source": [
    "#The withnans data set contains no Thymus data or KO data\n",
    "pop = pd.read_csv(\"/home/jon/my.work/PhD/HomestaticExpansionProject/ModelData/ActivatedCD4pop_Withnans.csv\")\n",
    "\n",
    "#Need to make the naive T cell column and make them into solid cell counts\n",
    "pop['NaiveT'] = (pop['CD4CT'] - pop['ActivatedCD4CT'])* 10**6"
   ]
  },
  {
   "cell_type": "code",
   "execution_count": 41,
   "metadata": {},
   "outputs": [
    {
     "data": {
      "text/plain": [
       "Index(['Unnamed: 0', 'Unnamed: 0.1', 'Print_Alone', 'PrintNumber',\n",
       "       'FileNumber', 'FileID', 'BatchFile', 'Initials', 'expDate', 'Organ',\n",
       "       'CageNumber', 'Tag', 'TagNumber', 'DOB', 'Sex', 'Age', 'Hour',\n",
       "       'Genotype', 'MouseWeight', 'OrganWeight', 'TotalLiveCountInMillions',\n",
       "       'All_Event', 'AllCells_events', 'LiveCells_events', 'Singlets1_events',\n",
       "       'Singlets2_events', 'pCD4_events', 'pCD8_events', 'pDP_events',\n",
       "       'pDN_events', 'CD4_events', 'CD8_events', 'Bcells_events',\n",
       "       'TCRb_events', 'x4Tregs_events', 'x8Tregs_events', 'DN_events',\n",
       "       'DP_events', 'CD4prol_events', 'CD8Prol_events', 'BcellProl_events',\n",
       "       'x4tregProl_events', 'x8tregsProl', 'DPprol_events', 'DNProl_events',\n",
       "       'intage', 'Bratio', 'CD4Ratio', 'CD8Ratio', 'DPRatio', 'DNRatio',\n",
       "       'X4TregRatio', 'X8TregRatio', 'TCRbRatio', 'CD4ProlRatio',\n",
       "       'CD8ProlRatio', 'BProlRatio', 'X4TregProlRatio', 'X8TregProlRatio',\n",
       "       'Bct', 'CD4CT', 'CD8ct', 'DPct', 'DNct', 'X4TregCT', 'X8TregCT',\n",
       "       'TCRbCT', 'CD4ProlCT', 'CD8ProlCT', 'BprolCT', 'X4TregProlCT',\n",
       "       'X8TregProlCT', 'ActivatedCD4CT'],\n",
       "      dtype='object')"
      ]
     },
     "execution_count": 41,
     "metadata": {},
     "output_type": "execute_result"
    }
   ],
   "source": [
    "pop.columns"
   ]
  },
  {
   "cell_type": "code",
   "execution_count": 71,
   "metadata": {},
   "outputs": [
    {
     "data": {
      "text/plain": [
       "6184643.406500626"
      ]
     },
     "execution_count": 71,
     "metadata": {},
     "output_type": "execute_result"
    }
   ],
   "source": [
    "pop.loc[:,'NaiveT'].max()"
   ]
  },
  {
   "cell_type": "code",
   "execution_count": 56,
   "metadata": {},
   "outputs": [
    {
     "data": {
      "text/plain": [
       "6457404.1581404805"
      ]
     },
     "execution_count": 56,
     "metadata": {},
     "output_type": "execute_result"
    }
   ],
   "source": [
    "pop.loc[:,'CD4CT'].max() * 10**6"
   ]
  },
  {
   "cell_type": "code",
   "execution_count": null,
   "metadata": {},
   "outputs": [],
   "source": []
  },
  {
   "cell_type": "code",
   "execution_count": 49,
   "metadata": {},
   "outputs": [],
   "source": [
    "a = pop.loc[:,'CD4CT'].copy()"
   ]
  },
  {
   "cell_type": "code",
   "execution_count": 50,
   "metadata": {
    "collapsed": true
   },
   "outputs": [
    {
     "data": {
      "text/plain": [
       "0      0.019404\n",
       "1      0.060452\n",
       "2      0.037962\n",
       "3      0.006467\n",
       "4      0.081874\n",
       "5      0.059233\n",
       "6      0.404333\n",
       "7      0.465259\n",
       "8      0.354771\n",
       "9      0.176604\n",
       "10     0.194559\n",
       "11     0.221934\n",
       "12     0.312180\n",
       "13     0.726806\n",
       "14     0.918877\n",
       "15     1.234691\n",
       "16     3.307468\n",
       "17     0.555830\n",
       "18     0.469812\n",
       "19     2.734488\n",
       "20     2.146103\n",
       "21     4.219018\n",
       "22     1.008081\n",
       "23     6.457404\n",
       "24     0.971248\n",
       "25     0.824675\n",
       "26     2.508231\n",
       "27          NaN\n",
       "28          NaN\n",
       "29          NaN\n",
       "         ...   \n",
       "429         NaN\n",
       "430         NaN\n",
       "431         NaN\n",
       "432         NaN\n",
       "433         NaN\n",
       "434         NaN\n",
       "435         NaN\n",
       "436         NaN\n",
       "437         NaN\n",
       "438         NaN\n",
       "439         NaN\n",
       "440         NaN\n",
       "441         NaN\n",
       "442         NaN\n",
       "443         NaN\n",
       "444         NaN\n",
       "445         NaN\n",
       "446         NaN\n",
       "447         NaN\n",
       "448         NaN\n",
       "449         NaN\n",
       "450         NaN\n",
       "451         NaN\n",
       "452         NaN\n",
       "453         NaN\n",
       "454         NaN\n",
       "455         NaN\n",
       "456         NaN\n",
       "457         NaN\n",
       "458         NaN\n",
       "Name: CD4CT, Length: 459, dtype: float64"
      ]
     },
     "execution_count": 50,
     "metadata": {},
     "output_type": "execute_result"
    }
   ],
   "source": [
    "a"
   ]
  },
  {
   "cell_type": "code",
   "execution_count": 51,
   "metadata": {
    "collapsed": true
   },
   "outputs": [
    {
     "data": {
      "text/plain": [
       "array([  0.,   1.,   2.,   3.,   4.,   5.,   6.,   7.,   8.,   9.,  10.,\n",
       "        11.,  12.,  13.,  14.,  15.,  16.,  17.,  18.,  19.,  20.,  21.,\n",
       "        22.,  23.,  24.,  25.,  26.,  27.,  28.,  29.,  30.,  31.,  32.,\n",
       "        33.,  34.,  35.,  36.,  37.,  38.,  39.,  40.,  41.,  42.,  43.,\n",
       "        44.,  45.,  46.,  47.,  48.,  49.,  50.,  51.,  52.,  53.,  54.,\n",
       "        55.,  56.,  57.,  58.,  59.,  60.,  61.,  62.,  63.,  64.,  65.,\n",
       "        66.,  67.,  68.,  69.,  70.,  71.,  72.,  73.,  74.,  75.,  76.,\n",
       "        77.,  78.,  79.,  80.,  81.,  82.,  83.,  84.,  85.,  86.,  87.,\n",
       "        88.,  89.,  90.,  91.,  92.,  93.,  94.,  95.,  96.,  97.,  98.,\n",
       "        99., 100., 101., 102., 103., 104., 105., 106., 107., 108., 109.,\n",
       "       110., 111., 112., 113., 114., 115., 116., 117., 118., 119., 120.,\n",
       "       121., 122., 123., 124., 125., 126., 127., 128., 129., 130., 131.,\n",
       "       132., 133., 134., 135., 136., 137., 138., 139., 140., 141., 142.,\n",
       "       143., 144., 145., 146., 147., 148., 149., 150., 151., 152., 153.,\n",
       "       154., 155., 156., 157., 158., 159., 160., 161., 162., 163., 164.,\n",
       "       165., 166., 167., 168., 169., 170., 171., 172., 173., 174., 175.,\n",
       "       176., 177., 178., 179., 180., 181., 182., 183., 184., 185., 186.,\n",
       "       187., 188., 189., 190., 191., 192., 193., 194., 195., 196., 197.,\n",
       "       198., 199., 200., 201., 202., 203., 204., 205., 206., 207., 208.,\n",
       "       209., 210., 211., 212., 213., 214., 215., 216., 217., 218., 219.,\n",
       "       220., 221., 222., 223., 224., 225., 226., 227., 228., 229., 230.,\n",
       "       231., 232., 233., 234., 235., 236., 237., 238., 239., 240., 241.,\n",
       "       242., 243., 244., 245., 246., 247., 248., 249., 250., 251., 252.,\n",
       "       253., 254., 255., 256., 257., 258., 259., 260., 261., 262., 263.,\n",
       "       264., 265., 266., 267., 268., 269., 270., 271., 272., 273., 274.,\n",
       "       275., 276., 277., 278., 279., 280., 281., 282., 283., 284., 285.,\n",
       "       286., 287., 288., 289., 290., 291., 292., 293., 294., 295., 296.,\n",
       "       297., 298., 299., 300., 301., 302., 303., 304., 305., 306., 307.,\n",
       "       308., 309., 310., 311., 312., 313., 314., 315., 316., 317., 318.,\n",
       "       319., 320., 321., 322., 323., 324., 325., 326., 327., 328., 329.,\n",
       "       330., 331., 332., 333., 334., 335., 336., 337., 338., 339., 340.,\n",
       "       341., 342., 343., 344., 345., 346., 347., 348., 349., 350., 351.,\n",
       "       352., 353., 354., 355., 356., 357., 358., 359., 360., 361., 362.,\n",
       "       363., 364., 365., 366., 367., 368., 369., 370., 371., 372., 373.,\n",
       "       374., 375., 376., 377., 378., 379., 380., 381., 382., 383., 384.,\n",
       "       385., 386., 387., 388., 389., 390., 391., 392., 393., 394., 395.,\n",
       "       396., 397., 398., 399., 400., 401., 402., 403., 404., 405., 406.,\n",
       "       407., 408., 409., 410., 411., 412., 413., 414., 415., 416., 417.,\n",
       "       418., 419., 420., 421., 422., 423., 424., 425., 426., 427., 428.,\n",
       "       429., 430., 431., 432., 433., 434., 435., 436., 437., 438., 439.,\n",
       "       440., 441., 442., 443., 444., 445., 446., 447., 448., 449., 450.,\n",
       "       451., 452., 453., 454., 455., 456., 457., 458., 459.])"
      ]
     },
     "execution_count": 51,
     "metadata": {},
     "output_type": "execute_result"
    }
   ],
   "source": [
    "pop.loc[:,'CD4CT'].copy()\n",
    "np.linspace(0, 459, 460)"
   ]
  },
  {
   "cell_type": "code",
   "execution_count": 11,
   "metadata": {},
   "outputs": [],
   "source": [
    "a = pop.loc[8:10:,'CD4CT'].copy()"
   ]
  },
  {
   "cell_type": "code",
   "execution_count": 26,
   "metadata": {},
   "outputs": [
    {
     "data": {
      "text/plain": [
       "pandas.core.series.Series"
      ]
     },
     "execution_count": 26,
     "metadata": {},
     "output_type": "execute_result"
    }
   ],
   "source": [
    "type(a)"
   ]
  },
  {
   "cell_type": "code",
   "execution_count": 30,
   "metadata": {},
   "outputs": [
    {
     "ename": "AttributeError",
     "evalue": "'Series' object has no attribute 'to_numpy'",
     "output_type": "error",
     "traceback": [
      "\u001b[0;31m---------------------------------------------------------------------------\u001b[0m",
      "\u001b[0;31mAttributeError\u001b[0m                            Traceback (most recent call last)",
      "\u001b[0;32m<ipython-input-30-60b8ced001bc>\u001b[0m in \u001b[0;36m<module>\u001b[0;34m()\u001b[0m\n\u001b[0;32m----> 1\u001b[0;31m \u001b[0ma\u001b[0m\u001b[0;34m.\u001b[0m\u001b[0mto_numpy\u001b[0m\u001b[0;34m(\u001b[0m\u001b[0;34m)\u001b[0m\u001b[0;34m\u001b[0m\u001b[0m\n\u001b[0m",
      "\u001b[0;32m~/anaconda3/lib/python3.7/site-packages/pandas/core/generic.py\u001b[0m in \u001b[0;36m__getattr__\u001b[0;34m(self, name)\u001b[0m\n\u001b[1;32m   4374\u001b[0m             \u001b[0;32mif\u001b[0m \u001b[0mself\u001b[0m\u001b[0;34m.\u001b[0m\u001b[0m_info_axis\u001b[0m\u001b[0;34m.\u001b[0m\u001b[0m_can_hold_identifiers_and_holds_name\u001b[0m\u001b[0;34m(\u001b[0m\u001b[0mname\u001b[0m\u001b[0;34m)\u001b[0m\u001b[0;34m:\u001b[0m\u001b[0;34m\u001b[0m\u001b[0m\n\u001b[1;32m   4375\u001b[0m                 \u001b[0;32mreturn\u001b[0m \u001b[0mself\u001b[0m\u001b[0;34m[\u001b[0m\u001b[0mname\u001b[0m\u001b[0;34m]\u001b[0m\u001b[0;34m\u001b[0m\u001b[0m\n\u001b[0;32m-> 4376\u001b[0;31m             \u001b[0;32mreturn\u001b[0m \u001b[0mobject\u001b[0m\u001b[0;34m.\u001b[0m\u001b[0m__getattribute__\u001b[0m\u001b[0;34m(\u001b[0m\u001b[0mself\u001b[0m\u001b[0;34m,\u001b[0m \u001b[0mname\u001b[0m\u001b[0;34m)\u001b[0m\u001b[0;34m\u001b[0m\u001b[0m\n\u001b[0m\u001b[1;32m   4377\u001b[0m \u001b[0;34m\u001b[0m\u001b[0m\n\u001b[1;32m   4378\u001b[0m     \u001b[0;32mdef\u001b[0m \u001b[0m__setattr__\u001b[0m\u001b[0;34m(\u001b[0m\u001b[0mself\u001b[0m\u001b[0;34m,\u001b[0m \u001b[0mname\u001b[0m\u001b[0;34m,\u001b[0m \u001b[0mvalue\u001b[0m\u001b[0;34m)\u001b[0m\u001b[0;34m:\u001b[0m\u001b[0;34m\u001b[0m\u001b[0m\n",
      "\u001b[0;31mAttributeError\u001b[0m: 'Series' object has no attribute 'to_numpy'"
     ]
    }
   ],
   "source": [
    "a.to_numpy()"
   ]
  },
  {
   "cell_type": "code",
   "execution_count": 19,
   "metadata": {
    "scrolled": true
   },
   "outputs": [
    {
     "data": {
      "text/plain": [
       "1    0.063979\n",
       "2    0.241809\n",
       "3    0.198893\n",
       "Name: CD4CT, dtype: float64"
      ]
     },
     "execution_count": 19,
     "metadata": {},
     "output_type": "execute_result"
    }
   ],
   "source": [
    "a * 4"
   ]
  },
  {
   "cell_type": "code",
   "execution_count": 21,
   "metadata": {},
   "outputs": [],
   "source": [
    "b = pop.loc[1:3,'CD4CT']"
   ]
  },
  {
   "cell_type": "code",
   "execution_count": 25,
   "metadata": {},
   "outputs": [],
   "source": [
    "b = b * 4"
   ]
  },
  {
   "cell_type": "code",
   "execution_count": 24,
   "metadata": {
    "scrolled": true
   },
   "outputs": [
    {
     "data": {
      "text/plain": [
       "1    0.015995\n",
       "2    0.060452\n",
       "3    0.049723\n",
       "Name: CD4CT, dtype: float64"
      ]
     },
     "execution_count": 24,
     "metadata": {},
     "output_type": "execute_result"
    }
   ],
   "source": [
    "pop.loc[1:3,'CD4CT']"
   ]
  },
  {
   "cell_type": "code",
   "execution_count": 91,
   "metadata": {},
   "outputs": [
    {
     "name": "stdout",
     "output_type": "stream",
     "text": [
      "[[Fit Statistics]]\n",
      "    # fitting method   = leastsq\n",
      "    # function evals   = 16\n",
      "    # data points      = 10\n",
      "    # variables        = 2\n",
      "    chi-square         = 0.00505747\n",
      "    reduced chi-square = 6.3218e-04\n",
      "    Akaike info crit   = -71.8947443\n",
      "    Bayesian info crit = -71.2895741\n",
      "[[Variables]]\n",
      "    x10:  5 (fixed)\n",
      "    x20:  0 (fixed)\n",
      "    x30:  0 (fixed)\n",
      "    k0:   0.12183302 +/- 0.00590992 (4.85%) (init = 0.2)\n",
      "    k1:   0.77583947 +/- 0.02663943 (3.43%) (init = 0.3)\n",
      "[[Correlations]] (unreported correlations are < 0.100)\n",
      "    C(k0, k1) =  0.809\n"
     ]
    },
    {
     "data": {
      "image/png": "[encoded data removed]",
      "text/plain": [
       "<Figure size 432x288 with 1 Axes>"
      ]
     },
     "metadata": {
      "needs_background": "light"
     },
     "output_type": "display_data"
    }
   ],
   "source": [
    "def f(y, t, paras):\n",
    "    \"\"\"\n",
    "    Your system of differential equations\n",
    "    \"\"\"\n",
    "\n",
    "    x1 = y[0]\n",
    "    x2 = y[1]\n",
    "    x3 = y[2]\n",
    "\n",
    "    try:\n",
    "        k0 = paras['k0'].value\n",
    "        k1 = paras['k1'].value\n",
    "\n",
    "    except KeyError:\n",
    "        k0, k1 = paras\n",
    "    # the model equations\n",
    "    f0 = -k0 * x1\n",
    "    f1 = k0 * x1 - k1 * x2\n",
    "    f2 = k1 * x2\n",
    "    return [f0, f1, f2]\n",
    "\n",
    "\n",
    "def g(t, x0, paras):\n",
    "    \"\"\"\n",
    "    Solution to the ODE x'(t) = f(t,x,k) with initial condition x(0) = x0\n",
    "    \"\"\"\n",
    "    x = odeint(f, x0, t, args=(paras,))\n",
    "    return x\n",
    "\n",
    "\n",
    "def residual(paras, t, data):\n",
    "\n",
    "    \"\"\"\n",
    "    compute the residual between actual data and fitted data\n",
    "    \"\"\"\n",
    "\n",
    "    x0 = paras['x10'].value, paras['x20'].value, paras['x30'].value\n",
    "    model = g(t, x0, paras)\n",
    "\n",
    "    # you only have data for one of your variables\n",
    "    x2_model = model[:, 1]\n",
    "    return (x2_model - data).ravel()\n",
    "\n",
    "\n",
    "# initial conditions\n",
    "x10 = 5.\n",
    "x20 = 0\n",
    "x30 = 0\n",
    "y0 = [x10, x20, x30]\n",
    "\n",
    "# measured data\n",
    "#Notice you do not have data at ALL times\n",
    "#YOu do not have data for ALL variables\n",
    "t_measured = np.linspace(0, 9, 10)\n",
    "x2_measured = np.array([0.000, 0.416, 0.489, 0.595, 0.506, 0.493, 0.458, 0.394, 0.335, 0.309])\n",
    "\n",
    "plt.figure()\n",
    "plt.scatter(t_measured, x2_measured, marker='o', color='b', label='measured data', s=75)\n",
    "\n",
    "# set parameters including bounds; you can also fix parameters (use vary=False)\n",
    "params = Parameters()\n",
    "#Initial conditions ARE parameters. They assume they know the initial conditions;\n",
    "params.add('x10', value=x10, vary=False)\n",
    "params.add('x20', value=x20, vary=False)\n",
    "params.add('x30', value=x30, vary=False)\n",
    "\n",
    "#These are the two kinetic rates, they do not know them. \n",
    "params.add('k0', value=0.2, min=0.0001, max=2.)\n",
    "params.add('k1', value=0.3, min=0.0001, max=2.)\n",
    "\n",
    "# fit model\n",
    "#This next line DOES the minimization\n",
    "result = minimize(residual, params, args=(t_measured, x2_measured), method='leastsq')  # leastsq nelder\n",
    "\n",
    "# check results of the fit\n",
    "data_fitted = g(np.linspace(0., 9., 100), y0, result.params)\n",
    "\n",
    "# plot fitted data\n",
    "plt.plot(np.linspace(0., 9., 100), data_fitted[:, 1], '-', linewidth=2, color='red', label='fitted data')\n",
    "plt.legend()\n",
    "plt.xlim([0, max(t_measured)])\n",
    "plt.ylim([0, 1.1 * max(data_fitted[:, 1])])\n",
    "# display fitted statistics\n",
    "report_fit(result)\n",
    "\n",
    "plt.show()"
   ]
  },
  {
   "cell_type": "code",
   "execution_count": 13,
   "metadata": {},
   "outputs": [
    {
     "name": "stdout",
     "output_type": "stream",
     "text": [
      "[[Fit Statistics]]\n",
      "    # fitting method   = SLSQP\n",
      "    # function evals   = 46\n",
      "    # data points      = 27\n",
      "    # variables        = 2\n",
      "    chi-square         = 5.3619e+13\n",
      "    reduced chi-square = 2.1448e+12\n",
      "    Akaike info crit   = 768.561489\n",
      "    Bayesian info crit = 771.153163\n",
      "##  Warning: uncertainties could not be estimated:\n",
      "    this fitting method does not natively calculate uncertainties\n",
      "    and numdifftools is not installed for lmfit to do this. Use\n",
      "    `pip install numdifftools` for lmfit to estimate uncertainties\n",
      "    with this fitting method.\n",
      "[[Variables]]\n",
      "    N:        20000 (fixed)\n",
      "    R:        30000 (fixed)\n",
      "    T:        7000 (fixed)\n",
      "    I:        1000 (fixed)\n",
      "    alpha:    0 (fixed)\n",
      "    Thy:      1 (fixed)\n",
      "    Thy_max:  1 (fixed)\n",
      "    epsilon:  0 (fixed)\n",
      "    a:        0.09 (fixed)\n",
      "    c:        0 (fixed)\n",
      "    b_R:      0 (fixed)\n",
      "    mu:       12126.7034 (init = 12427)\n",
      "    beta:     0.01 (fixed)\n",
      "    g:        0.00932983 (init = 0)\n",
      "    b_T:      20 (fixed)\n",
      "    d:        500 (fixed)\n",
      "    e_T:      300 (fixed)\n",
      "    e_R:      800 (fixed)\n",
      "    f:        0.1 (fixed)\n",
      "    kA:       1 (fixed)\n",
      "    n:        0 (fixed)\n"
     ]
    },
    {
     "data": {
      "image/png": "[encoded data removed]",
      "text/plain": [
       "<Figure size 432x288 with 1 Axes>"
      ]
     },
     "metadata": {
      "needs_background": "light"
     },
     "output_type": "display_data"
    }
   ],
   "source": [
    "def ModelV4(y,t,paras):\n",
    "    \"\"\"\n",
    "    Similar to vectorfield. \n",
    "    The only difference is that this one takes time points where the equations need to be solve for. \n",
    "\n",
    "    \"\"\"\n",
    "#     Initial Conditions\n",
    "    \n",
    "    N = y[0]\n",
    "    T = y[1]\n",
    "    R = y[2]\n",
    "    I = y[3]\n",
    "        \n",
    "#         Parameters\n",
    "    alpha = paras['alpha'].value\n",
    "    Thy = paras['Thy'].value\n",
    "    Thy_max = paras['Thy_max'].value\n",
    "    epsilon = paras['epsilon'].value\n",
    "    a = paras['a'].value\n",
    "    c = paras['c'].value\n",
    "    b_R = paras['b_R'].value\n",
    "    mu = paras['mu'].value\n",
    "    beta = paras['beta'].value\n",
    "    g = paras['g'].value\n",
    "    b_T = paras['b_T'].value\n",
    "    d = paras['d'].value\n",
    "    e_T = paras['e_T'].value\n",
    "    e_R = paras['e_R'].value\n",
    "    f = paras['f'].value\n",
    "    kA = paras['kA'].value\n",
    "    n = paras['n'].value\n",
    "        \n",
    "   \n",
    "    \n",
    "    Nf = mu*(Thy/Thy_max) - beta*N*(1/(1+(R/kA)**n)) - c*N - g*N\n",
    "    Tf = beta*N*(1/(1+(R/kA)**n)) + a*I*T - b_T*T\n",
    "    Rf = alpha*(Thy/Thy_max) + epsilon*a*I*R + c*N - b_R*R\n",
    "    If = d*T - e_T*I*T - e_R*I*R - f*I   \n",
    "         \n",
    "    return [Nf, Tf, Rf, If]\n",
    "\n",
    "\n",
    "def solvingModel(t, x0, paras):\n",
    "    \"\"\"\n",
    "    Solution to the ODE x'(t) = ModelV4(t,x,k) with initial condition x(0) = x0\n",
    "    \"\"\"\n",
    "    x = odeint(ModelV4, x0, t, args=(paras,))\n",
    "    return x\n",
    "\n",
    "def residuals(paras, t, data):\n",
    "    \n",
    "    \"\"\"\n",
    "    Compute the residuals between actual data and fitted data\n",
    "    \"\"\"\n",
    "    #Takes the initial conditions\n",
    "    w0 = paras['N'].value, paras['T'].value, paras['R'].value, paras['I'].value\n",
    "    model = solvingModel(t, w0, paras)\n",
    "\n",
    "    # Model will return data in the form of N(0), T(1),R(2),I(3)\n",
    "#     TODO Depending on the what population that I am looking at, the bottom needs to be adjusted accordingly\n",
    "    x2_model = model[:, 0]\n",
    "    # .ravel() - Return a contiguous flattened array.\n",
    "#     TODO - Something tells me that the na's will mess it up here? True? \n",
    "    return (x2_model - data).ravel()\n",
    "\n",
    "# initial conditions\n",
    "N1 = 20000\n",
    "T1 = 7000\n",
    "R1 = 30000\n",
    "I1 = 1000\n",
    "y0 = [N1, T1, R1, I1]\n",
    "\n",
    "\n",
    "\n",
    "t_measured = pop.loc[:,'Hour']\n",
    "x2_measured = pop.loc[:,'NaiveT'].copy()\n",
    "\n",
    "plt.figure()\n",
    "plt.scatter(t_measured, x2_measured, marker='o', color='b', label='measured data', s=75)\n",
    "\n",
    "# set parameters including bounds; you can also fix parameters (use vary=False)\n",
    "params = Parameters()\n",
    "#Initial conditions ARE parameters. They assume they know the initial conditions;\n",
    "params.add('N', value=N1, vary=False)\n",
    "params.add('R', value=R1, vary=False)\n",
    "params.add('T', value=T1, vary=False)\n",
    "params.add('I', value=I1, vary=False)\n",
    "\n",
    "#Kintetic rates that we do not know\n",
    "params.add('alpha', value=0.0, vary=False)\n",
    "params.add('Thy', value=1.0, vary=False)\n",
    "params.add('Thy_max', value=1.0, vary=False)\n",
    "params.add('epsilon', value=0.0, vary=False)\n",
    "params.add('a', value=0.09, vary=False)\n",
    "params.add('c', value=0.0, vary=False)\n",
    "params.add('b_R', value=0., vary=False)\n",
    "params.add('mu', value=12427.0, min=00.0, max=15000.0)\n",
    "params.add('beta', value=0.01, vary=False)\n",
    "params.add('g', value=0.0, min = 0.0, max =5)\n",
    "params.add('b_T', value=20.0, vary=False)\n",
    "params.add('d', value=500.0, vary=False)\n",
    "params.add('e_T', value=300.0, vary=False)\n",
    "params.add('e_R', value=800.0, vary=False)\n",
    "params.add('f', value=0.1, vary=False)\n",
    "params.add('kA', value=1, vary=False)\n",
    "params.add('n', value=0.0, vary=False)\n",
    "\n",
    "#This next line DOES the minimization\n",
    "result = minimize(residuals, params, args=(t_measured, x2_measured), method='SLSQP', nan_policy='omit')  # leastsq nelder\n",
    "\n",
    "# check results of the fit\n",
    "data_fitted = solvingModel(np.linspace(0, 458, 459), y0, result.params)\n",
    "\n",
    "# plot fitted data\n",
    "plt.plot(np.linspace(0, 458, 459), data_fitted[:, 0], '-', linewidth=2, color='red', label='fitted data')\n",
    "plt.legend()\n",
    "plt.xlim([0, max(t_measured)])\n",
    "plt.ylim([0, 1.1 * max(data_fitted[:, 0])])\n",
    "# display fitted statistics\n",
    "report_fit(result)\n",
    "\n",
    "plt.show()"
   ]
  },
  {
   "cell_type": "code",
   "execution_count": 65,
   "metadata": {},
   "outputs": [
    {
     "data": {
      "text/plain": [
       "460"
      ]
     },
     "execution_count": 65,
     "metadata": {},
     "output_type": "execute_result"
    }
   ],
   "source": [
    "t_measured.size"
   ]
  },
  {
   "cell_type": "code",
   "execution_count": 64,
   "metadata": {},
   "outputs": [
    {
     "data": {
      "text/plain": [
       "459"
      ]
     },
     "execution_count": 64,
     "metadata": {},
     "output_type": "execute_result"
    }
   ],
   "source": [
    "x2_measured.size"
   ]
  },
  {
   "cell_type": "code",
   "execution_count": null,
   "metadata": {},
   "outputs": [],
   "source": [
    "# def f(y, t, paras):\n",
    "#     \"\"\"\n",
    "#     Your system of differential equations\n",
    "#     \"\"\"\n",
    "#     #Initial Conditions\n",
    "#         x1 = y[0]\n",
    "#         x2 = y[1]\n",
    "#         x3 = y[2]\n",
    "\n",
    "#     try:\n",
    "#         k0 = paras['k0'].value\n",
    "#         k1 = paras['k1'].value\n",
    "\n",
    "#     except KeyError:\n",
    "#         k0, k1 = paras\n",
    "#     # the model equations\n",
    "#     f0 = -k0 * x1\n",
    "#     f1 = k0 * x1 - k1 * x2\n",
    "#     f2 = k1 * x2\n",
    "#     return [f0, f1, f2]\n",
    "\n",
    "\n",
    "# def g(t, x0, paras):\n",
    "#     \"\"\"\n",
    "#     Solution to the ODE x'(t) = f(t,x,k) with initial condition x(0) = x0\n",
    "#     \"\"\"\n",
    "#     x = odeint(f, x0, t, args=(paras,))\n",
    "#     return x\n",
    "\n",
    "\n",
    "# def residual(paras, t, data):\n",
    "\n",
    "#     \"\"\"\n",
    "#     compute the residual between actual data and fitted data\n",
    "#     \"\"\"\n",
    "\n",
    "#     x0 = paras['x10'].value, paras['x20'].value, paras['x30'].value\n",
    "#     model = g(t, x0, paras)\n",
    "\n",
    "#     # you only have data for one of your variables\n",
    "#     x2_model = model[:, 1]\n",
    "#     return (x2_model - data).ravel()\n",
    "\n",
    "\n",
    "# # initial conditions\n",
    "# x10 = 5.\n",
    "# x20 = 0\n",
    "# x30 = 0\n",
    "# y0 = [x10, x20, x30]\n",
    "\n",
    "# # measured data\n",
    "# #Notice you do not have data at ALL times\n",
    "# #YOu do not have data for ALL variables\n",
    "# t_measured = np.linspace(0, 9, 10)\n",
    "# x2_measured = np.array([0.000, 0.416, 0.489, 0.595, 0.506, 0.493, 0.458, 0.394, 0.335, 0.309])\n",
    "\n",
    "plt.figure()\n",
    "plt.scatter(t_measured, x2_measured, marker='o', color='b', label='measured data', s=75)\n",
    "\n",
    "# # set parameters including bounds; you can also fix parameters (use vary=False)\n",
    "# params = Parameters()\n",
    "# #Initial conditions ARE parameters. They assume they know the initial conditions;\n",
    "# params.add('x10', value=x10, vary=False)\n",
    "# params.add('x20', value=x20, vary=False)\n",
    "# params.add('x30', value=x30, vary=False)\n",
    "\n",
    "# #These are the two kinetic rates, they do not know them. \n",
    "# params.add('k0', value=0.2, min=0.0001, max=2.)\n",
    "# params.add('k1', value=0.3, min=0.0001, max=2.)\n",
    "\n",
    "# fit model\n",
    "#This next line DOES the minimization\n",
    "result = minimize(residual, params, args=(t_measured, x2_measured), method='leastsq')  # leastsq nelder\n",
    "\n",
    "# check results of the fit\n",
    "data_fitted = g(np.linspace(0., 9., 100), y0, result.params)\n",
    "\n",
    "# plot fitted data\n",
    "plt.plot(np.linspace(0., 9., 100), data_fitted[:, 1], '-', linewidth=2, color='red', label='fitted data')\n",
    "plt.legend()\n",
    "plt.xlim([0, max(t_measured)])\n",
    "plt.ylim([0, 1.1 * max(data_fitted[:, 1])])\n",
    "# display fitted statistics\n",
    "report_fit(result)\n",
    "\n",
    "plt.show()"
   ]
  },
  {
   "cell_type": "code",
   "execution_count": 37,
   "metadata": {},
   "outputs": [],
   "source": [
    "t_measured = np.linspace(0, 9, 10)\n",
    "x2_measured = np.array([0.000, 0.416, 0.489, 0.595, 0.506, 0.493, 0.458, 0.394, 0.335, 0.309])"
   ]
  },
  {
   "cell_type": "code",
   "execution_count": 39,
   "metadata": {},
   "outputs": [
    {
     "data": {
      "text/plain": [
       "array([0.   , 0.416, 0.489, 0.595, 0.506, 0.493, 0.458, 0.394, 0.335,\n",
       "       0.309])"
      ]
     },
     "execution_count": 39,
     "metadata": {},
     "output_type": "execute_result"
    }
   ],
   "source": [
    "x2_measured"
   ]
  },
  {
   "cell_type": "code",
   "execution_count": 38,
   "metadata": {},
   "outputs": [
    {
     "data": {
      "text/plain": [
       "array([0., 1., 2., 3., 4., 5., 6., 7., 8., 9.])"
      ]
     },
     "execution_count": 38,
     "metadata": {},
     "output_type": "execute_result"
    }
   ],
   "source": [
    "t_measured"
   ]
  }
 ],
 "metadata": {
  "kernelspec": {
   "display_name": "Python 3",
   "language": "python",
   "name": "python3"
  },
  "language_info": {
   "codemirror_mode": {
    "name": "ipython",
    "version": 3
   },
   "file_extension": ".py",
   "mimetype": "text/x-python",
   "name": "python",
   "nbconvert_exporter": "python",
   "pygments_lexer": "ipython3",
   "version": "3.7.0"
  }
 },
 "nbformat": 4,
 "nbformat_minor": 2
}
