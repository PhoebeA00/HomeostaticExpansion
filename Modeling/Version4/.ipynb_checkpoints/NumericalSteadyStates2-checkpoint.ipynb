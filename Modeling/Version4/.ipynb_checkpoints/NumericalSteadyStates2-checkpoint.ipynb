{
 "cells": [
  {
   "cell_type": "code",
   "execution_count": 1,
   "metadata": {},
   "outputs": [],
   "source": [
    "from sympy import var\n",
    "from sympy import solve\n",
    "import numpy as np\n"
   ]
  },
  {
   "cell_type": "code",
   "execution_count": 2,
   "metadata": {},
   "outputs": [],
   "source": [
    "# Declaring these as variables in python\n",
    "N, T, I, R = var('N T I R')\n",
    "alpha, epsilon, a, c, b_R = var('alpha epsilon a c b_R')\n",
    "mu, beta, kA, n, g = var('mu beta kA n g')\n",
    "b_T = var('b_R')\n",
    "d, e_T, e_R, f = var('d e_T e_R f')"
   ]
  },
  {
   "cell_type": "code",
   "execution_count": 3,
   "metadata": {},
   "outputs": [],
   "source": [
    "############\n",
    "#  Thymus  #\n",
    "############\n",
    "alpha = 0.006 #------------ T Regulatory Cells\n",
    "mu = 60   #---------- Naive T cells\n",
    "Thy = 1 #------------ Size of the thymus\n",
    "Thy_max = 1 #------- Max size of the thymus\n",
    "\n",
    "#########################################\n",
    "#  Naive T cell Differentiation Rates   #\n",
    "#########################################\n",
    "c = 0.01 #--------To T regulatory Cells\n",
    "beta = 10 #------ To activated T cells\n",
    "\n",
    "###########\n",
    "#  Tregs  #\n",
    "###########\n",
    "epsilon = 1 #------------T regulatory cell Self replication\n",
    "z       = 1 #------- Strength of suppression on Naive T cell differention to activation\n",
    "n       = 1 #hill coefficient\n",
    "kA      = 10 #halfSaturationRate \n",
    "\n",
    "##############################################\n",
    "#  IL-2 Cytokine Expression and Consumption  #\n",
    "##############################################\n",
    "d = 0.01 #------- T Cell Expression #This is the value that we want to change.\n",
    "a = 0.1   #------------Activated T cells\n",
    "e_T = 0.01 #------ T Cell Consumption Rate\n",
    "e_R = 0.01 #------ T Reg Consumption Rate\n",
    "\n",
    "##################\n",
    "#  Death Rates   #\n",
    "##################\n",
    "g = 0.01 #-----------Naive T cells\n",
    "b_T = 0.1 #-----------Activated T cells\n",
    "b_R = 0.1 #----------Regulatory T Cells\n",
    "f = 1 #-------------IL-2 Cytokine\n",
    "\n",
    "#N = 50\n",
    "#T = 30\n",
    "#I = 0.5\n",
    "#R = 20"
   ]
  },
  {
   "cell_type": "code",
   "execution_count": 4,
   "metadata": {},
   "outputs": [],
   "source": [
    "dRdt = alpha + (epsilon * a * I * R) + (c * N) - (b_R * R)\n",
    "dNdt = mu - beta*N*(1/(1+(R/kA)**n)) - c*N - g*N \n",
    "dTdt = beta*N*(1/(1+(R/kA)**n)) + a*I*T - b_T*T\n",
    "dIdt = d*T - e_T*I*T - e_R*I*R - f*I\n",
    "\n",
    "sols = solve([dRdt, dNdt, dTdt, dIdt], [R, N, T, I])"
   ]
  },
  {
   "cell_type": "code",
   "execution_count": 6,
   "metadata": {},
   "outputs": [
    {
     "data": {
      "text/plain": [
       "[(-5288.73921629165 + 0.e-19*I,\n",
       "  56813.7410284786 - 0.e-18*I,\n",
       "  10018.8381102587 - 0.e-19*I,\n",
       "  2.07425113443796 + 0.e-20*I),\n",
       " (-0.130307415903954 - 0.e-23*I,\n",
       "  5.91014927915535 + 0.e-22*I,\n",
       "  -119.859651354203 + 0.e-19*I,\n",
       "  5.99599292487988 - 0.e-21*I),\n",
       " (478.929523707555 + 0.e-17*I,\n",
       "  267.226708739359 + 0.e-19*I,\n",
       "  9773.52719558586 - 0.e-19*I,\n",
       "  0.944078054185087 + 0.e-22*I)]"
      ]
     },
     "execution_count": 6,
     "metadata": {},
     "output_type": "execute_result"
    }
   ],
   "source": [
    "sols"
   ]
  },
  {
   "cell_type": "code",
   "execution_count": 7,
   "metadata": {},
   "outputs": [],
   "source": [
    "\n",
    "d = 0.02\n",
    "n = 1;\n",
    "N, T, I, R = var('N T I R')\n",
    "#d = var('d')\n",
    "dRdt = alpha + (epsilon * a * I * R) + (c * N) - (b_R * R)\n",
    "dNdt = mu - beta*N*(1/(1+(R/kA)**n)) - c*N - g*N \n",
    "dTdt = beta*N*(1/(1+(R/kA)**n)) + a*I*T - b_T*T\n",
    "dIdt = d*T - e_T*I*T - e_R*I*R - f*I\n",
    "\n",
    "sols = solve([dRdt, dNdt, dTdt, dIdt], [R, N, T, I])"
   ]
  },
  {
   "cell_type": "code",
   "execution_count": 33,
   "metadata": {},
   "outputs": [
    {
     "data": {
      "text/plain": [
       "[(-5288.73921629165 + 0.e-19*I,\n",
       "  56813.7410284786 - 0.e-18*I,\n",
       "  10018.8381102587 - 0.e-19*I,\n",
       "  2.07425113443796 + 0.e-20*I),\n",
       " (-0.130307415903954 - 0.e-23*I,\n",
       "  5.91014927915535 + 0.e-22*I,\n",
       "  -119.859651354203 + 0.e-19*I,\n",
       "  5.99599292487988 - 0.e-21*I),\n",
       " (478.929523707555 + 0.e-17*I,\n",
       "  267.226708739359 + 0.e-19*I,\n",
       "  9773.52719558586 - 0.e-19*I,\n",
       "  0.944078054185087 + 0.e-22*I)]"
      ]
     },
     "execution_count": 33,
     "metadata": {},
     "output_type": "execute_result"
    }
   ],
   "source": [
    "sols "
   ]
  },
  {
   "cell_type": "code",
   "execution_count": 24,
   "metadata": {},
   "outputs": [],
   "source": [
    "dRdt = alpha + (epsilon * a * I * R) + (c * N) - (b_R * R)\n",
    "dNdt = mu - beta*N*(1/(1+(R/kA)**n)) - c*N - g*N \n",
    "dTdt = beta*N*(1/(1+(R/kA)**n)) + a*I*T - b_T*T\n",
    "dIdt = d*T - e_T*I*T - e_R*I*R - f*I"
   ]
  },
  {
   "cell_type": "code",
   "execution_count": 9,
   "metadata": {},
   "outputs": [],
   "source": [
    "# A grid of d points to evaluate\n",
    "dMin = 0;\n",
    "dMax = 0.01; #Need to think about what a reasonable maximum value is.\n",
    "numD = 10;\n",
    "dRange = np.linspace(dMin, dMax, numD)"
   ]
  },
  {
   "cell_type": "code",
   "execution_count": 11,
   "metadata": {},
   "outputs": [
    {
     "name": "stdout",
     "output_type": "stream",
     "text": [
      "0.0\n",
      "0.0011111111111111111\n",
      "0.0022222222222222222\n",
      "0.003333333333333333\n",
      "0.0044444444444444444\n",
      "0.005555555555555556\n",
      "0.006666666666666666\n",
      "0.0077777777777777776\n",
      "0.008888888888888889\n",
      "0.01\n"
     ]
    }
   ],
   "source": [
    "#Redeclar the variable d to clear any previous values it held\n",
    "d = var('d')\n",
    "\n",
    "#Loop Through dRange\n",
    "for i in dRange:\n",
    "    print(i)\n",
    "\n",
    "    d = i \n",
    "    N, T, I, R = var('N T I R')\n",
    "    dRdt = alpha + (epsilon * a * I * R) + (c * N) - (b_R * R)\n",
    "    dNdt = mu - beta*N*(1/(1+(R/kA)**n)) - c*N - g*N \n",
    "    dTdt = beta*N*(1/(1+(R/kA)**n)) + a*I*T - b_T*T\n",
    "    dIdt = d*T - e_T*I*T - e_R*I*R - f*I\n",
    "\n",
    "    sols = solve([dRdt, dNdt, dTdt, dIdt], [R, N, T, I])"
   ]
  },
  {
   "cell_type": "code",
   "execution_count": 51,
   "metadata": {},
   "outputs": [],
   "source": [
    "from scipy.optimize import fsolve"
   ]
  },
  {
   "cell_type": "code",
   "execution_count": 14,
   "metadata": {},
   "outputs": [],
   "source": [
    "def vectorfield(w, t, p):\n",
    "    \"\"\"\n",
    "    Defines the differential equations for the coupled spring-mass system.\n",
    "\n",
    "    Arguments:\n",
    "        w :  vector of the state variables:\n",
    "                  w = [x1, y1, x2, y2]\n",
    "        t :  time\n",
    "        p :  vector of the parameters:\n",
    "                  p = [m1, m2, k1, k2, L1, L2, b1, b2]\n",
    "    \"\"\"\n",
    "    x1, y1, x2, y2 = w\n",
    "    m1, m2, k1, k2, L1, L2, b1, b2 = p\n",
    "\n",
    "    # Create f = (x1', y1', x2', y2'):\n",
    "    #f [ dRdt, d]\n",
    "    \n",
    "    f = [y1,\n",
    "         (-b1 * y1 - k1 * (x1 - L1) + k2 * (x2 - x1 - L2)) / m1,\n",
    "         y2,\n",
    "         (-b2 * y2 - k2 * (x2 - x1 - L2)) / m2]\n",
    "    return f"
   ]
  },
  {
   "cell_type": "code",
   "execution_count": 15,
   "metadata": {},
   "outputs": [
    {
     "name": "stdout",
     "output_type": "stream",
     "text": [
      "Equilibrium:\n",
      "x1 = 0.5 \n",
      "y1 =  1.5629988847572966e-31 \n",
      "x2 =  1.5 \n",
      "y2 =  0.0\n"
     ]
    }
   ],
   "source": [
    "# Parameter values\n",
    "# Masses:\n",
    "m1 = 1.0\n",
    "m2 = 1.5\n",
    "\n",
    "# Spring constants\n",
    "k1 = 8.0\n",
    "k2 = 40.0\n",
    "\n",
    "# Natural lengths\n",
    "L1 = 0.5\n",
    "L2 = 1.0\n",
    "\n",
    "# Friction coefficients\n",
    "b1 = 0.8\n",
    "b2 = 0.5\n",
    "\n",
    "# Pack up the parameters and initial conditions:\n",
    "p = [m1, m2, k1, k2, L1, L2, b1, b2]\n",
    "\n",
    "# Initial guess to pass to fsolve.  The second and fourth components\n",
    "# are the velocities of the masses, and we know they will be 0 at\n",
    "# equilibrium.  For the positions x1 and x2, we'll try 1 for both.\n",
    "# A better guess could be obtained by solving the ODEs for some time\n",
    "# interval, and using the last point of that solution.\n",
    "w0 = [1.0, 0, 1.0, 0]\n",
    "\n",
    "# Find the equilibrium\n",
    "eq = fsolve(vectorfield, w0, args=(0, p))\n",
    "\n",
    "print('Equilibrium:\\nx1 =', eq[0], '\\ny1 = ', eq[1], '\\nx2 = ', eq[2],'\\ny2 = ',eq[3])"
   ]
  },
  {
   "cell_type": "code",
   "execution_count": 60,
   "metadata": {},
   "outputs": [
    {
     "data": {
      "text/plain": [
       "array([5.00000000e-01, 1.56299888e-31, 1.50000000e+00, 0.00000000e+00])"
      ]
     },
     "execution_count": 60,
     "metadata": {},
     "output_type": "execute_result"
    }
   ],
   "source": [
    "eq"
   ]
  },
  {
   "cell_type": "code",
   "execution_count": 62,
   "metadata": {
    "scrolled": true
   },
   "outputs": [
    {
     "data": {
      "text/plain": [
       "0.5"
      ]
     },
     "execution_count": 62,
     "metadata": {},
     "output_type": "execute_result"
    }
   ],
   "source": [
    "eq[0]"
   ]
  },
  {
   "cell_type": "markdown",
   "metadata": {},
   "source": [
    "# Here is practice"
   ]
  },
  {
   "cell_type": "code",
   "execution_count": 8,
   "metadata": {},
   "outputs": [],
   "source": [
    "from scipy.optimize import fsolve"
   ]
  },
  {
   "cell_type": "code",
   "execution_count": 18,
   "metadata": {},
   "outputs": [],
   "source": [
    "def vectorfield(w, t, p):\n",
    "    \"\"\"\n",
    "    Defines the differential equations for the coupled spring-mass system.\n",
    "\n",
    "    Arguments:\n",
    "        w :  vector of the state variables:\n",
    "                  w = [x1, y1, x2, y2]\n",
    "        t :  time\n",
    "        p :  vector of the parameters:\n",
    "                  p = [m1, m2, k1, k2, L1, L2, b1, b2]\n",
    "    \"\"\"\n",
    "    R, N, T, I, d = w #Values here should be from the steady states found earlier\n",
    "    alpha, Thy, Thy_max, epsilon, a, c, b_R, mu, beta, z, g, b_T, e_T, e_R, f, kA, n = p\n",
    "\n",
    "    # Create f = (x1', y1', x2', y2'):\n",
    "    #f [ dRdt, d]\n",
    "    \n",
    "    f = [R,\n",
    "         alpha*(Thy/Thy_max) + epsilon*a*I*R + c*N - b_R*R,\n",
    "         N,\n",
    "         mu*(Thy/Thy_max) - beta*N*(1/(1+(R/kA)**n)) - c*N - g*N,\n",
    "         T,\n",
    "         beta*N*(1/(1+(R/kA)**n)) + a*I*T - b_T*T,\n",
    "         I,\n",
    "         d*T - e_T*I*T - e_R*I*R - f*I]\n",
    "         \n",
    "         \n",
    "    return f"
   ]
  },
  {
   "cell_type": "code",
   "execution_count": 21,
   "metadata": {},
   "outputs": [
    {
     "ename": "TypeError",
     "evalue": "fsolve: there is a mismatch between the input and output shape of the 'func' argument 'vectorfield'.Shape should be (5,) but it is (8,).",
     "output_type": "error",
     "traceback": [
      "\u001b[0;31m---------------------------------------------------------------------------\u001b[0m",
      "\u001b[0;31mTypeError\u001b[0m                                 Traceback (most recent call last)",
      "\u001b[0;32m<ipython-input-21-1be540d7870c>\u001b[0m in \u001b[0;36m<module>\u001b[0;34m()\u001b[0m\n\u001b[1;32m     40\u001b[0m \u001b[0;31m# w0 = [478.93, 0, 267.23, 0, 9773.53, 0, 0.94, 0, 0.01]\u001b[0m\u001b[0;34m\u001b[0m\u001b[0;34m\u001b[0m\u001b[0m\n\u001b[1;32m     41\u001b[0m \u001b[0mw0\u001b[0m \u001b[0;34m=\u001b[0m \u001b[0;34m[\u001b[0m\u001b[0;36m0\u001b[0m\u001b[0;34m,\u001b[0m\u001b[0;36m0\u001b[0m\u001b[0;34m,\u001b[0m\u001b[0;36m0\u001b[0m\u001b[0;34m,\u001b[0m\u001b[0;36m0\u001b[0m\u001b[0;34m,\u001b[0m\u001b[0;36m0.01\u001b[0m\u001b[0;34m]\u001b[0m\u001b[0;34m\u001b[0m\u001b[0m\n\u001b[0;32m---> 42\u001b[0;31m \u001b[0meq\u001b[0m \u001b[0;34m=\u001b[0m \u001b[0mfsolve\u001b[0m\u001b[0;34m(\u001b[0m\u001b[0mvectorfield\u001b[0m\u001b[0;34m,\u001b[0m \u001b[0mw0\u001b[0m\u001b[0;34m,\u001b[0m \u001b[0margs\u001b[0m\u001b[0;34m=\u001b[0m\u001b[0;34m(\u001b[0m\u001b[0;36m0\u001b[0m\u001b[0;34m,\u001b[0m \u001b[0mp\u001b[0m\u001b[0;34m)\u001b[0m\u001b[0;34m)\u001b[0m\u001b[0;34m\u001b[0m\u001b[0m\n\u001b[0m",
      "\u001b[0;32m~/anaconda3/lib/python3.7/site-packages/scipy/optimize/minpack.py\u001b[0m in \u001b[0;36mfsolve\u001b[0;34m(func, x0, args, fprime, full_output, col_deriv, xtol, maxfev, band, epsfcn, factor, diag)\u001b[0m\n\u001b[1;32m    146\u001b[0m                'diag': diag}\n\u001b[1;32m    147\u001b[0m \u001b[0;34m\u001b[0m\u001b[0m\n\u001b[0;32m--> 148\u001b[0;31m     \u001b[0mres\u001b[0m \u001b[0;34m=\u001b[0m \u001b[0m_root_hybr\u001b[0m\u001b[0;34m(\u001b[0m\u001b[0mfunc\u001b[0m\u001b[0;34m,\u001b[0m \u001b[0mx0\u001b[0m\u001b[0;34m,\u001b[0m \u001b[0margs\u001b[0m\u001b[0;34m,\u001b[0m \u001b[0mjac\u001b[0m\u001b[0;34m=\u001b[0m\u001b[0mfprime\u001b[0m\u001b[0;34m,\u001b[0m \u001b[0;34m**\u001b[0m\u001b[0moptions\u001b[0m\u001b[0;34m)\u001b[0m\u001b[0;34m\u001b[0m\u001b[0m\n\u001b[0m\u001b[1;32m    149\u001b[0m     \u001b[0;32mif\u001b[0m \u001b[0mfull_output\u001b[0m\u001b[0;34m:\u001b[0m\u001b[0;34m\u001b[0m\u001b[0m\n\u001b[1;32m    150\u001b[0m         \u001b[0mx\u001b[0m \u001b[0;34m=\u001b[0m \u001b[0mres\u001b[0m\u001b[0;34m[\u001b[0m\u001b[0;34m'x'\u001b[0m\u001b[0;34m]\u001b[0m\u001b[0;34m\u001b[0m\u001b[0m\n",
      "\u001b[0;32m~/anaconda3/lib/python3.7/site-packages/scipy/optimize/minpack.py\u001b[0m in \u001b[0;36m_root_hybr\u001b[0;34m(func, x0, args, jac, col_deriv, xtol, maxfev, band, eps, factor, diag, **unknown_options)\u001b[0m\n\u001b[1;32m    212\u001b[0m     \u001b[0;32mif\u001b[0m \u001b[0;32mnot\u001b[0m \u001b[0misinstance\u001b[0m\u001b[0;34m(\u001b[0m\u001b[0margs\u001b[0m\u001b[0;34m,\u001b[0m \u001b[0mtuple\u001b[0m\u001b[0;34m)\u001b[0m\u001b[0;34m:\u001b[0m\u001b[0;34m\u001b[0m\u001b[0m\n\u001b[1;32m    213\u001b[0m         \u001b[0margs\u001b[0m \u001b[0;34m=\u001b[0m \u001b[0;34m(\u001b[0m\u001b[0margs\u001b[0m\u001b[0;34m,\u001b[0m\u001b[0;34m)\u001b[0m\u001b[0;34m\u001b[0m\u001b[0m\n\u001b[0;32m--> 214\u001b[0;31m     \u001b[0mshape\u001b[0m\u001b[0;34m,\u001b[0m \u001b[0mdtype\u001b[0m \u001b[0;34m=\u001b[0m \u001b[0m_check_func\u001b[0m\u001b[0;34m(\u001b[0m\u001b[0;34m'fsolve'\u001b[0m\u001b[0;34m,\u001b[0m \u001b[0;34m'func'\u001b[0m\u001b[0;34m,\u001b[0m \u001b[0mfunc\u001b[0m\u001b[0;34m,\u001b[0m \u001b[0mx0\u001b[0m\u001b[0;34m,\u001b[0m \u001b[0margs\u001b[0m\u001b[0;34m,\u001b[0m \u001b[0mn\u001b[0m\u001b[0;34m,\u001b[0m \u001b[0;34m(\u001b[0m\u001b[0mn\u001b[0m\u001b[0;34m,\u001b[0m\u001b[0;34m)\u001b[0m\u001b[0;34m)\u001b[0m\u001b[0;34m\u001b[0m\u001b[0m\n\u001b[0m\u001b[1;32m    215\u001b[0m     \u001b[0;32mif\u001b[0m \u001b[0mepsfcn\u001b[0m \u001b[0;32mis\u001b[0m \u001b[0;32mNone\u001b[0m\u001b[0;34m:\u001b[0m\u001b[0;34m\u001b[0m\u001b[0m\n\u001b[1;32m    216\u001b[0m         \u001b[0mepsfcn\u001b[0m \u001b[0;34m=\u001b[0m \u001b[0mfinfo\u001b[0m\u001b[0;34m(\u001b[0m\u001b[0mdtype\u001b[0m\u001b[0;34m)\u001b[0m\u001b[0;34m.\u001b[0m\u001b[0meps\u001b[0m\u001b[0;34m\u001b[0m\u001b[0m\n",
      "\u001b[0;32m~/anaconda3/lib/python3.7/site-packages/scipy/optimize/minpack.py\u001b[0m in \u001b[0;36m_check_func\u001b[0;34m(checker, argname, thefunc, x0, args, numinputs, output_shape)\u001b[0m\n\u001b[1;32m     39\u001b[0m                 \u001b[0mmsg\u001b[0m \u001b[0;34m+=\u001b[0m \u001b[0;34m\".\"\u001b[0m\u001b[0;34m\u001b[0m\u001b[0m\n\u001b[1;32m     40\u001b[0m             \u001b[0mmsg\u001b[0m \u001b[0;34m+=\u001b[0m \u001b[0;34m'Shape should be %s but it is %s.'\u001b[0m \u001b[0;34m%\u001b[0m \u001b[0;34m(\u001b[0m\u001b[0moutput_shape\u001b[0m\u001b[0;34m,\u001b[0m \u001b[0mshape\u001b[0m\u001b[0;34m(\u001b[0m\u001b[0mres\u001b[0m\u001b[0;34m)\u001b[0m\u001b[0;34m)\u001b[0m\u001b[0;34m\u001b[0m\u001b[0m\n\u001b[0;32m---> 41\u001b[0;31m             \u001b[0;32mraise\u001b[0m \u001b[0mTypeError\u001b[0m\u001b[0;34m(\u001b[0m\u001b[0mmsg\u001b[0m\u001b[0;34m)\u001b[0m\u001b[0;34m\u001b[0m\u001b[0m\n\u001b[0m\u001b[1;32m     42\u001b[0m     \u001b[0;32mif\u001b[0m \u001b[0missubdtype\u001b[0m\u001b[0;34m(\u001b[0m\u001b[0mres\u001b[0m\u001b[0;34m.\u001b[0m\u001b[0mdtype\u001b[0m\u001b[0;34m,\u001b[0m \u001b[0minexact\u001b[0m\u001b[0;34m)\u001b[0m\u001b[0;34m:\u001b[0m\u001b[0;34m\u001b[0m\u001b[0m\n\u001b[1;32m     43\u001b[0m         \u001b[0mdt\u001b[0m \u001b[0;34m=\u001b[0m \u001b[0mres\u001b[0m\u001b[0;34m.\u001b[0m\u001b[0mdtype\u001b[0m\u001b[0;34m\u001b[0m\u001b[0m\n",
      "\u001b[0;31mTypeError\u001b[0m: fsolve: there is a mismatch between the input and output shape of the 'func' argument 'vectorfield'.Shape should be (5,) but it is (8,)."
     ]
    }
   ],
   "source": [
    "############\n",
    "#  Thymus  #\n",
    "############\n",
    "alpha = 0.006 #------------ T Regulatory Cells\n",
    "mu = 60   #---------- Naive T cells\n",
    "Thy = 1 #------------ Size of the thymus\n",
    "Thy_max = 1 #------- Max size of the thymus\n",
    "\n",
    "#########################################\n",
    "#  Naive T cell Differentiation Rates   #\n",
    "#########################################\n",
    "c = 0.01 #--------To T regulatory Cells\n",
    "beta = 10 #------ To activated T cells\n",
    "\n",
    "###########\n",
    "#  Tregs  #\n",
    "###########\n",
    "epsilon = 1 #------------T regulatory cell Self replication\n",
    "z       = 1 #------- Strength of suppression on Naive T cell differention to activation\n",
    "n       = 1 #hill coefficient\n",
    "kA      = 10 #halfSaturationRate \n",
    "\n",
    "##############################################\n",
    "#  IL-2 Cytokine Expression and Consumption  #\n",
    "##############################################\n",
    "# d = 0.01 #------- T Cell Expression #This is the value that we want to change.\n",
    "a = 0.1   #------------Activated T cells\n",
    "e_T = 0.01 #------ T Cell Consumption Rate\n",
    "e_R = 0.01 #------ T Reg Consumption Rate\n",
    "\n",
    "##################\n",
    "#  Death Rates   #\n",
    "##################\n",
    "g = 0.01 #-----------Naive T cells\n",
    "b_T = 0.1 #-----------Activated T cells\n",
    "b_R = 0.1 #----------Regulatory T Cells\n",
    "f = 1 #-------------IL-2 Cytokine\n",
    "\n",
    "p = [alpha, Thy, Thy_max, epsilon, a, c, b_R, mu, beta, z, g, b_T, e_T, e_R, f, kA, n]\n",
    "# w0 = [478.93, 0, 267.23, 0, 9773.53, 0, 0.94, 0, 0.01]\n",
    "w0 = [0,0,0,0,0.01]\n",
    "eq = fsolve(vectorfield, w0, args=(0, p))"
   ]
  },
  {
   "cell_type": "code",
   "execution_count": 66,
   "metadata": {},
   "outputs": [
    {
     "name": "stdout",
     "output_type": "stream",
     "text": [
      "Equilibrium:\n",
      "x1 = 0.5 \n",
      "y1 =  1.5629988847572966e-31 \n",
      "x2 =  1.5 \n",
      "y2 =  0.0\n"
     ]
    }
   ],
   "source": [
    "# Parameter values\n",
    "# Masses:\n",
    "m1 = 1.0\n",
    "m2 = 1.5\n",
    "\n",
    "# Spring constants\n",
    "k1 = 8.0\n",
    "k2 = 40.0\n",
    "\n",
    "# Natural lengths\n",
    "L1 = 0.5\n",
    "L2 = 1.0\n",
    "\n",
    "# Friction coefficients\n",
    "b1 = 0.8\n",
    "b2 = 0.5\n",
    "\n",
    "# Pack up the parameters and initial conditions:\n",
    "p = [m1, m2, k1, k2, L1, L2, b1, b2]\n",
    "\n",
    "# Initial guess to pass to fsolve.  The second and fourth components\n",
    "# are the velocities of the masses, and we know they will be 0 at\n",
    "# equilibrium.  For the positions x1 and x2, we'll try 1 for both.\n",
    "# A better guess could be obtained by solving the ODEs for some time\n",
    "# interval, and using the last point of that solution.\n",
    "w0 = [1.0, 0, 1.0, 0]\n",
    "\n",
    "# Find the equilibrium\n",
    "eq = fsolve(vectorfield, w0, args=(0, p))\n",
    "\n",
    "print('Equilibrium:\\nx1 =', eq[0], '\\ny1 = ', eq[1], '\\nx2 = ', eq[2],'\\ny2 = ',eq[3])"
   ]
  },
  {
   "cell_type": "code",
   "execution_count": null,
   "metadata": {},
   "outputs": [],
   "source": []
  }
 ],
 "metadata": {
  "kernelspec": {
   "display_name": "Python 3",
   "language": "python",
   "name": "python3"
  },
  "language_info": {
   "codemirror_mode": {
    "name": "ipython",
    "version": 3
   },
   "file_extension": ".py",
   "mimetype": "text/x-python",
   "name": "python",
   "nbconvert_exporter": "python",
   "pygments_lexer": "ipython3",
   "version": "3.7.0"
  }
 },
 "nbformat": 4,
 "nbformat_minor": 2
}
