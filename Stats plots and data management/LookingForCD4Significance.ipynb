{
 "cells": [
  {
   "cell_type": "code",
   "execution_count": 130,
   "metadata": {},
   "outputs": [],
   "source": [
    "import pandas as pd\n",
    "import numpy as np\n",
    "import seaborn as sns\n",
    "import matplotlib.pyplot as plt\n",
    "from collections import Counter"
   ]
  },
  {
   "cell_type": "code",
   "execution_count": 131,
   "metadata": {},
   "outputs": [],
   "source": [
    "# Resource information\n",
    "# https://chrisalbon.com/python/data_wrangling/pandas_apply_operations_to_groups/"
   ]
  },
  {
   "cell_type": "markdown",
   "metadata": {},
   "source": [
    "### Preparing My Data"
   ]
  },
  {
   "cell_type": "code",
   "execution_count": 133,
   "metadata": {},
   "outputs": [],
   "source": [
    "pop = pd.read_csv('~/my.work/PhD/HomestaticExpansionProject/ModelData/AfterCalculations.csv')\n",
    "# Choosing spleen only data\n",
    "Splnpop = pop.loc[pop['Organ'] == 'Spleen']\n",
    "\n",
    "# Removing Ages that we do not have information on in the pop file\n",
    "CD69Ages = [0,4,7,9,12,14,15,16,18,20]\n",
    "ActivatedCD4pop = pop[pop.intage.isin(CD69Ages)].copy()"
   ]
  },
  {
   "cell_type": "markdown",
   "metadata": {},
   "source": [
    "### Preparing Genevieves Activation Data"
   ]
  },
  {
   "cell_type": "code",
   "execution_count": 134,
   "metadata": {},
   "outputs": [],
   "source": [
    "CD69df = pd.read_csv('~/my.work/PhD/HomestaticExpansionProject/ModelData/CD69DataFromGen.csv')\n",
    "\n",
    "# Changing IL-2-KO to KO so that the keys match properly\n",
    "CD69df.loc[CD69df['Genotype'] == 'IL-2-KO', ['Genotype']] = 'KO'\n",
    "#Selecting only the columns that we want\n",
    "ACD69df = CD69df[[ 'Age', 'Genotype', 'CD4CD69_pct']]"
   ]
  },
  {
   "cell_type": "markdown",
   "metadata": {},
   "source": [
    "# Prepping data to calculate activated CD4 T cells"
   ]
  },
  {
   "cell_type": "markdown",
   "metadata": {},
   "source": [
    "#### Regression formula found in the lm poly 4 in R for the CD69 data\n",
    "\n",
    "def WTFormula (Age):\n",
    "    return 19.7332352 - 3.1273219*Age + 0.0837712*Age**2 + 0.0138731*Age**3 - 0.0006277*Age**4\n",
    "def KOFormula (Age):\n",
    "    return (8.951248 + 2.383831*Age - 1.320315*Age**2 + 0.150795*Age**3 - 0.004591*Age**4)"
   ]
  },
  {
   "cell_type": "code",
   "execution_count": 135,
   "metadata": {},
   "outputs": [],
   "source": [
    "# w,k = WTFormula(9),KOFormula(9)\n",
    "# print(w,k)\n",
    "\n",
    "#Results from the polynomial\n",
    "FormResults = ([7, \"WT\",5.198136],\n",
    "              [7, \"KO\", 1.642324],\n",
    "              [9, \"WT\", 4.367956],\n",
    "              [9, \"KO\", 3.268216])\n",
    "\n",
    "\n",
    "#Grouping and finding the mean\n",
    "GmCD69 = ACD69df.groupby( [ \"Age\", \"Genotype\"] ).mean().reset_index()\n",
    "\n",
    "#Adding the results from the formula to the groupby mean results of CD69 data\n",
    "for i in FormResults:\n",
    "    GmCD69.loc[len(GmCD69)] = i\n",
    "    "
   ]
  },
  {
   "cell_type": "markdown",
   "metadata": {},
   "source": [
    "# Calculating all activated CD4 T cells"
   ]
  },
  {
   "cell_type": "code",
   "execution_count": 136,
   "metadata": {},
   "outputs": [],
   "source": [
    "def NumOfActivatedCD4(grp):\n",
    "    '''\n",
    "    This will take one pop group and finds the equivalent group from the GmCD69 group, \n",
    "    then takes the percentage from the appropriate GmCD69 percentage and multiplies it to the pop CD4CT group.\n",
    "    Requirement:\n",
    "         age = grp.name[0]\n",
    "         Genotype = str(grp.name[1])\n",
    "    '''\n",
    "\n",
    "#The CD4Tcell groups equivalent to the CD69 data groups. This \n",
    "    pct = GmCD69.loc[(GmCD69['Age'] == grp.name[0]) & (GmCD69['Genotype']==str(grp.name[1]))]['CD4CD69_pct'].iloc[0]\n",
    "    pct = pct / 100\n",
    "    return grp * pct\n",
    "    "
   ]
  },
  {
   "cell_type": "code",
   "execution_count": 137,
   "metadata": {},
   "outputs": [
    {
     "ename": "KeyError",
     "evalue": "'Column not found: NoTregCD4CT'",
     "output_type": "error",
     "traceback": [
      "\u001b[0;31m---------------------------------------------------------------------------\u001b[0m",
      "\u001b[0;31mKeyError\u001b[0m                                  Traceback (most recent call last)",
      "\u001b[0;32m<ipython-input-137-3787e2f95836>\u001b[0m in \u001b[0;36m<module>\u001b[0;34m()\u001b[0m\n\u001b[1;32m      1\u001b[0m \u001b[0;31m# Translation of the groupby: make groups out of age and Genotype,\u001b[0m\u001b[0;34m\u001b[0m\u001b[0;34m\u001b[0m\u001b[0m\n\u001b[1;32m      2\u001b[0m \u001b[0;31m#then take the CD4CT value run it through the function\u001b[0m\u001b[0;34m\u001b[0m\u001b[0;34m\u001b[0m\u001b[0m\n\u001b[0;32m----> 3\u001b[0;31m \u001b[0mActivatedCD4pop\u001b[0m\u001b[0;34m[\u001b[0m\u001b[0;34m'ActivatedCD4CT'\u001b[0m\u001b[0;34m]\u001b[0m \u001b[0;34m=\u001b[0m \u001b[0mActivatedCD4pop\u001b[0m\u001b[0;34m.\u001b[0m\u001b[0mgroupby\u001b[0m\u001b[0;34m(\u001b[0m \u001b[0;34m[\u001b[0m \u001b[0;34m\"intage\"\u001b[0m\u001b[0;34m,\u001b[0m \u001b[0;34m\"Genotype\"\u001b[0m\u001b[0;34m]\u001b[0m \u001b[0;34m)\u001b[0m\u001b[0;34m[\u001b[0m\u001b[0;34m'NoTregCD4CT'\u001b[0m\u001b[0;34m]\u001b[0m\u001b[0;34m.\u001b[0m\u001b[0mapply\u001b[0m\u001b[0;34m(\u001b[0m\u001b[0mNumOfActivatedCD4\u001b[0m\u001b[0;34m)\u001b[0m\u001b[0;34m\u001b[0m\u001b[0m\n\u001b[0m",
      "\u001b[0;32m~/anaconda3/lib/python3.7/site-packages/pandas/core/base.py\u001b[0m in \u001b[0;36m__getitem__\u001b[0;34m(self, key)\u001b[0m\n\u001b[1;32m    265\u001b[0m         \u001b[0;32melse\u001b[0m\u001b[0;34m:\u001b[0m\u001b[0;34m\u001b[0m\u001b[0m\n\u001b[1;32m    266\u001b[0m             \u001b[0;32mif\u001b[0m \u001b[0mkey\u001b[0m \u001b[0;32mnot\u001b[0m \u001b[0;32min\u001b[0m \u001b[0mself\u001b[0m\u001b[0;34m.\u001b[0m\u001b[0mobj\u001b[0m\u001b[0;34m:\u001b[0m\u001b[0;34m\u001b[0m\u001b[0m\n\u001b[0;32m--> 267\u001b[0;31m                 \u001b[0;32mraise\u001b[0m \u001b[0mKeyError\u001b[0m\u001b[0;34m(\u001b[0m\u001b[0;34m\"Column not found: {key}\"\u001b[0m\u001b[0;34m.\u001b[0m\u001b[0mformat\u001b[0m\u001b[0;34m(\u001b[0m\u001b[0mkey\u001b[0m\u001b[0;34m=\u001b[0m\u001b[0mkey\u001b[0m\u001b[0;34m)\u001b[0m\u001b[0;34m)\u001b[0m\u001b[0;34m\u001b[0m\u001b[0m\n\u001b[0m\u001b[1;32m    268\u001b[0m             \u001b[0;32mreturn\u001b[0m \u001b[0mself\u001b[0m\u001b[0;34m.\u001b[0m\u001b[0m_gotitem\u001b[0m\u001b[0;34m(\u001b[0m\u001b[0mkey\u001b[0m\u001b[0;34m,\u001b[0m \u001b[0mndim\u001b[0m\u001b[0;34m=\u001b[0m\u001b[0;36m1\u001b[0m\u001b[0;34m)\u001b[0m\u001b[0;34m\u001b[0m\u001b[0m\n\u001b[1;32m    269\u001b[0m \u001b[0;34m\u001b[0m\u001b[0m\n",
      "\u001b[0;31mKeyError\u001b[0m: 'Column not found: NoTregCD4CT'"
     ]
    }
   ],
   "source": [
    "# Translation of the groupby: make groups out of age and Genotype, \n",
    "#then take the CD4CT value run it through the function\n",
    "ActivatedCD4pop['ActivatedCD4CT'] = ActivatedCD4pop.groupby( [ \"intage\", \"Genotype\"] )['CD4CT'].apply(NumOfActivatedCD4)"
   ]
  },
  {
   "cell_type": "code",
   "execution_count": 129,
   "metadata": {},
   "outputs": [],
   "source": [
    "ActivatedCD4pop.to_csv('/home/jon/my.work/PhD/HomestaticExpansionProject/ModelData/ActivatedCD4pop.csv')"
   ]
  },
  {
   "cell_type": "code",
   "execution_count": null,
   "metadata": {},
   "outputs": [],
   "source": []
  },
  {
   "cell_type": "code",
   "execution_count": null,
   "metadata": {},
   "outputs": [],
   "source": []
  },
  {
   "cell_type": "code",
   "execution_count": null,
   "metadata": {},
   "outputs": [],
   "source": []
  },
  {
   "cell_type": "code",
   "execution_count": null,
   "metadata": {},
   "outputs": [],
   "source": []
  },
  {
   "cell_type": "code",
   "execution_count": 128,
   "metadata": {},
   "outputs": [],
   "source": [
    "a = ActivatedCD4pop[['Age', 'Genotype', 'Organ', 'CD4CT', 'ActivatedCD4CT']]\n",
    "a.to_csv('/home/jon/Desktop/ActivatedCD4pop.csv')"
   ]
  },
  {
   "cell_type": "code",
   "execution_count": 95,
   "metadata": {},
   "outputs": [
    {
     "data": {
      "text/plain": [
       "dict_keys([(0, 'KO'), (0, 'WT'), (4, 'KO'), (4, 'WT'), (7, 'KO'), (7, 'WT'), (9, 'KO'), (9, 'WT'), (12, 'KO'), (12, 'WT'), (14, 'KO'), (14, 'WT'), (18, 'KO'), (18, 'WT')])"
      ]
     },
     "execution_count": 95,
     "metadata": {},
     "output_type": "execute_result"
    }
   ],
   "source": [
    "a = ActivatedCD4pop.groupby( [ \"intage\", \"Genotype\"] )['CD4CT']\n",
    "a.groups.keys()"
   ]
  },
  {
   "cell_type": "code",
   "execution_count": 24,
   "metadata": {},
   "outputs": [],
   "source": [
    "def NumOfActivatedCD4(grp):\n",
    "#     age = grp.name[0]\n",
    "#     Genotype = str(grp.name[1])\n",
    "# '''\n",
    "\n",
    "# This takes the CD4CD69 positive percentages and multiplies it to the CD4 count\n",
    "# this is completely reliant on the CD69 data set to have two columns as a conditional, and the keys of our groupby \n",
    "# determines what those conidtions are\n",
    "# '''\n",
    "    pct = AGmCD69.loc[(AGmCD69['Age'] == grp.name[0]) & (AGmCD69['Genotype']==str(grp.name[1]))]['CD4CD69_pct'].iloc[0]\n",
    "    pct = pct / 100\n",
    "    return grp * pct\n",
    "    "
   ]
  },
  {
   "cell_type": "markdown",
   "metadata": {},
   "source": [
    "# Practicing the groupby applies\n"
   ]
  },
  {
   "cell_type": "code",
   "execution_count": 25,
   "metadata": {},
   "outputs": [],
   "source": [
    "#Prepping the data\n",
    "ApopA = popA.loc[(popA.intage == 4) | (popA.intage == 7)].copy()\n",
    "AGmCD69 = GmCD69.loc[(GmCD69.Age == 4) | (GmCD69.Age == 7)].copy()"
   ]
  },
  {
   "cell_type": "code",
   "execution_count": 26,
   "metadata": {},
   "outputs": [
    {
     "data": {
      "text/html": [
       "<div>\n",
       "<style scoped>\n",
       "    .dataframe tbody tr th:only-of-type {\n",
       "        vertical-align: middle;\n",
       "    }\n",
       "\n",
       "    .dataframe tbody tr th {\n",
       "        vertical-align: top;\n",
       "    }\n",
       "\n",
       "    .dataframe thead th {\n",
       "        text-align: right;\n",
       "    }\n",
       "</style>\n",
       "<table border=\"1\" class=\"dataframe\">\n",
       "  <thead>\n",
       "    <tr style=\"text-align: right;\">\n",
       "      <th></th>\n",
       "      <th>intage</th>\n",
       "      <th>Genotype</th>\n",
       "      <th>CD4CT</th>\n",
       "    </tr>\n",
       "  </thead>\n",
       "  <tbody>\n",
       "    <tr>\n",
       "      <th>16</th>\n",
       "      <td>7</td>\n",
       "      <td>WT</td>\n",
       "      <td>0.404333</td>\n",
       "    </tr>\n",
       "    <tr>\n",
       "      <th>17</th>\n",
       "      <td>7</td>\n",
       "      <td>KO</td>\n",
       "      <td>0.230798</td>\n",
       "    </tr>\n",
       "    <tr>\n",
       "      <th>18</th>\n",
       "      <td>7</td>\n",
       "      <td>KO</td>\n",
       "      <td>0.313847</td>\n",
       "    </tr>\n",
       "    <tr>\n",
       "      <th>37</th>\n",
       "      <td>7</td>\n",
       "      <td>WT</td>\n",
       "      <td>0.465259</td>\n",
       "    </tr>\n",
       "    <tr>\n",
       "      <th>38</th>\n",
       "      <td>7</td>\n",
       "      <td>KO</td>\n",
       "      <td>0.287034</td>\n",
       "    </tr>\n",
       "    <tr>\n",
       "      <th>39</th>\n",
       "      <td>7</td>\n",
       "      <td>WT</td>\n",
       "      <td>0.354771</td>\n",
       "    </tr>\n",
       "    <tr>\n",
       "      <th>40</th>\n",
       "      <td>7</td>\n",
       "      <td>KO</td>\n",
       "      <td>0.319590</td>\n",
       "    </tr>\n",
       "    <tr>\n",
       "      <th>41</th>\n",
       "      <td>4</td>\n",
       "      <td>WT</td>\n",
       "      <td>0.232300</td>\n",
       "    </tr>\n",
       "    <tr>\n",
       "      <th>42</th>\n",
       "      <td>4</td>\n",
       "      <td>KO</td>\n",
       "      <td>0.328220</td>\n",
       "    </tr>\n",
       "    <tr>\n",
       "      <th>51</th>\n",
       "      <td>4</td>\n",
       "      <td>WT</td>\n",
       "      <td>0.081874</td>\n",
       "    </tr>\n",
       "    <tr>\n",
       "      <th>52</th>\n",
       "      <td>4</td>\n",
       "      <td>KO</td>\n",
       "      <td>0.084744</td>\n",
       "    </tr>\n",
       "    <tr>\n",
       "      <th>53</th>\n",
       "      <td>4</td>\n",
       "      <td>WT</td>\n",
       "      <td>0.059233</td>\n",
       "    </tr>\n",
       "    <tr>\n",
       "      <th>54</th>\n",
       "      <td>4</td>\n",
       "      <td>KO</td>\n",
       "      <td>0.086115</td>\n",
       "    </tr>\n",
       "    <tr>\n",
       "      <th>78</th>\n",
       "      <td>7</td>\n",
       "      <td>WT</td>\n",
       "      <td>0.551144</td>\n",
       "    </tr>\n",
       "    <tr>\n",
       "      <th>79</th>\n",
       "      <td>7</td>\n",
       "      <td>KO</td>\n",
       "      <td>0.545326</td>\n",
       "    </tr>\n",
       "    <tr>\n",
       "      <th>80</th>\n",
       "      <td>7</td>\n",
       "      <td>KO</td>\n",
       "      <td>0.711323</td>\n",
       "    </tr>\n",
       "    <tr>\n",
       "      <th>99</th>\n",
       "      <td>7</td>\n",
       "      <td>WT</td>\n",
       "      <td>0.965524</td>\n",
       "    </tr>\n",
       "    <tr>\n",
       "      <th>100</th>\n",
       "      <td>7</td>\n",
       "      <td>KO</td>\n",
       "      <td>1.991885</td>\n",
       "    </tr>\n",
       "    <tr>\n",
       "      <th>101</th>\n",
       "      <td>7</td>\n",
       "      <td>WT</td>\n",
       "      <td>1.248493</td>\n",
       "    </tr>\n",
       "    <tr>\n",
       "      <th>102</th>\n",
       "      <td>7</td>\n",
       "      <td>KO</td>\n",
       "      <td>0.841330</td>\n",
       "    </tr>\n",
       "    <tr>\n",
       "      <th>103</th>\n",
       "      <td>4</td>\n",
       "      <td>WT</td>\n",
       "      <td>2.249891</td>\n",
       "    </tr>\n",
       "    <tr>\n",
       "      <th>104</th>\n",
       "      <td>4</td>\n",
       "      <td>KO</td>\n",
       "      <td>3.798271</td>\n",
       "    </tr>\n",
       "    <tr>\n",
       "      <th>113</th>\n",
       "      <td>4</td>\n",
       "      <td>WT</td>\n",
       "      <td>0.902591</td>\n",
       "    </tr>\n",
       "    <tr>\n",
       "      <th>114</th>\n",
       "      <td>4</td>\n",
       "      <td>KO</td>\n",
       "      <td>0.950226</td>\n",
       "    </tr>\n",
       "    <tr>\n",
       "      <th>115</th>\n",
       "      <td>4</td>\n",
       "      <td>WT</td>\n",
       "      <td>0.961913</td>\n",
       "    </tr>\n",
       "    <tr>\n",
       "      <th>116</th>\n",
       "      <td>4</td>\n",
       "      <td>KO</td>\n",
       "      <td>0.900626</td>\n",
       "    </tr>\n",
       "  </tbody>\n",
       "</table>\n",
       "</div>"
      ],
      "text/plain": [
       "     intage Genotype     CD4CT\n",
       "16        7       WT  0.404333\n",
       "17        7       KO  0.230798\n",
       "18        7       KO  0.313847\n",
       "37        7       WT  0.465259\n",
       "38        7       KO  0.287034\n",
       "39        7       WT  0.354771\n",
       "40        7       KO  0.319590\n",
       "41        4       WT  0.232300\n",
       "42        4       KO  0.328220\n",
       "51        4       WT  0.081874\n",
       "52        4       KO  0.084744\n",
       "53        4       WT  0.059233\n",
       "54        4       KO  0.086115\n",
       "78        7       WT  0.551144\n",
       "79        7       KO  0.545326\n",
       "80        7       KO  0.711323\n",
       "99        7       WT  0.965524\n",
       "100       7       KO  1.991885\n",
       "101       7       WT  1.248493\n",
       "102       7       KO  0.841330\n",
       "103       4       WT  2.249891\n",
       "104       4       KO  3.798271\n",
       "113       4       WT  0.902591\n",
       "114       4       KO  0.950226\n",
       "115       4       WT  0.961913\n",
       "116       4       KO  0.900626"
      ]
     },
     "execution_count": 26,
     "metadata": {},
     "output_type": "execute_result"
    }
   ],
   "source": [
    "ApopA"
   ]
  },
  {
   "cell_type": "code",
   "execution_count": 27,
   "metadata": {},
   "outputs": [],
   "source": [
    "def ANumOfActivatedCD4(grp):\n",
    "#     age = grp.name[0]\n",
    "#     Genotype = str(grp.name[1])\n",
    "# '''\n",
    "# This takes the CD4CD69 positive percentages and multiplies it to the CD4 count\n",
    "# this is completely reliant on the CD69 data set to have two columns as a conditional, and the keys of our groupby \n",
    "# determines what those conidtions are\n",
    "# '''\n",
    "    pct = AGmCD69.loc[(AGmCD69['Age'] == grp.name[0]) & (AGmCD69['Genotype']==str(grp.name[1]))]['CD4CD69_pct'].iloc[0]\n",
    "    pct = pct / 100\n",
    "    return grp * pct\n",
    "    "
   ]
  },
  {
   "cell_type": "code",
   "execution_count": 28,
   "metadata": {},
   "outputs": [],
   "source": [
    "\n",
    "\n",
    "def Testname(grp):\n",
    "    a = int(grp.name[0])\n",
    "    return a"
   ]
  },
  {
   "cell_type": "code",
   "execution_count": 29,
   "metadata": {},
   "outputs": [],
   "source": [
    "ApopA['Test'] = ApopA.groupby( [ \"intage\", \"Genotype\"] )['CD4CT'].transform(Testname)"
   ]
  },
  {
   "cell_type": "code",
   "execution_count": 30,
   "metadata": {},
   "outputs": [
    {
     "name": "stdout",
     "output_type": "stream",
     "text": [
      "KO\n",
      "KO\n",
      "WT\n",
      "KO\n",
      "WT\n"
     ]
    },
    {
     "data": {
      "text/html": [
       "<div>\n",
       "<style scoped>\n",
       "    .dataframe tbody tr th:only-of-type {\n",
       "        vertical-align: middle;\n",
       "    }\n",
       "\n",
       "    .dataframe tbody tr th {\n",
       "        vertical-align: top;\n",
       "    }\n",
       "\n",
       "    .dataframe thead th {\n",
       "        text-align: right;\n",
       "    }\n",
       "</style>\n",
       "<table border=\"1\" class=\"dataframe\">\n",
       "  <thead>\n",
       "    <tr style=\"text-align: right;\">\n",
       "      <th></th>\n",
       "    </tr>\n",
       "  </thead>\n",
       "  <tbody>\n",
       "  </tbody>\n",
       "</table>\n",
       "</div>"
      ],
      "text/plain": [
       "Empty DataFrame\n",
       "Columns: []\n",
       "Index: []"
      ]
     },
     "execution_count": 30,
     "metadata": {},
     "output_type": "execute_result"
    }
   ],
   "source": [
    "ApopA.groupby( [ \"intage\", \"Genotype\"] ).apply(lambda x: print(x.name[1]))"
   ]
  },
  {
   "cell_type": "code",
   "execution_count": 31,
   "metadata": {},
   "outputs": [],
   "source": [
    "ApopA['ActivatedCD4CT'] = ApopA.groupby( [ \"intage\", \"Genotype\"] )['CD4CT'].apply(ANumOfActivatedCD4)\n",
    "ApopA['NonActivated'] = ApopA['CD4CT'] - ApopA['ActivatedCD4CT']\n",
    "ApopA['Activated_Pct'] = ApopA['ActivatedCD4CT'] / ApopA['CD4CT']"
   ]
  },
  {
   "cell_type": "code",
   "execution_count": 32,
   "metadata": {},
   "outputs": [
    {
     "data": {
      "text/html": [
       "<div>\n",
       "<style scoped>\n",
       "    .dataframe tbody tr th:only-of-type {\n",
       "        vertical-align: middle;\n",
       "    }\n",
       "\n",
       "    .dataframe tbody tr th {\n",
       "        vertical-align: top;\n",
       "    }\n",
       "\n",
       "    .dataframe thead th {\n",
       "        text-align: right;\n",
       "    }\n",
       "</style>\n",
       "<table border=\"1\" class=\"dataframe\">\n",
       "  <thead>\n",
       "    <tr style=\"text-align: right;\">\n",
       "      <th></th>\n",
       "      <th>intage</th>\n",
       "      <th>Genotype</th>\n",
       "      <th>CD4CT</th>\n",
       "      <th>Test</th>\n",
       "      <th>ActivatedCD4CT</th>\n",
       "      <th>NonActivated</th>\n",
       "      <th>Activated_Pct</th>\n",
       "    </tr>\n",
       "  </thead>\n",
       "  <tbody>\n",
       "    <tr>\n",
       "      <th>16</th>\n",
       "      <td>7</td>\n",
       "      <td>WT</td>\n",
       "      <td>0.404333</td>\n",
       "      <td>7.0</td>\n",
       "      <td>0.021018</td>\n",
       "      <td>0.383315</td>\n",
       "      <td>0.051981</td>\n",
       "    </tr>\n",
       "    <tr>\n",
       "      <th>17</th>\n",
       "      <td>7</td>\n",
       "      <td>KO</td>\n",
       "      <td>0.230798</td>\n",
       "      <td>7.0</td>\n",
       "      <td>0.003790</td>\n",
       "      <td>0.227007</td>\n",
       "      <td>0.016423</td>\n",
       "    </tr>\n",
       "    <tr>\n",
       "      <th>18</th>\n",
       "      <td>7</td>\n",
       "      <td>KO</td>\n",
       "      <td>0.313847</td>\n",
       "      <td>7.0</td>\n",
       "      <td>0.005154</td>\n",
       "      <td>0.308693</td>\n",
       "      <td>0.016423</td>\n",
       "    </tr>\n",
       "    <tr>\n",
       "      <th>37</th>\n",
       "      <td>7</td>\n",
       "      <td>WT</td>\n",
       "      <td>0.465259</td>\n",
       "      <td>7.0</td>\n",
       "      <td>0.024185</td>\n",
       "      <td>0.441074</td>\n",
       "      <td>0.051981</td>\n",
       "    </tr>\n",
       "    <tr>\n",
       "      <th>38</th>\n",
       "      <td>7</td>\n",
       "      <td>KO</td>\n",
       "      <td>0.287034</td>\n",
       "      <td>7.0</td>\n",
       "      <td>0.004714</td>\n",
       "      <td>0.282320</td>\n",
       "      <td>0.016423</td>\n",
       "    </tr>\n",
       "    <tr>\n",
       "      <th>39</th>\n",
       "      <td>7</td>\n",
       "      <td>WT</td>\n",
       "      <td>0.354771</td>\n",
       "      <td>7.0</td>\n",
       "      <td>0.018441</td>\n",
       "      <td>0.336329</td>\n",
       "      <td>0.051981</td>\n",
       "    </tr>\n",
       "    <tr>\n",
       "      <th>40</th>\n",
       "      <td>7</td>\n",
       "      <td>KO</td>\n",
       "      <td>0.319590</td>\n",
       "      <td>7.0</td>\n",
       "      <td>0.005249</td>\n",
       "      <td>0.314341</td>\n",
       "      <td>0.016423</td>\n",
       "    </tr>\n",
       "    <tr>\n",
       "      <th>41</th>\n",
       "      <td>4</td>\n",
       "      <td>WT</td>\n",
       "      <td>0.232300</td>\n",
       "      <td>4.0</td>\n",
       "      <td>0.022123</td>\n",
       "      <td>0.210177</td>\n",
       "      <td>0.095233</td>\n",
       "    </tr>\n",
       "    <tr>\n",
       "      <th>42</th>\n",
       "      <td>4</td>\n",
       "      <td>KO</td>\n",
       "      <td>0.328220</td>\n",
       "      <td>4.0</td>\n",
       "      <td>0.022527</td>\n",
       "      <td>0.305693</td>\n",
       "      <td>0.068633</td>\n",
       "    </tr>\n",
       "    <tr>\n",
       "      <th>51</th>\n",
       "      <td>4</td>\n",
       "      <td>WT</td>\n",
       "      <td>0.081874</td>\n",
       "      <td>4.0</td>\n",
       "      <td>0.007797</td>\n",
       "      <td>0.074077</td>\n",
       "      <td>0.095233</td>\n",
       "    </tr>\n",
       "    <tr>\n",
       "      <th>52</th>\n",
       "      <td>4</td>\n",
       "      <td>KO</td>\n",
       "      <td>0.084744</td>\n",
       "      <td>4.0</td>\n",
       "      <td>0.005816</td>\n",
       "      <td>0.078928</td>\n",
       "      <td>0.068633</td>\n",
       "    </tr>\n",
       "    <tr>\n",
       "      <th>53</th>\n",
       "      <td>4</td>\n",
       "      <td>WT</td>\n",
       "      <td>0.059233</td>\n",
       "      <td>4.0</td>\n",
       "      <td>0.005641</td>\n",
       "      <td>0.053592</td>\n",
       "      <td>0.095233</td>\n",
       "    </tr>\n",
       "    <tr>\n",
       "      <th>54</th>\n",
       "      <td>4</td>\n",
       "      <td>KO</td>\n",
       "      <td>0.086115</td>\n",
       "      <td>4.0</td>\n",
       "      <td>0.005910</td>\n",
       "      <td>0.080204</td>\n",
       "      <td>0.068633</td>\n",
       "    </tr>\n",
       "    <tr>\n",
       "      <th>78</th>\n",
       "      <td>7</td>\n",
       "      <td>WT</td>\n",
       "      <td>0.551144</td>\n",
       "      <td>7.0</td>\n",
       "      <td>0.028649</td>\n",
       "      <td>0.522495</td>\n",
       "      <td>0.051981</td>\n",
       "    </tr>\n",
       "    <tr>\n",
       "      <th>79</th>\n",
       "      <td>7</td>\n",
       "      <td>KO</td>\n",
       "      <td>0.545326</td>\n",
       "      <td>7.0</td>\n",
       "      <td>0.008956</td>\n",
       "      <td>0.536370</td>\n",
       "      <td>0.016423</td>\n",
       "    </tr>\n",
       "    <tr>\n",
       "      <th>80</th>\n",
       "      <td>7</td>\n",
       "      <td>KO</td>\n",
       "      <td>0.711323</td>\n",
       "      <td>7.0</td>\n",
       "      <td>0.011682</td>\n",
       "      <td>0.699641</td>\n",
       "      <td>0.016423</td>\n",
       "    </tr>\n",
       "    <tr>\n",
       "      <th>99</th>\n",
       "      <td>7</td>\n",
       "      <td>WT</td>\n",
       "      <td>0.965524</td>\n",
       "      <td>7.0</td>\n",
       "      <td>0.050189</td>\n",
       "      <td>0.915334</td>\n",
       "      <td>0.051981</td>\n",
       "    </tr>\n",
       "    <tr>\n",
       "      <th>100</th>\n",
       "      <td>7</td>\n",
       "      <td>KO</td>\n",
       "      <td>1.991885</td>\n",
       "      <td>7.0</td>\n",
       "      <td>0.032713</td>\n",
       "      <td>1.959172</td>\n",
       "      <td>0.016423</td>\n",
       "    </tr>\n",
       "    <tr>\n",
       "      <th>101</th>\n",
       "      <td>7</td>\n",
       "      <td>WT</td>\n",
       "      <td>1.248493</td>\n",
       "      <td>7.0</td>\n",
       "      <td>0.064898</td>\n",
       "      <td>1.183595</td>\n",
       "      <td>0.051981</td>\n",
       "    </tr>\n",
       "    <tr>\n",
       "      <th>102</th>\n",
       "      <td>7</td>\n",
       "      <td>KO</td>\n",
       "      <td>0.841330</td>\n",
       "      <td>7.0</td>\n",
       "      <td>0.013817</td>\n",
       "      <td>0.827513</td>\n",
       "      <td>0.016423</td>\n",
       "    </tr>\n",
       "    <tr>\n",
       "      <th>103</th>\n",
       "      <td>4</td>\n",
       "      <td>WT</td>\n",
       "      <td>2.249891</td>\n",
       "      <td>4.0</td>\n",
       "      <td>0.214265</td>\n",
       "      <td>2.035627</td>\n",
       "      <td>0.095233</td>\n",
       "    </tr>\n",
       "    <tr>\n",
       "      <th>104</th>\n",
       "      <td>4</td>\n",
       "      <td>KO</td>\n",
       "      <td>3.798271</td>\n",
       "      <td>4.0</td>\n",
       "      <td>0.260688</td>\n",
       "      <td>3.537583</td>\n",
       "      <td>0.068633</td>\n",
       "    </tr>\n",
       "    <tr>\n",
       "      <th>113</th>\n",
       "      <td>4</td>\n",
       "      <td>WT</td>\n",
       "      <td>0.902591</td>\n",
       "      <td>4.0</td>\n",
       "      <td>0.085957</td>\n",
       "      <td>0.816634</td>\n",
       "      <td>0.095233</td>\n",
       "    </tr>\n",
       "    <tr>\n",
       "      <th>114</th>\n",
       "      <td>4</td>\n",
       "      <td>KO</td>\n",
       "      <td>0.950226</td>\n",
       "      <td>4.0</td>\n",
       "      <td>0.065217</td>\n",
       "      <td>0.885009</td>\n",
       "      <td>0.068633</td>\n",
       "    </tr>\n",
       "    <tr>\n",
       "      <th>115</th>\n",
       "      <td>4</td>\n",
       "      <td>WT</td>\n",
       "      <td>0.961913</td>\n",
       "      <td>4.0</td>\n",
       "      <td>0.091606</td>\n",
       "      <td>0.870306</td>\n",
       "      <td>0.095233</td>\n",
       "    </tr>\n",
       "    <tr>\n",
       "      <th>116</th>\n",
       "      <td>4</td>\n",
       "      <td>KO</td>\n",
       "      <td>0.900626</td>\n",
       "      <td>4.0</td>\n",
       "      <td>0.061813</td>\n",
       "      <td>0.838813</td>\n",
       "      <td>0.068633</td>\n",
       "    </tr>\n",
       "  </tbody>\n",
       "</table>\n",
       "</div>"
      ],
      "text/plain": [
       "     intage Genotype     CD4CT  Test  ActivatedCD4CT  NonActivated  \\\n",
       "16        7       WT  0.404333   7.0        0.021018      0.383315   \n",
       "17        7       KO  0.230798   7.0        0.003790      0.227007   \n",
       "18        7       KO  0.313847   7.0        0.005154      0.308693   \n",
       "37        7       WT  0.465259   7.0        0.024185      0.441074   \n",
       "38        7       KO  0.287034   7.0        0.004714      0.282320   \n",
       "39        7       WT  0.354771   7.0        0.018441      0.336329   \n",
       "40        7       KO  0.319590   7.0        0.005249      0.314341   \n",
       "41        4       WT  0.232300   4.0        0.022123      0.210177   \n",
       "42        4       KO  0.328220   4.0        0.022527      0.305693   \n",
       "51        4       WT  0.081874   4.0        0.007797      0.074077   \n",
       "52        4       KO  0.084744   4.0        0.005816      0.078928   \n",
       "53        4       WT  0.059233   4.0        0.005641      0.053592   \n",
       "54        4       KO  0.086115   4.0        0.005910      0.080204   \n",
       "78        7       WT  0.551144   7.0        0.028649      0.522495   \n",
       "79        7       KO  0.545326   7.0        0.008956      0.536370   \n",
       "80        7       KO  0.711323   7.0        0.011682      0.699641   \n",
       "99        7       WT  0.965524   7.0        0.050189      0.915334   \n",
       "100       7       KO  1.991885   7.0        0.032713      1.959172   \n",
       "101       7       WT  1.248493   7.0        0.064898      1.183595   \n",
       "102       7       KO  0.841330   7.0        0.013817      0.827513   \n",
       "103       4       WT  2.249891   4.0        0.214265      2.035627   \n",
       "104       4       KO  3.798271   4.0        0.260688      3.537583   \n",
       "113       4       WT  0.902591   4.0        0.085957      0.816634   \n",
       "114       4       KO  0.950226   4.0        0.065217      0.885009   \n",
       "115       4       WT  0.961913   4.0        0.091606      0.870306   \n",
       "116       4       KO  0.900626   4.0        0.061813      0.838813   \n",
       "\n",
       "     Activated_Pct  \n",
       "16        0.051981  \n",
       "17        0.016423  \n",
       "18        0.016423  \n",
       "37        0.051981  \n",
       "38        0.016423  \n",
       "39        0.051981  \n",
       "40        0.016423  \n",
       "41        0.095233  \n",
       "42        0.068633  \n",
       "51        0.095233  \n",
       "52        0.068633  \n",
       "53        0.095233  \n",
       "54        0.068633  \n",
       "78        0.051981  \n",
       "79        0.016423  \n",
       "80        0.016423  \n",
       "99        0.051981  \n",
       "100       0.016423  \n",
       "101       0.051981  \n",
       "102       0.016423  \n",
       "103       0.095233  \n",
       "104       0.068633  \n",
       "113       0.095233  \n",
       "114       0.068633  \n",
       "115       0.095233  \n",
       "116       0.068633  "
      ]
     },
     "execution_count": 32,
     "metadata": {},
     "output_type": "execute_result"
    }
   ],
   "source": [
    "ApopA"
   ]
  },
  {
   "cell_type": "code",
   "execution_count": 34,
   "metadata": {},
   "outputs": [],
   "source": [
    "#Takes value from the cells that we want in the CD69 df\n",
    "CD69_pct = AGmCD69.loc[(AGmCD69['Age'] == 4) & (AGmCD69['Genotype']=='KO')]['CD4CD69_pct'].iloc[0]"
   ]
  },
  {
   "cell_type": "code",
   "execution_count": 36,
   "metadata": {},
   "outputs": [
    {
     "ename": "AttributeError",
     "evalue": "'DataFrame' object has no attribute 'groups'",
     "output_type": "error",
     "traceback": [
      "\u001b[0;31m---------------------------------------------------------------------------\u001b[0m",
      "\u001b[0;31mAttributeError\u001b[0m                            Traceback (most recent call last)",
      "\u001b[0;32m<ipython-input-36-67cc16bf03e3>\u001b[0m in \u001b[0;36m<module>\u001b[0;34m()\u001b[0m\n\u001b[1;32m      1\u001b[0m \u001b[0;31m#Getting the keys from the group by\u001b[0m\u001b[0;34m\u001b[0m\u001b[0;34m\u001b[0m\u001b[0m\n\u001b[0;32m----> 2\u001b[0;31m \u001b[0ma\u001b[0m \u001b[0;34m=\u001b[0m \u001b[0mApopA\u001b[0m\u001b[0;34m.\u001b[0m\u001b[0mgroups\u001b[0m\u001b[0;34m.\u001b[0m\u001b[0mkeys\u001b[0m\u001b[0;34m(\u001b[0m\u001b[0;34m)\u001b[0m\u001b[0;34m\u001b[0m\u001b[0m\n\u001b[0m",
      "\u001b[0;32m~/anaconda3/lib/python3.7/site-packages/pandas/core/generic.py\u001b[0m in \u001b[0;36m__getattr__\u001b[0;34m(self, name)\u001b[0m\n\u001b[1;32m   4374\u001b[0m             \u001b[0;32mif\u001b[0m \u001b[0mself\u001b[0m\u001b[0;34m.\u001b[0m\u001b[0m_info_axis\u001b[0m\u001b[0;34m.\u001b[0m\u001b[0m_can_hold_identifiers_and_holds_name\u001b[0m\u001b[0;34m(\u001b[0m\u001b[0mname\u001b[0m\u001b[0;34m)\u001b[0m\u001b[0;34m:\u001b[0m\u001b[0;34m\u001b[0m\u001b[0m\n\u001b[1;32m   4375\u001b[0m                 \u001b[0;32mreturn\u001b[0m \u001b[0mself\u001b[0m\u001b[0;34m[\u001b[0m\u001b[0mname\u001b[0m\u001b[0;34m]\u001b[0m\u001b[0;34m\u001b[0m\u001b[0m\n\u001b[0;32m-> 4376\u001b[0;31m             \u001b[0;32mreturn\u001b[0m \u001b[0mobject\u001b[0m\u001b[0;34m.\u001b[0m\u001b[0m__getattribute__\u001b[0m\u001b[0;34m(\u001b[0m\u001b[0mself\u001b[0m\u001b[0;34m,\u001b[0m \u001b[0mname\u001b[0m\u001b[0;34m)\u001b[0m\u001b[0;34m\u001b[0m\u001b[0m\n\u001b[0m\u001b[1;32m   4377\u001b[0m \u001b[0;34m\u001b[0m\u001b[0m\n\u001b[1;32m   4378\u001b[0m     \u001b[0;32mdef\u001b[0m \u001b[0m__setattr__\u001b[0m\u001b[0;34m(\u001b[0m\u001b[0mself\u001b[0m\u001b[0;34m,\u001b[0m \u001b[0mname\u001b[0m\u001b[0;34m,\u001b[0m \u001b[0mvalue\u001b[0m\u001b[0;34m)\u001b[0m\u001b[0;34m:\u001b[0m\u001b[0;34m\u001b[0m\u001b[0m\n",
      "\u001b[0;31mAttributeError\u001b[0m: 'DataFrame' object has no attribute 'groups'"
     ]
    }
   ],
   "source": [
    "#Getting the keys from the group by\n",
    "a = ApopA.groups.keys()\n"
   ]
  },
  {
   "cell_type": "code",
   "execution_count": 255,
   "metadata": {},
   "outputs": [
    {
     "data": {
      "text/plain": [
       "4"
      ]
     },
     "execution_count": 255,
     "metadata": {},
     "output_type": "execute_result"
    }
   ],
   "source": [
    "a = list(a)\n",
    "b = a[1]\n",
    "b[0]\n"
   ]
  },
  {
   "cell_type": "code",
   "execution_count": 280,
   "metadata": {},
   "outputs": [],
   "source": [
    "def NumOfActivatedCD4 (data, pct):\n",
    "    #percentage comes in whole numbers\n",
    "    ppct = pct/100\n",
    "    data['CD4CD69_ct'] = data['CD4CT'] * ppct\n",
    "    return data"
   ]
  },
  {
   "cell_type": "code",
   "execution_count": null,
   "metadata": {},
   "outputs": [],
   "source": [
    "def func(group, CD69_pct):\n",
    "    group['CD4CD69_ct'] = group['CD4CT'] * CD69_pct\n",
    "    return group"
   ]
  },
  {
   "cell_type": "code",
   "execution_count": 290,
   "metadata": {
    "collapsed": true
   },
   "outputs": [
    {
     "name": "stderr",
     "output_type": "stream",
     "text": [
      "/home/jon/anaconda3/lib/python3.7/site-packages/ipykernel_launcher.py:6: SettingWithCopyWarning: \n",
      "A value is trying to be set on a copy of a slice from a DataFrame.\n",
      "Try using .loc[row_indexer,col_indexer] = value instead\n",
      "\n",
      "See the caveats in the documentation: http://pandas.pydata.org/pandas-docs/stable/indexing.html#indexing-view-versus-copy\n",
      "  \n"
     ]
    }
   ],
   "source": [
    "for key, group in GrpApopA:\n",
    "    #Get the CD69 Percentage\n",
    "    CD69_pct = AGmCD69.loc[(AGmCD69['Age'] == key[0]) & (AGmCD69['Genotype']==str(key[1]))]['CD4CD69_pct'].iloc[0]\n",
    "    #percentage comes in whole numbers\n",
    "    CD69_pct = CD69_pct/100\n",
    "    group['CD4CD69_ct'] = group['CD4CT'] * CD69_pct\n",
    "#     print(group)\n",
    "#     print()"
   ]
  },
  {
   "cell_type": "markdown",
   "metadata": {},
   "source": [
    "# What is wrong with this damn function?"
   ]
  },
  {
   "cell_type": "code",
   "execution_count": null,
   "metadata": {},
   "outputs": [],
   "source": [
    "def NumOfActivatedCD4(grp):\n",
    "#     age = grp.name[0]\n",
    "#     Genotype = str(grp.name[1])\n",
    "# '''\n",
    "# This takes the CD4CD69 positive percentages and multiplies it to the CD4 count\n",
    "# this is completely reliant on the CD69 data set to have two columns as a conditional, and the keys of our groupby \n",
    "# determines what those conidtions are\n",
    "# '''\n",
    "    pct = AGmCD69.loc[(AGmCD69['Age'] == grp.name[0]) & (AGmCD69['Genotype']==str(grp.name[1]))]['CD4CD69_pct'].iloc[0]\n",
    "    pct = pct / 100\n",
    "    return grp * pct"
   ]
  },
  {
   "cell_type": "code",
   "execution_count": 368,
   "metadata": {},
   "outputs": [],
   "source": [
    "def IsItTheKeys(grp):\n",
    "    pct = AGmCD69.loc[(AGmCD69['Age'] == grp.name[0]) & (AGmCD69['Genotype']==str(grp.name[1]))]['CD4CD69_pct'].iloc[0]\n",
    "    print(grp.name)\n",
    "    print(grp.name[0])\n",
    "    print(grp.name[1])\n",
    "    print(pct)\n",
    "    "
   ]
  },
  {
   "cell_type": "code",
   "execution_count": null,
   "metadata": {},
   "outputs": [],
   "source": [
    "# Removing Ages that we do not have information on in the pop file\n",
    "\n",
    "CD69Ages = [0,4,7,9,12,14,15,16,18,20]\n",
    "ActivatedCD4pop = pop[pop.intage.isin(CD69Ages)]\n",
    "# GmCD69 - the CD69 data"
   ]
  },
  {
   "cell_type": "code",
   "execution_count": 380,
   "metadata": {
    "collapsed": true
   },
   "outputs": [
    {
     "ename": "IndexError",
     "evalue": "single positional indexer is out-of-bounds",
     "output_type": "error",
     "traceback": [
      "\u001b[0;31m---------------------------------------------------------------------------\u001b[0m",
      "\u001b[0;31mIndexError\u001b[0m                                Traceback (most recent call last)",
      "\u001b[0;32m~/anaconda3/lib/python3.7/site-packages/pandas/core/groupby/groupby.py\u001b[0m in \u001b[0;36mapply\u001b[0;34m(self, func, *args, **kwargs)\u001b[0m\n\u001b[1;32m    917\u001b[0m             \u001b[0;32mtry\u001b[0m\u001b[0;34m:\u001b[0m\u001b[0;34m\u001b[0m\u001b[0m\n\u001b[0;32m--> 918\u001b[0;31m                 \u001b[0mresult\u001b[0m \u001b[0;34m=\u001b[0m \u001b[0mself\u001b[0m\u001b[0;34m.\u001b[0m\u001b[0m_python_apply_general\u001b[0m\u001b[0;34m(\u001b[0m\u001b[0mf\u001b[0m\u001b[0;34m)\u001b[0m\u001b[0;34m\u001b[0m\u001b[0m\n\u001b[0m\u001b[1;32m    919\u001b[0m             \u001b[0;32mexcept\u001b[0m \u001b[0mException\u001b[0m\u001b[0;34m:\u001b[0m\u001b[0;34m\u001b[0m\u001b[0m\n",
      "\u001b[0;32m~/anaconda3/lib/python3.7/site-packages/pandas/core/groupby/groupby.py\u001b[0m in \u001b[0;36m_python_apply_general\u001b[0;34m(self, f)\u001b[0m\n\u001b[1;32m    935\u001b[0m         keys, values, mutated = self.grouper.apply(f, self._selected_obj,\n\u001b[0;32m--> 936\u001b[0;31m                                                    self.axis)\n\u001b[0m\u001b[1;32m    937\u001b[0m \u001b[0;34m\u001b[0m\u001b[0m\n",
      "\u001b[0;32m~/anaconda3/lib/python3.7/site-packages/pandas/core/groupby/groupby.py\u001b[0m in \u001b[0;36mapply\u001b[0;34m(self, f, data, axis)\u001b[0m\n\u001b[1;32m   2272\u001b[0m             \u001b[0mgroup_axes\u001b[0m \u001b[0;34m=\u001b[0m \u001b[0m_get_axes\u001b[0m\u001b[0;34m(\u001b[0m\u001b[0mgroup\u001b[0m\u001b[0;34m)\u001b[0m\u001b[0;34m\u001b[0m\u001b[0m\n\u001b[0;32m-> 2273\u001b[0;31m             \u001b[0mres\u001b[0m \u001b[0;34m=\u001b[0m \u001b[0mf\u001b[0m\u001b[0;34m(\u001b[0m\u001b[0mgroup\u001b[0m\u001b[0;34m)\u001b[0m\u001b[0;34m\u001b[0m\u001b[0m\n\u001b[0m\u001b[1;32m   2274\u001b[0m             \u001b[0;32mif\u001b[0m \u001b[0;32mnot\u001b[0m \u001b[0m_is_indexed_like\u001b[0m\u001b[0;34m(\u001b[0m\u001b[0mres\u001b[0m\u001b[0;34m,\u001b[0m \u001b[0mgroup_axes\u001b[0m\u001b[0;34m)\u001b[0m\u001b[0;34m:\u001b[0m\u001b[0;34m\u001b[0m\u001b[0m\n",
      "\u001b[0;32m<ipython-input-376-792fa924596a>\u001b[0m in \u001b[0;36mNumOfActivatedCD4\u001b[0;34m(grp)\u001b[0m\n\u001b[1;32m      8\u001b[0m \u001b[0;31m# '''\u001b[0m\u001b[0;34m\u001b[0m\u001b[0;34m\u001b[0m\u001b[0m\n\u001b[0;32m----> 9\u001b[0;31m     \u001b[0mpct\u001b[0m \u001b[0;34m=\u001b[0m \u001b[0mGmCD69\u001b[0m\u001b[0;34m.\u001b[0m\u001b[0mloc\u001b[0m\u001b[0;34m[\u001b[0m\u001b[0;34m(\u001b[0m\u001b[0mGmCD69\u001b[0m\u001b[0;34m[\u001b[0m\u001b[0;34m'Age'\u001b[0m\u001b[0;34m]\u001b[0m \u001b[0;34m==\u001b[0m \u001b[0mgrp\u001b[0m\u001b[0;34m.\u001b[0m\u001b[0mname\u001b[0m\u001b[0;34m[\u001b[0m\u001b[0;36m0\u001b[0m\u001b[0;34m]\u001b[0m\u001b[0;34m)\u001b[0m \u001b[0;34m&\u001b[0m \u001b[0;34m(\u001b[0m\u001b[0mGmCD69\u001b[0m\u001b[0;34m[\u001b[0m\u001b[0;34m'Genotype'\u001b[0m\u001b[0;34m]\u001b[0m\u001b[0;34m==\u001b[0m\u001b[0mstr\u001b[0m\u001b[0;34m(\u001b[0m\u001b[0mgrp\u001b[0m\u001b[0;34m.\u001b[0m\u001b[0mname\u001b[0m\u001b[0;34m[\u001b[0m\u001b[0;36m1\u001b[0m\u001b[0;34m]\u001b[0m\u001b[0;34m)\u001b[0m\u001b[0;34m)\u001b[0m\u001b[0;34m]\u001b[0m\u001b[0;34m[\u001b[0m\u001b[0;34m'CD4CD69_pct'\u001b[0m\u001b[0;34m]\u001b[0m\u001b[0;34m.\u001b[0m\u001b[0miloc\u001b[0m\u001b[0;34m[\u001b[0m\u001b[0;36m0\u001b[0m\u001b[0;34m]\u001b[0m\u001b[0;34m\u001b[0m\u001b[0m\n\u001b[0m\u001b[1;32m     10\u001b[0m     \u001b[0mpct\u001b[0m \u001b[0;34m=\u001b[0m \u001b[0mpct\u001b[0m \u001b[0;34m/\u001b[0m \u001b[0;36m100\u001b[0m\u001b[0;34m\u001b[0m\u001b[0m\n",
      "\u001b[0;32m~/anaconda3/lib/python3.7/site-packages/pandas/core/indexing.py\u001b[0m in \u001b[0;36m__getitem__\u001b[0;34m(self, key)\u001b[0m\n\u001b[1;32m   1477\u001b[0m             \u001b[0mmaybe_callable\u001b[0m \u001b[0;34m=\u001b[0m \u001b[0mcom\u001b[0m\u001b[0;34m.\u001b[0m\u001b[0m_apply_if_callable\u001b[0m\u001b[0;34m(\u001b[0m\u001b[0mkey\u001b[0m\u001b[0;34m,\u001b[0m \u001b[0mself\u001b[0m\u001b[0;34m.\u001b[0m\u001b[0mobj\u001b[0m\u001b[0;34m)\u001b[0m\u001b[0;34m\u001b[0m\u001b[0m\n\u001b[0;32m-> 1478\u001b[0;31m             \u001b[0;32mreturn\u001b[0m \u001b[0mself\u001b[0m\u001b[0;34m.\u001b[0m\u001b[0m_getitem_axis\u001b[0m\u001b[0;34m(\u001b[0m\u001b[0mmaybe_callable\u001b[0m\u001b[0;34m,\u001b[0m \u001b[0maxis\u001b[0m\u001b[0;34m=\u001b[0m\u001b[0maxis\u001b[0m\u001b[0;34m)\u001b[0m\u001b[0;34m\u001b[0m\u001b[0m\n\u001b[0m\u001b[1;32m   1479\u001b[0m \u001b[0;34m\u001b[0m\u001b[0m\n",
      "\u001b[0;32m~/anaconda3/lib/python3.7/site-packages/pandas/core/indexing.py\u001b[0m in \u001b[0;36m_getitem_axis\u001b[0;34m(self, key, axis)\u001b[0m\n\u001b[1;32m   2101\u001b[0m             \u001b[0;31m# validate the location\u001b[0m\u001b[0;34m\u001b[0m\u001b[0;34m\u001b[0m\u001b[0m\n\u001b[0;32m-> 2102\u001b[0;31m             \u001b[0mself\u001b[0m\u001b[0;34m.\u001b[0m\u001b[0m_validate_integer\u001b[0m\u001b[0;34m(\u001b[0m\u001b[0mkey\u001b[0m\u001b[0;34m,\u001b[0m \u001b[0maxis\u001b[0m\u001b[0;34m)\u001b[0m\u001b[0;34m\u001b[0m\u001b[0m\n\u001b[0m\u001b[1;32m   2103\u001b[0m \u001b[0;34m\u001b[0m\u001b[0m\n",
      "\u001b[0;32m~/anaconda3/lib/python3.7/site-packages/pandas/core/indexing.py\u001b[0m in \u001b[0;36m_validate_integer\u001b[0;34m(self, key, axis)\u001b[0m\n\u001b[1;32m   2008\u001b[0m         \u001b[0;32mif\u001b[0m \u001b[0mkey\u001b[0m \u001b[0;34m>=\u001b[0m \u001b[0ml\u001b[0m \u001b[0;32mor\u001b[0m \u001b[0mkey\u001b[0m \u001b[0;34m<\u001b[0m \u001b[0;34m-\u001b[0m\u001b[0ml\u001b[0m\u001b[0;34m:\u001b[0m\u001b[0;34m\u001b[0m\u001b[0m\n\u001b[0;32m-> 2009\u001b[0;31m             \u001b[0;32mraise\u001b[0m \u001b[0mIndexError\u001b[0m\u001b[0;34m(\u001b[0m\u001b[0;34m\"single positional indexer is out-of-bounds\"\u001b[0m\u001b[0;34m)\u001b[0m\u001b[0;34m\u001b[0m\u001b[0m\n\u001b[0m\u001b[1;32m   2010\u001b[0m \u001b[0;34m\u001b[0m\u001b[0m\n",
      "\u001b[0;31mIndexError\u001b[0m: single positional indexer is out-of-bounds",
      "\nDuring handling of the above exception, another exception occurred:\n",
      "\u001b[0;31mIndexError\u001b[0m                                Traceback (most recent call last)",
      "\u001b[0;32m<ipython-input-380-bbd039df2356>\u001b[0m in \u001b[0;36m<module>\u001b[0;34m()\u001b[0m\n\u001b[0;32m----> 1\u001b[0;31m \u001b[0mpop\u001b[0m\u001b[0;34m[\u001b[0m\u001b[0;34m'ActivatedCD4CT'\u001b[0m\u001b[0;34m]\u001b[0m \u001b[0;34m=\u001b[0m \u001b[0mpop\u001b[0m\u001b[0;34m.\u001b[0m\u001b[0mgroupby\u001b[0m\u001b[0;34m(\u001b[0m \u001b[0;34m[\u001b[0m \u001b[0;34m\"intage\"\u001b[0m\u001b[0;34m,\u001b[0m \u001b[0;34m\"Genotype\"\u001b[0m\u001b[0;34m]\u001b[0m \u001b[0;34m)\u001b[0m\u001b[0;34m[\u001b[0m\u001b[0;34m'CD4CT'\u001b[0m\u001b[0;34m]\u001b[0m\u001b[0;34m.\u001b[0m\u001b[0mapply\u001b[0m\u001b[0;34m(\u001b[0m\u001b[0mNumOfActivatedCD4\u001b[0m\u001b[0;34m)\u001b[0m\u001b[0;34m\u001b[0m\u001b[0m\n\u001b[0m",
      "\u001b[0;32m~/anaconda3/lib/python3.7/site-packages/pandas/core/groupby/groupby.py\u001b[0m in \u001b[0;36mapply\u001b[0;34m(self, func, *args, **kwargs)\u001b[0m\n\u001b[1;32m   3467\u001b[0m                       examples=_apply_docs['series_examples']))\n\u001b[1;32m   3468\u001b[0m     \u001b[0;32mdef\u001b[0m \u001b[0mapply\u001b[0m\u001b[0;34m(\u001b[0m\u001b[0mself\u001b[0m\u001b[0;34m,\u001b[0m \u001b[0mfunc\u001b[0m\u001b[0;34m,\u001b[0m \u001b[0;34m*\u001b[0m\u001b[0margs\u001b[0m\u001b[0;34m,\u001b[0m \u001b[0;34m**\u001b[0m\u001b[0mkwargs\u001b[0m\u001b[0;34m)\u001b[0m\u001b[0;34m:\u001b[0m\u001b[0;34m\u001b[0m\u001b[0m\n\u001b[0;32m-> 3469\u001b[0;31m         \u001b[0;32mreturn\u001b[0m \u001b[0msuper\u001b[0m\u001b[0;34m(\u001b[0m\u001b[0mSeriesGroupBy\u001b[0m\u001b[0;34m,\u001b[0m \u001b[0mself\u001b[0m\u001b[0;34m)\u001b[0m\u001b[0;34m.\u001b[0m\u001b[0mapply\u001b[0m\u001b[0;34m(\u001b[0m\u001b[0mfunc\u001b[0m\u001b[0;34m,\u001b[0m \u001b[0;34m*\u001b[0m\u001b[0margs\u001b[0m\u001b[0;34m,\u001b[0m \u001b[0;34m**\u001b[0m\u001b[0mkwargs\u001b[0m\u001b[0;34m)\u001b[0m\u001b[0;34m\u001b[0m\u001b[0m\n\u001b[0m\u001b[1;32m   3470\u001b[0m \u001b[0;34m\u001b[0m\u001b[0m\n\u001b[1;32m   3471\u001b[0m     \u001b[0;34m@\u001b[0m\u001b[0mAppender\u001b[0m\u001b[0;34m(\u001b[0m\u001b[0m_agg_doc\u001b[0m\u001b[0;34m)\u001b[0m\u001b[0;34m\u001b[0m\u001b[0m\n",
      "\u001b[0;32m~/anaconda3/lib/python3.7/site-packages/pandas/core/groupby/groupby.py\u001b[0m in \u001b[0;36mapply\u001b[0;34m(self, func, *args, **kwargs)\u001b[0m\n\u001b[1;32m    928\u001b[0m \u001b[0;34m\u001b[0m\u001b[0m\n\u001b[1;32m    929\u001b[0m                 \u001b[0;32mwith\u001b[0m \u001b[0m_group_selection_context\u001b[0m\u001b[0;34m(\u001b[0m\u001b[0mself\u001b[0m\u001b[0;34m)\u001b[0m\u001b[0;34m:\u001b[0m\u001b[0;34m\u001b[0m\u001b[0m\n\u001b[0;32m--> 930\u001b[0;31m                     \u001b[0;32mreturn\u001b[0m \u001b[0mself\u001b[0m\u001b[0;34m.\u001b[0m\u001b[0m_python_apply_general\u001b[0m\u001b[0;34m(\u001b[0m\u001b[0mf\u001b[0m\u001b[0;34m)\u001b[0m\u001b[0;34m\u001b[0m\u001b[0m\n\u001b[0m\u001b[1;32m    931\u001b[0m \u001b[0;34m\u001b[0m\u001b[0m\n\u001b[1;32m    932\u001b[0m         \u001b[0;32mreturn\u001b[0m \u001b[0mresult\u001b[0m\u001b[0;34m\u001b[0m\u001b[0m\n",
      "\u001b[0;32m~/anaconda3/lib/python3.7/site-packages/pandas/core/groupby/groupby.py\u001b[0m in \u001b[0;36m_python_apply_general\u001b[0;34m(self, f)\u001b[0m\n\u001b[1;32m    934\u001b[0m     \u001b[0;32mdef\u001b[0m \u001b[0m_python_apply_general\u001b[0m\u001b[0;34m(\u001b[0m\u001b[0mself\u001b[0m\u001b[0;34m,\u001b[0m \u001b[0mf\u001b[0m\u001b[0;34m)\u001b[0m\u001b[0;34m:\u001b[0m\u001b[0;34m\u001b[0m\u001b[0m\n\u001b[1;32m    935\u001b[0m         keys, values, mutated = self.grouper.apply(f, self._selected_obj,\n\u001b[0;32m--> 936\u001b[0;31m                                                    self.axis)\n\u001b[0m\u001b[1;32m    937\u001b[0m \u001b[0;34m\u001b[0m\u001b[0m\n\u001b[1;32m    938\u001b[0m         return self._wrap_applied_output(\n",
      "\u001b[0;32m~/anaconda3/lib/python3.7/site-packages/pandas/core/groupby/groupby.py\u001b[0m in \u001b[0;36mapply\u001b[0;34m(self, f, data, axis)\u001b[0m\n\u001b[1;32m   2271\u001b[0m             \u001b[0;31m# group might be modified\u001b[0m\u001b[0;34m\u001b[0m\u001b[0;34m\u001b[0m\u001b[0m\n\u001b[1;32m   2272\u001b[0m             \u001b[0mgroup_axes\u001b[0m \u001b[0;34m=\u001b[0m \u001b[0m_get_axes\u001b[0m\u001b[0;34m(\u001b[0m\u001b[0mgroup\u001b[0m\u001b[0;34m)\u001b[0m\u001b[0;34m\u001b[0m\u001b[0m\n\u001b[0;32m-> 2273\u001b[0;31m             \u001b[0mres\u001b[0m \u001b[0;34m=\u001b[0m \u001b[0mf\u001b[0m\u001b[0;34m(\u001b[0m\u001b[0mgroup\u001b[0m\u001b[0;34m)\u001b[0m\u001b[0;34m\u001b[0m\u001b[0m\n\u001b[0m\u001b[1;32m   2274\u001b[0m             \u001b[0;32mif\u001b[0m \u001b[0;32mnot\u001b[0m \u001b[0m_is_indexed_like\u001b[0m\u001b[0;34m(\u001b[0m\u001b[0mres\u001b[0m\u001b[0;34m,\u001b[0m \u001b[0mgroup_axes\u001b[0m\u001b[0;34m)\u001b[0m\u001b[0;34m:\u001b[0m\u001b[0;34m\u001b[0m\u001b[0m\n\u001b[1;32m   2275\u001b[0m                 \u001b[0mmutated\u001b[0m \u001b[0;34m=\u001b[0m \u001b[0;32mTrue\u001b[0m\u001b[0;34m\u001b[0m\u001b[0m\n",
      "\u001b[0;32m<ipython-input-376-792fa924596a>\u001b[0m in \u001b[0;36mNumOfActivatedCD4\u001b[0;34m(grp)\u001b[0m\n\u001b[1;32m      7\u001b[0m \u001b[0;31m# determines what those conidtions are\u001b[0m\u001b[0;34m\u001b[0m\u001b[0;34m\u001b[0m\u001b[0m\n\u001b[1;32m      8\u001b[0m \u001b[0;31m# '''\u001b[0m\u001b[0;34m\u001b[0m\u001b[0;34m\u001b[0m\u001b[0m\n\u001b[0;32m----> 9\u001b[0;31m     \u001b[0mpct\u001b[0m \u001b[0;34m=\u001b[0m \u001b[0mGmCD69\u001b[0m\u001b[0;34m.\u001b[0m\u001b[0mloc\u001b[0m\u001b[0;34m[\u001b[0m\u001b[0;34m(\u001b[0m\u001b[0mGmCD69\u001b[0m\u001b[0;34m[\u001b[0m\u001b[0;34m'Age'\u001b[0m\u001b[0;34m]\u001b[0m \u001b[0;34m==\u001b[0m \u001b[0mgrp\u001b[0m\u001b[0;34m.\u001b[0m\u001b[0mname\u001b[0m\u001b[0;34m[\u001b[0m\u001b[0;36m0\u001b[0m\u001b[0;34m]\u001b[0m\u001b[0;34m)\u001b[0m \u001b[0;34m&\u001b[0m \u001b[0;34m(\u001b[0m\u001b[0mGmCD69\u001b[0m\u001b[0;34m[\u001b[0m\u001b[0;34m'Genotype'\u001b[0m\u001b[0;34m]\u001b[0m\u001b[0;34m==\u001b[0m\u001b[0mstr\u001b[0m\u001b[0;34m(\u001b[0m\u001b[0mgrp\u001b[0m\u001b[0;34m.\u001b[0m\u001b[0mname\u001b[0m\u001b[0;34m[\u001b[0m\u001b[0;36m1\u001b[0m\u001b[0;34m]\u001b[0m\u001b[0;34m)\u001b[0m\u001b[0;34m)\u001b[0m\u001b[0;34m]\u001b[0m\u001b[0;34m[\u001b[0m\u001b[0;34m'CD4CD69_pct'\u001b[0m\u001b[0;34m]\u001b[0m\u001b[0;34m.\u001b[0m\u001b[0miloc\u001b[0m\u001b[0;34m[\u001b[0m\u001b[0;36m0\u001b[0m\u001b[0;34m]\u001b[0m\u001b[0;34m\u001b[0m\u001b[0m\n\u001b[0m\u001b[1;32m     10\u001b[0m     \u001b[0mpct\u001b[0m \u001b[0;34m=\u001b[0m \u001b[0mpct\u001b[0m \u001b[0;34m/\u001b[0m \u001b[0;36m100\u001b[0m\u001b[0;34m\u001b[0m\u001b[0m\n\u001b[1;32m     11\u001b[0m     \u001b[0;32mreturn\u001b[0m \u001b[0mgrp\u001b[0m \u001b[0;34m*\u001b[0m \u001b[0mpct\u001b[0m\u001b[0;34m\u001b[0m\u001b[0m\n",
      "\u001b[0;32m~/anaconda3/lib/python3.7/site-packages/pandas/core/indexing.py\u001b[0m in \u001b[0;36m__getitem__\u001b[0;34m(self, key)\u001b[0m\n\u001b[1;32m   1476\u001b[0m \u001b[0;34m\u001b[0m\u001b[0m\n\u001b[1;32m   1477\u001b[0m             \u001b[0mmaybe_callable\u001b[0m \u001b[0;34m=\u001b[0m \u001b[0mcom\u001b[0m\u001b[0;34m.\u001b[0m\u001b[0m_apply_if_callable\u001b[0m\u001b[0;34m(\u001b[0m\u001b[0mkey\u001b[0m\u001b[0;34m,\u001b[0m \u001b[0mself\u001b[0m\u001b[0;34m.\u001b[0m\u001b[0mobj\u001b[0m\u001b[0;34m)\u001b[0m\u001b[0;34m\u001b[0m\u001b[0m\n\u001b[0;32m-> 1478\u001b[0;31m             \u001b[0;32mreturn\u001b[0m \u001b[0mself\u001b[0m\u001b[0;34m.\u001b[0m\u001b[0m_getitem_axis\u001b[0m\u001b[0;34m(\u001b[0m\u001b[0mmaybe_callable\u001b[0m\u001b[0;34m,\u001b[0m \u001b[0maxis\u001b[0m\u001b[0;34m=\u001b[0m\u001b[0maxis\u001b[0m\u001b[0;34m)\u001b[0m\u001b[0;34m\u001b[0m\u001b[0m\n\u001b[0m\u001b[1;32m   1479\u001b[0m \u001b[0;34m\u001b[0m\u001b[0m\n\u001b[1;32m   1480\u001b[0m     \u001b[0;32mdef\u001b[0m \u001b[0m_is_scalar_access\u001b[0m\u001b[0;34m(\u001b[0m\u001b[0mself\u001b[0m\u001b[0;34m,\u001b[0m \u001b[0mkey\u001b[0m\u001b[0;34m)\u001b[0m\u001b[0;34m:\u001b[0m\u001b[0;34m\u001b[0m\u001b[0m\n",
      "\u001b[0;32m~/anaconda3/lib/python3.7/site-packages/pandas/core/indexing.py\u001b[0m in \u001b[0;36m_getitem_axis\u001b[0;34m(self, key, axis)\u001b[0m\n\u001b[1;32m   2100\u001b[0m \u001b[0;34m\u001b[0m\u001b[0m\n\u001b[1;32m   2101\u001b[0m             \u001b[0;31m# validate the location\u001b[0m\u001b[0;34m\u001b[0m\u001b[0;34m\u001b[0m\u001b[0m\n\u001b[0;32m-> 2102\u001b[0;31m             \u001b[0mself\u001b[0m\u001b[0;34m.\u001b[0m\u001b[0m_validate_integer\u001b[0m\u001b[0;34m(\u001b[0m\u001b[0mkey\u001b[0m\u001b[0;34m,\u001b[0m \u001b[0maxis\u001b[0m\u001b[0;34m)\u001b[0m\u001b[0;34m\u001b[0m\u001b[0m\n\u001b[0m\u001b[1;32m   2103\u001b[0m \u001b[0;34m\u001b[0m\u001b[0m\n\u001b[1;32m   2104\u001b[0m             \u001b[0;32mreturn\u001b[0m \u001b[0mself\u001b[0m\u001b[0;34m.\u001b[0m\u001b[0m_get_loc\u001b[0m\u001b[0;34m(\u001b[0m\u001b[0mkey\u001b[0m\u001b[0;34m,\u001b[0m \u001b[0maxis\u001b[0m\u001b[0;34m=\u001b[0m\u001b[0maxis\u001b[0m\u001b[0;34m)\u001b[0m\u001b[0;34m\u001b[0m\u001b[0m\n",
      "\u001b[0;32m~/anaconda3/lib/python3.7/site-packages/pandas/core/indexing.py\u001b[0m in \u001b[0;36m_validate_integer\u001b[0;34m(self, key, axis)\u001b[0m\n\u001b[1;32m   2007\u001b[0m         \u001b[0ml\u001b[0m \u001b[0;34m=\u001b[0m \u001b[0mlen\u001b[0m\u001b[0;34m(\u001b[0m\u001b[0max\u001b[0m\u001b[0;34m)\u001b[0m\u001b[0;34m\u001b[0m\u001b[0m\n\u001b[1;32m   2008\u001b[0m         \u001b[0;32mif\u001b[0m \u001b[0mkey\u001b[0m \u001b[0;34m>=\u001b[0m \u001b[0ml\u001b[0m \u001b[0;32mor\u001b[0m \u001b[0mkey\u001b[0m \u001b[0;34m<\u001b[0m \u001b[0;34m-\u001b[0m\u001b[0ml\u001b[0m\u001b[0;34m:\u001b[0m\u001b[0;34m\u001b[0m\u001b[0m\n\u001b[0;32m-> 2009\u001b[0;31m             \u001b[0;32mraise\u001b[0m \u001b[0mIndexError\u001b[0m\u001b[0;34m(\u001b[0m\u001b[0;34m\"single positional indexer is out-of-bounds\"\u001b[0m\u001b[0;34m)\u001b[0m\u001b[0;34m\u001b[0m\u001b[0m\n\u001b[0m\u001b[1;32m   2010\u001b[0m \u001b[0;34m\u001b[0m\u001b[0m\n\u001b[1;32m   2011\u001b[0m     \u001b[0;32mdef\u001b[0m \u001b[0m_getitem_tuple\u001b[0m\u001b[0;34m(\u001b[0m\u001b[0mself\u001b[0m\u001b[0;34m,\u001b[0m \u001b[0mtup\u001b[0m\u001b[0;34m)\u001b[0m\u001b[0;34m:\u001b[0m\u001b[0;34m\u001b[0m\u001b[0m\n",
      "\u001b[0;31mIndexError\u001b[0m: single positional indexer is out-of-bounds"
     ]
    }
   ],
   "source": [
    "pop['ActivatedCD4CT'] = pop.groupby( [ \"intage\", \"Genotype\"] )['CD4CT'].apply(NumOfActivatedCD4)"
   ]
  },
  {
   "cell_type": "markdown",
   "metadata": {},
   "source": [
    "# Plotting the results of the Activated Functions"
   ]
  },
  {
   "cell_type": "code",
   "execution_count": 30,
   "metadata": {},
   "outputs": [],
   "source": [
    "ActivatedCD4pop.to_csv('/home/jon/my.work/PhD/Homestatic Expansion Project/ModelData/ActivatedCD4pop.csv')"
   ]
  },
  {
   "cell_type": "code",
   "execution_count": 381,
   "metadata": {},
   "outputs": [],
   "source": [
    "ActivatedCD4pop['ActivatedCD4CT'] = ActivatedCD4pop.groupby( [ \"intage\", \"Genotype\"] )['CD4CT'].apply(NumOfActivatedCD4)"
   ]
  },
  {
   "cell_type": "code",
   "execution_count": 89,
   "metadata": {},
   "outputs": [
    {
     "data": {
      "image/png": "[encoded data removed]",
      "text/plain": [
       "<Figure size 432x288 with 1 Axes>"
      ]
     },
     "metadata": {
      "needs_background": "light"
     },
     "output_type": "display_data"
    }
   ],
   "source": [
    "ax = sns.scatterplot(y=\"ActivatedCD4CT\", x=\"intage\",\n",
    "                     hue=\"Genotype\", data=ActivatedCD4pop, style = \"Genotype\")"
   ]
  },
  {
   "cell_type": "code",
   "execution_count": 90,
   "metadata": {},
   "outputs": [
    {
     "data": {
      "text/plain": [
       "<seaborn.axisgrid.FacetGrid at 0x7f625b427a20>"
      ]
     },
     "execution_count": 90,
     "metadata": {},
     "output_type": "execute_result"
    },
    {
     "data": {
      "image/png": "[encoded data removed]",
      "text/plain": [
       "<Figure size 416.375x360 with 1 Axes>"
      ]
     },
     "metadata": {
      "needs_background": "light"
     },
     "output_type": "display_data"
    }
   ],
   "source": [
    "sns.lmplot(y=\"ActivatedCD4CT\", x=\"intage\",\n",
    "                     hue=\"Genotype\", data=ActivatedCD4pop)\n"
   ]
  },
  {
   "cell_type": "markdown",
   "metadata": {},
   "source": [
    "# Moving all of the practice code down here"
   ]
  },
  {
   "cell_type": "code",
   "execution_count": 45,
   "metadata": {},
   "outputs": [
    {
     "data": {
      "text/plain": [
       "['intage', 'Genotype', 'CD4CT']"
      ]
     },
     "execution_count": 45,
     "metadata": {},
     "output_type": "execute_result"
    }
   ],
   "source": [
    "popA = pop[['intage', 'Genotype', 'CD4CT']]\n",
    "list(popA)"
   ]
  },
  {
   "cell_type": "code",
   "execution_count": 44,
   "metadata": {},
   "outputs": [],
   "source": [
    "popAG = popA.groupby(['intage', 'Genotype'])"
   ]
  },
  {
   "cell_type": "code",
   "execution_count": 17,
   "metadata": {
    "scrolled": true
   },
   "outputs": [
    {
     "name": "stdout",
     "output_type": "stream",
     "text": [
      "(0, 'KO')\n",
      "(0, 'WT')\n",
      "(4, 'KO')\n",
      "(4, 'WT')\n",
      "(7, 'KO')\n",
      "(7, 'WT')\n",
      "(9, 'KO')\n",
      "(9, 'WT')\n",
      "(12, 'KO')\n",
      "(12, 'WT')\n",
      "(14, 'KO')\n",
      "(14, 'WT')\n",
      "(18, 'KO')\n",
      "(18, 'WT')\n",
      "(56, 'WT')\n"
     ]
    }
   ],
   "source": [
    "for name, group in popAG: \n",
    "    # print the name of the regiment\n",
    "    print(name)"
   ]
  },
  {
   "cell_type": "code",
   "execution_count": 81,
   "metadata": {
    "scrolled": false
   },
   "outputs": [
    {
     "name": "stdout",
     "output_type": "stream",
     "text": [
      "(0, 'KO')\n",
      "(0, 'KO')\n",
      "(0, 'WT')\n",
      "(4, 'KO')\n",
      "(4, 'WT')\n",
      "(7, 'KO')\n",
      "(7, 'WT')\n",
      "(9, 'KO')\n",
      "(9, 'WT')\n",
      "(12, 'KO')\n",
      "(12, 'WT')\n",
      "(14, 'KO')\n",
      "(14, 'WT')\n",
      "(18, 'KO')\n",
      "(18, 'WT')\n"
     ]
    },
    {
     "data": {
      "text/html": [
       "<div>\n",
       "<style scoped>\n",
       "    .dataframe tbody tr th:only-of-type {\n",
       "        vertical-align: middle;\n",
       "    }\n",
       "\n",
       "    .dataframe tbody tr th {\n",
       "        vertical-align: top;\n",
       "    }\n",
       "\n",
       "    .dataframe thead th {\n",
       "        text-align: right;\n",
       "    }\n",
       "</style>\n",
       "<table border=\"1\" class=\"dataframe\">\n",
       "  <thead>\n",
       "    <tr style=\"text-align: right;\">\n",
       "      <th></th>\n",
       "    </tr>\n",
       "  </thead>\n",
       "  <tbody>\n",
       "  </tbody>\n",
       "</table>\n",
       "</div>"
      ],
      "text/plain": [
       "Empty DataFrame\n",
       "Columns: []\n",
       "Index: []"
      ]
     },
     "execution_count": 81,
     "metadata": {},
     "output_type": "execute_result"
    }
   ],
   "source": [
    "ActivatedCD4pop.groupby( [ \"intage\", \"Genotype\"] ).apply(lambda x: print(x.name) )"
   ]
  },
  {
   "cell_type": "code",
   "execution_count": null,
   "metadata": {},
   "outputs": [],
   "source": []
  },
  {
   "cell_type": "code",
   "execution_count": null,
   "metadata": {},
   "outputs": [],
   "source": []
  },
  {
   "cell_type": "code",
   "execution_count": null,
   "metadata": {},
   "outputs": [],
   "source": []
  },
  {
   "cell_type": "code",
   "execution_count": null,
   "metadata": {},
   "outputs": [],
   "source": []
  },
  {
   "cell_type": "code",
   "execution_count": null,
   "metadata": {},
   "outputs": [],
   "source": []
  },
  {
   "cell_type": "code",
   "execution_count": 151,
   "metadata": {},
   "outputs": [],
   "source": [
    "import pandas as pd\n",
    "import numpy as np\n",
    "from collections import Counter"
   ]
  },
  {
   "cell_type": "code",
   "execution_count": 152,
   "metadata": {},
   "outputs": [],
   "source": [
    "# Resource information\n",
    "# https://chrisalbon.com/python/data_wrangling/pandas_apply_operations_to_groups/"
   ]
  },
  {
   "cell_type": "markdown",
   "metadata": {},
   "source": [
    "### Preparing My Data"
   ]
  },
  {
   "cell_type": "code",
   "execution_count": 153,
   "metadata": {},
   "outputs": [],
   "source": [
    "pop = pd.read_csv(\"~/my.work/PhD/HomestaticExpansionProject/ModelData/NaiveTregDifferentiation.csv\")\n",
    "# Choosing spleen only data\n",
    "Splnpop = pop.loc[pop['Organ'] == 'Spleen']\n",
    "\n",
    "# Removing Ages that we do not have information on in the pop file\n",
    "CD69Ages = [0,4,7,9,12,14,15,16,18,20]\n",
    "ActivatedCD4pop = pop[pop.intage.isin(CD69Ages)].copy()"
   ]
  },
  {
   "cell_type": "markdown",
   "metadata": {},
   "source": [
    "### Preparing Genevieves Activation Data"
   ]
  },
  {
   "cell_type": "code",
   "execution_count": 154,
   "metadata": {},
   "outputs": [],
   "source": [
    "CD69df = pd.read_csv('~/my.work/PhD/HomestaticExpansionProject/ModelData/CD69DataFromGen.csv')\n",
    "\n",
    "# Changing IL-2-KO to KO so that the keys match properly\n",
    "CD69df.loc[CD69df['Genotype'] == 'IL-2-KO', ['Genotype']] = 'KO'\n",
    "#Selecting only the columns that we want\n",
    "ACD69df = CD69df[[ 'Age', 'Genotype', 'CD4CD69_pct']]"
   ]
  },
  {
   "cell_type": "markdown",
   "metadata": {},
   "source": [
    "# Prepping data to calculate activated CD4 T cells"
   ]
  },
  {
   "cell_type": "markdown",
   "metadata": {},
   "source": [
    "#### Regression formula found in the lm poly 4 in R for the CD69 data\n",
    "\n",
    "def WTFormula (Age):\n",
    "    return 19.7332352 - 3.1273219*Age + 0.0837712*Age**2 + 0.0138731*Age**3 - 0.0006277*Age**4\n",
    "def KOFormula (Age):\n",
    "    return (8.951248 + 2.383831*Age - 1.320315*Age**2 + 0.150795*Age**3 - 0.004591*Age**4)"
   ]
  },
  {
   "cell_type": "code",
   "execution_count": 155,
   "metadata": {},
   "outputs": [],
   "source": [
    "# w,k = WTFormula(9),KOFormula(9)\n",
    "# print(w,k)\n",
    "\n",
    "#Results from the polynomial\n",
    "FormResults = ([7, \"WT\",5.198136],\n",
    "              [7, \"KO\", 1.642324],\n",
    "              [9, \"WT\", 4.367956],\n",
    "              [9, \"KO\", 3.268216])\n",
    "\n",
    "\n",
    "#Grouping and finding the mean\n",
    "GmCD69 = ACD69df.groupby( [ \"Age\", \"Genotype\"] ).mean().reset_index()\n",
    "\n",
    "#Adding the results from the formula to the groupby mean results of CD69 data\n",
    "for i in FormResults:\n",
    "    GmCD69.loc[len(GmCD69)] = i\n",
    "    "
   ]
  },
  {
   "cell_type": "markdown",
   "metadata": {},
   "source": [
    "# Calculating all activated CD4 T cells"
   ]
  },
  {
   "cell_type": "code",
   "execution_count": 156,
   "metadata": {},
   "outputs": [],
   "source": [
    "def NumOfActivatedCD4(grp):\n",
    "    '''\n",
    "    This will take one pop group and finds the equivalent group from the GmCD69 group, \n",
    "    then takes the percentage from the appropriate GmCD69 percentage and multiplies it to the pop CD4CT group.\n",
    "    Requirement:\n",
    "         age = grp.name[0]\n",
    "         Genotype = str(grp.name[1])\n",
    "    '''\n",
    "\n",
    "#The CD4Tcell groups equivalent to the CD69 data groups. This \n",
    "    pct = GmCD69.loc[(GmCD69['Age'] == grp.name[0]) & (GmCD69['Genotype']==str(grp.name[1]))]['CD4CD69_pct'].iloc[0]\n",
    "    pct = pct / 100\n",
    "    return grp * pct\n",
    "    "
   ]
  },
  {
   "cell_type": "code",
   "execution_count": 157,
   "metadata": {},
   "outputs": [],
   "source": [
    "# Translation of the groupby: make groups out of age and Genotype, \n",
    "#then take the CD4CT value run it through the function\n",
    "ActivatedCD4pop['ActivatedCD4CT'] = ActivatedCD4pop.groupby( [ \"intage\", \"Genotype\"] )['NoTregCD4CT'].apply(NumOfActivatedCD4)"
   ]
  },
  {
   "cell_type": "code",
   "execution_count": 158,
   "metadata": {},
   "outputs": [],
   "source": [
    "ActivatedCD4pop.to_csv('/home/jon/my.work/PhD/HomestaticExpansionProject/ModelData/ActivatedCD4pop2.csv')"
   ]
  },
  {
   "cell_type": "code",
   "execution_count": null,
   "metadata": {},
   "outputs": [],
   "source": []
  }
 ],
 "metadata": {
  "kernelspec": {
   "display_name": "Python 3",
   "language": "python",
   "name": "python3"
  },
  "language_info": {
   "codemirror_mode": {
    "name": "ipython",
    "version": 3
   },
   "file_extension": ".py",
   "mimetype": "text/x-python",
   "name": "python",
   "nbconvert_exporter": "python",
   "pygments_lexer": "ipython3",
   "version": "3.7.0"
  }
 },
 "nbformat": 4,
 "nbformat_minor": 2
}
